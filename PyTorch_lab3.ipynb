{
  "nbformat": 4,
  "nbformat_minor": 0,
  "metadata": {
    "colab": {
      "name": "AlaaHesham_ Lab3_PyTorch.ipynb",
      "provenance": [],
      "collapsed_sections": []
    },
    "kernelspec": {
      "name": "python3",
      "display_name": "Python 3"
    }
  },
  "cells": [
    {
      "cell_type": "markdown",
      "metadata": {
        "id": "9u0QZrJpzZNu",
        "colab_type": "text"
      },
      "source": [
        "<h4 align=\"right\">10th of February 2020</h4>\n",
        "<h1 align=\"center\">Neural Networks and Deep Learning (CIE 555)</h1>\n",
        "<h2 align=\"center\">Lab 3: PyTorch</h2> <br>"
      ]
    },
    {
      "cell_type": "markdown",
      "metadata": {
        "id": "XixbXXcaLUVa",
        "colab_type": "text"
      },
      "source": [
        "PyTorch is an open-source machine learning framework developed by Facebook AI. It is designed to be fast and feel native.  "
      ]
    },
    {
      "cell_type": "markdown",
      "metadata": {
        "id": "TOGQrVyQYNX0",
        "colab_type": "text"
      },
      "source": [
        "###(1) Introduction to PyTorch"
      ]
    },
    {
      "cell_type": "code",
      "metadata": {
        "id": "VECBUbyVYpzU",
        "colab_type": "code",
        "colab": {}
      },
      "source": [
        "import torch\n",
        "import torch.nn as nn\n",
        "import torch.optim as optim\n",
        "import numpy as np\n",
        "from torch.autograd import Variable"
      ],
      "execution_count": 0,
      "outputs": []
    },
    {
      "cell_type": "code",
      "metadata": {
        "id": "JDlrfbxJYS_D",
        "colab_type": "code",
        "outputId": "d6f72822-8535-420b-eaf4-d911f13af901",
        "colab": {
          "base_uri": "https://localhost:8080/",
          "height": 102
        }
      },
      "source": [
        "#Tensors\n",
        "#Can be initialized from list, tuple, numpy array\n",
        "x = [[1,2,3],[4,5,6]]\n",
        "xten = torch.tensor(x, dtype=torch.float32) #xten = torch.tensor(x, dtype=torch.float32, device=torch.device('cpu'))\n",
        "print(xten)\n",
        "print(\"\")\n",
        "print(xten.size()) #like .shape in tensorflow and numpy\n",
        "print(xten.size()[1])"
      ],
      "execution_count": 0,
      "outputs": [
        {
          "output_type": "stream",
          "text": [
            "tensor([[1., 2., 3.],\n",
            "        [4., 5., 6.]])\n",
            "\n",
            "torch.Size([2, 3])\n",
            "3\n"
          ],
          "name": "stdout"
        }
      ]
    },
    {
      "cell_type": "code",
      "metadata": {
        "id": "vIGrmPz_RUyy",
        "colab_type": "code",
        "outputId": "c197920e-8a95-471a-81e7-3952562e190a",
        "colab": {
          "base_uri": "https://localhost:8080/",
          "height": 102
        }
      },
      "source": [
        "#Different tensor initializations\n",
        "x1 = torch.rand((2,3))\n",
        "x2 = torch.zeros((1,2))\n",
        "x2_like = torch.randn_like(x2)\n",
        "print(x1)\n",
        "print(x2)\n",
        "print(x2_like)\n",
        "print(torch.numel(x1))"
      ],
      "execution_count": 0,
      "outputs": [
        {
          "output_type": "stream",
          "text": [
            "tensor([[0.6412, 0.8583, 0.3636],\n",
            "        [0.0229, 0.1651, 0.0092]])\n",
            "tensor([[0., 0.]])\n",
            "tensor([[-0.9715,  0.4078]])\n",
            "6\n"
          ],
          "name": "stdout"
        }
      ]
    },
    {
      "cell_type": "code",
      "metadata": {
        "id": "-EUBUlTTV2xX",
        "colab_type": "code",
        "outputId": "763cc6c7-e44e-4da2-c656-2e760fb7b980",
        "colab": {
          "base_uri": "https://localhost:8080/",
          "height": 204
        }
      },
      "source": [
        "#Transpose and Inverse\n",
        "x1 = torch.randn((3,3))\n",
        "print(x1)\n",
        "print()\n",
        "print(torch.t(x1))\n",
        "print()\n",
        "print(torch.inverse(x1))"
      ],
      "execution_count": 0,
      "outputs": [
        {
          "output_type": "stream",
          "text": [
            "tensor([[ 0.0083,  0.6098,  2.8579],\n",
            "        [ 1.9654, -0.7473,  0.9886],\n",
            "        [ 1.0694,  0.2705,  1.0313]])\n",
            "\n",
            "tensor([[ 0.0083,  1.9654,  1.0694],\n",
            "        [ 0.6098, -0.7473,  0.2705],\n",
            "        [ 2.8579,  0.9886,  1.0313]])\n",
            "\n",
            "tensor([[-0.3241,  0.0450,  0.8549],\n",
            "        [-0.3027, -0.9515,  1.7510],\n",
            "        [ 0.4154,  0.2029, -0.3761]])\n"
          ],
          "name": "stdout"
        }
      ]
    },
    {
      "cell_type": "code",
      "metadata": {
        "id": "hEbEuVay0WvY",
        "colab_type": "code",
        "outputId": "e674993f-5491-49c4-9dc5-6542ca62e552",
        "colab": {
          "base_uri": "https://localhost:8080/",
          "height": 102
        }
      },
      "source": [
        "#Concatenation\n",
        "x0 = torch.tensor([[1,2,3]])\n",
        "x = torch.cat((x0,x0),0)\n",
        "print(x)\n",
        "print()\n",
        "#Select certain columns or rows\n",
        "ind = torch.index_select(x,1,torch.tensor([0,2]))\n",
        "print(ind)"
      ],
      "execution_count": 0,
      "outputs": [
        {
          "output_type": "stream",
          "text": [
            "tensor([[1, 2, 3],\n",
            "        [1, 2, 3]])\n",
            "\n",
            "tensor([[1, 3],\n",
            "        [1, 3]])\n"
          ],
          "name": "stdout"
        }
      ]
    },
    {
      "cell_type": "code",
      "metadata": {
        "id": "YeLVt3bk2VT_",
        "colab_type": "code",
        "outputId": "554a6131-9e71-44fb-a1c1-f0667c60dba8",
        "colab": {
          "base_uri": "https://localhost:8080/",
          "height": 34
        }
      },
      "source": [
        "#Reshaping\n",
        "x = torch.tensor([[1,2,3],[4,5,6]])\n",
        "y = torch.reshape(x,(1,-1))\n",
        "print(y)"
      ],
      "execution_count": 0,
      "outputs": [
        {
          "output_type": "stream",
          "text": [
            "tensor([[1, 2, 3, 4, 5, 6]])\n"
          ],
          "name": "stdout"
        }
      ]
    },
    {
      "cell_type": "code",
      "metadata": {
        "id": "kfJJZzRc4ywK",
        "colab_type": "code",
        "outputId": "a9bb3bed-fbd8-4411-947c-f736ad367843",
        "colab": {
          "base_uri": "https://localhost:8080/",
          "height": 85
        }
      },
      "source": [
        "###\n",
        "x = torch.randn((2,3))\n",
        "print(x)\n",
        "x = torch.clamp(x,min=0)\n",
        "print(x)"
      ],
      "execution_count": 0,
      "outputs": [
        {
          "output_type": "stream",
          "text": [
            "tensor([[ 0.7995,  0.6985, -0.3660],\n",
            "        [-0.6231,  0.6398, -0.5463]])\n",
            "tensor([[0.7995, 0.6985, 0.0000],\n",
            "        [0.0000, 0.6398, 0.0000]])\n"
          ],
          "name": "stdout"
        }
      ]
    },
    {
      "cell_type": "code",
      "metadata": {
        "id": "QmPYH0FH5MOZ",
        "colab_type": "code",
        "outputId": "a4b76d45-f23f-4314-ef45-3f1dfa71d8a1",
        "colab": {
          "base_uri": "https://localhost:8080/",
          "height": 51
        }
      },
      "source": [
        "#Mathematical Operations\n",
        "x = torch.tensor([[-1,2,3],[4,5,6]])\n",
        "y = torch.tensor([[2,2,2],[2,2,2]])\n",
        "z = torch.add(x,y) #Addition\n",
        "print(z)\n",
        "z = torch.sub(x,y) #Subtraction\n",
        "z = torch.mul(x,y) #Element-wise multiplication\n",
        "z = torch.matmul(x,torch.t(y)) #Matrix multiplication\n",
        "z = torch.div(x,y) #Element-wise division\n",
        "z = torch.abs(x)\n",
        "#z = torch.mean(x)\n",
        "#z = torch.exp(x)\n",
        "z = torch.pow(x,y)\n",
        "#z = torch.sigmoid(x)\n",
        "z = torch.sum(y)\n"
      ],
      "execution_count": 0,
      "outputs": [
        {
          "output_type": "stream",
          "text": [
            "tensor([[1, 4, 5],\n",
            "        [6, 7, 8]])\n"
          ],
          "name": "stdout"
        }
      ]
    },
    {
      "cell_type": "code",
      "metadata": {
        "id": "bf0KtlYCHqrN",
        "colab_type": "code",
        "outputId": "1bec73cc-4e92-4c2c-90ed-28495a7ff47d",
        "colab": {
          "base_uri": "https://localhost:8080/",
          "height": 51
        }
      },
      "source": [
        "## Get item of one-element torch tensor\n",
        "r = torch.tensor(5)\n",
        "print(r)\n",
        "w = r.item()\n",
        "print(w)"
      ],
      "execution_count": 0,
      "outputs": [
        {
          "output_type": "stream",
          "text": [
            "tensor(5)\n",
            "5\n"
          ],
          "name": "stdout"
        }
      ]
    },
    {
      "cell_type": "markdown",
      "metadata": {
        "id": "3b2iuKDUk_EV",
        "colab_type": "text"
      },
      "source": [
        "###(2) Introduction to nn and optim"
      ]
    },
    {
      "cell_type": "code",
      "metadata": {
        "id": "Z60TDD_clWj3",
        "colab_type": "code",
        "outputId": "a7377ac1-509c-4057-f3aa-47d05899795e",
        "colab": {
          "base_uri": "https://localhost:8080/",
          "height": 34
        }
      },
      "source": [
        "##Linear layer applies x*W +b\n",
        "a0 = torch.randn((130,4))\n",
        "L1 = nn.Linear(4,5)\n",
        "z1 = L1(a0)\n",
        "print(z1.size())"
      ],
      "execution_count": 0,
      "outputs": [
        {
          "output_type": "stream",
          "text": [
            "torch.Size([130, 5])\n"
          ],
          "name": "stdout"
        }
      ]
    },
    {
      "cell_type": "code",
      "metadata": {
        "id": "yEtsNS7QtInH",
        "colab_type": "code",
        "colab": {}
      },
      "source": [
        "##Activation functions\n",
        "z1 = torch.randn((130,5))\n",
        "sig1 = nn.Sigmoid()\n",
        "#sig1 = nn.ReLU()\n",
        "#sig1 = nn.LeakyReLU()\n",
        "#sig1 = nn.Tanh()\n",
        "a1 = sig1(z1)\n",
        "\n",
        "#Softmax\n",
        "#out1 = nn.Softmax()"
      ],
      "execution_count": 0,
      "outputs": []
    },
    {
      "cell_type": "code",
      "metadata": {
        "id": "ep0ktaE6uMc9",
        "colab_type": "code",
        "outputId": "7e5baa2b-da52-4c71-c1a6-655b663629d0",
        "colab": {
          "base_uri": "https://localhost:8080/",
          "height": 119
        }
      },
      "source": [
        "##Feedforward in logistic regression\n",
        "a0 = torch.randn((100,4))\n",
        "L1 = nn.Linear(4,1)\n",
        "z1 = L1(a0)\n",
        "sig1 = nn.Sigmoid()\n",
        "a11 = sig1(z1)\n",
        "\n",
        "#OR\n",
        "\n",
        "model = nn.Sequential(nn.Linear(4,1), nn.Sigmoid())\n",
        "print(model)\n",
        "a1 = model(a0)\n",
        "\n",
        "print(a11.size())\n",
        "print(a1.size())\n"
      ],
      "execution_count": 0,
      "outputs": [
        {
          "output_type": "stream",
          "text": [
            "Sequential(\n",
            "  (0): Linear(in_features=4, out_features=1, bias=True)\n",
            "  (1): Sigmoid()\n",
            ")\n",
            "torch.Size([100, 1])\n",
            "torch.Size([100, 1])\n"
          ],
          "name": "stdout"
        }
      ]
    },
    {
      "cell_type": "code",
      "metadata": {
        "id": "ucok1UwPxphM",
        "colab_type": "code",
        "colab": {}
      },
      "source": [
        "##Back propagation\n",
        "lossfun = nn.CrossEntropyLoss()\n",
        "optimizer = torch.optim.SGD(model.parameters(), lr=0.01) \n",
        "optimizer.zero_grad() #zero gradients to not accumulate\n",
        "#loss = lossfun(a1, y_train) #calculate loss\n",
        "#loss.backward() #update weights based on loss\n",
        "#optimizer.step() #update optimizer for next iteration"
      ],
      "execution_count": 0,
      "outputs": []
    },
    {
      "cell_type": "markdown",
      "metadata": {
        "id": "sHv85d4eKxhX",
        "colab_type": "text"
      },
      "source": [
        "- When we call loss.backward(), all it does is compute gradient of loss w.r.t all the parameters in loss that have requires_grad = True and store them in parameter.grad attribute for every parameter.\n",
        "\n",
        "- optimizer.step() updates all the parameters based on parameter.grad"
      ]
    },
    {
      "cell_type": "markdown",
      "metadata": {
        "id": "dlSwSCEhJ9Ih",
        "colab_type": "text"
      },
      "source": [
        "- In PyTorch, we need to set the gradients to zero before starting to do backpropragation because PyTorch accumulates the gradients on subsequent backward passes. We do this by calling .zero_grad() function on the optimizer. "
      ]
    },
    {
      "cell_type": "markdown",
      "metadata": {
        "id": "XzNs0KRqY4FC",
        "colab_type": "text"
      },
      "source": [
        "###(3) Implementing 2-layer Neural Network using PyTorch"
      ]
    },
    {
      "cell_type": "markdown",
      "metadata": {
        "id": "raSloG1pg2l7",
        "colab_type": "text"
      },
      "source": [
        "####Imports"
      ]
    },
    {
      "cell_type": "code",
      "metadata": {
        "id": "jdzG3f_gY9r3",
        "colab_type": "code",
        "colab": {}
      },
      "source": [
        "from sklearn.datasets import load_iris\n",
        "from sklearn.preprocessing import OneHotEncoder\n",
        "from sklearn.model_selection import train_test_split\n",
        "import torch\n",
        "import numpy as np\n",
        "import matplotlib.pyplot as plt"
      ],
      "execution_count": 0,
      "outputs": []
    },
    {
      "cell_type": "markdown",
      "metadata": {
        "id": "ikS9YmQIg4aV",
        "colab_type": "text"
      },
      "source": [
        "####Data loading and preprocessing"
      ]
    },
    {
      "cell_type": "code",
      "metadata": {
        "id": "XGDoTpV5ZRSS",
        "colab_type": "code",
        "colab": {}
      },
      "source": [
        "iris = load_iris()\n",
        "x = iris['data']\n",
        "y = iris['target']\n",
        "enc = OneHotEncoder(categories='auto')\n",
        "y = enc.fit_transform(y.reshape(-1,1)).A.astype(np.float32)\n",
        "x_train, x_test, y_train, y_test = train_test_split(x, y, test_size=0.33)"
      ],
      "execution_count": 0,
      "outputs": []
    },
    {
      "cell_type": "markdown",
      "metadata": {
        "id": "r7U8QznZhDs3",
        "colab_type": "text"
      },
      "source": [
        "####Helper functions"
      ]
    },
    {
      "cell_type": "code",
      "metadata": {
        "id": "QWfGCwHAbK2X",
        "colab_type": "code",
        "colab": {}
      },
      "source": [
        "def sigmoid(x, deriv=False):\n",
        "  sig = torch.sigmoid(x)\n",
        "  if deriv:\n",
        "    sig = sig*(1-sig)\n",
        "  return sig"
      ],
      "execution_count": 0,
      "outputs": []
    },
    {
      "cell_type": "markdown",
      "metadata": {
        "id": "gf-0WXwIhH6B",
        "colab_type": "text"
      },
      "source": [
        "####Converting numpy arrays to torch tensors"
      ]
    },
    {
      "cell_type": "code",
      "metadata": {
        "id": "2RUBW6twZaAP",
        "colab_type": "code",
        "colab": {}
      },
      "source": [
        "x_trainv = torch.tensor(x_train, requires_grad = False, dtype=torch.float32)\n",
        "y_trainv = torch.tensor(y_train, requires_grad = False, dtype=torch.float32)\n",
        "x_testv = torch.tensor(x_test, requires_grad = False, dtype=torch.float32)\n",
        "y_testv = torch.tensor(y_test, requires_grad = False, dtype=torch.float32)"
      ],
      "execution_count": 0,
      "outputs": []
    },
    {
      "cell_type": "markdown",
      "metadata": {
        "id": "TMxYqPHZhO9s",
        "colab_type": "text"
      },
      "source": [
        "####Training"
      ]
    },
    {
      "cell_type": "code",
      "metadata": {
        "id": "MyDF2G6_ZrwY",
        "colab_type": "code",
        "outputId": "c722a051-1fb8-4512-ab05-ed3f3c619c6c",
        "colab": {
          "base_uri": "https://localhost:8080/",
          "height": 295
        }
      },
      "source": [
        "n_in = x_trainv.size()[1]\n",
        "n_h = 5\n",
        "n_out = y_trainv.size()[1]\n",
        "\n",
        "\n",
        "torch.manual_seed(1)\n",
        "w0 = torch.randn((n_in,n_h))\n",
        "w1 = torch.randn((n_h,n_out))\n",
        "\n",
        "sigma = 0.01\n",
        "errors = []\n",
        "\n",
        "for i in range(2000):\n",
        "  #Feed forward\n",
        "  a0 = x_trainv\n",
        "  a1 = sigmoid(torch.matmul(a0,w0))\n",
        "  a2 = sigmoid(torch.matmul(a1,w1))\n",
        "  \n",
        "  #Back propagation using gradient descent\n",
        "  a2_error = y_trainv - a2\n",
        "  a2_delta = a2_error * sigmoid(a2, deriv=True)\n",
        "    \n",
        "  a1_error = torch.matmul(a2_delta,torch.transpose(w1,0,1))\n",
        "  a1_delta = a1_error * sigmoid(a1, deriv=True)\n",
        "    \n",
        "  w1 += torch.matmul(torch.transpose(a1,0,1),a2_delta) * sigma \n",
        "  w0 += torch.matmul(torch.transpose(a0,0,1),a1_delta) * sigma \n",
        "  \n",
        "  ####### TO BE DONE ######### 10% Time: 4 mins\n",
        "  #Write the error formula given the the error between the output layer and the labels: (a2_error)\n",
        "  error = torch.mean(torch.abs(a2_error)).item()\n",
        "  ############################\n",
        "  errors.append(error)\n",
        "  accuracy = (1 - error) * 100\n",
        "  \n",
        "\n",
        "#Plot the accuracy graph\n",
        "plt.plot(errors)\n",
        "plt.xlabel('Training')\n",
        "plt.ylabel('Error')\n",
        "plt.show()\n",
        "        \n",
        "print(\"Training Accuracy \" + str(round(accuracy,2)) + \"%\")\n",
        "  \n"
      ],
      "execution_count": 0,
      "outputs": [
        {
          "output_type": "display_data",
          "data": {
            "image/png": "[encoded data removed]",
            "text/plain": [
              "<Figure size 432x288 with 1 Axes>"
            ]
          },
          "metadata": {
            "tags": []
          }
        },
        {
          "output_type": "stream",
          "text": [
            "Training Accuracy 87.18%\n"
          ],
          "name": "stdout"
        }
      ]
    },
    {
      "cell_type": "markdown",
      "metadata": {
        "id": "l3gt7Jb1hRNQ",
        "colab_type": "text"
      },
      "source": [
        "####Validation"
      ]
    },
    {
      "cell_type": "code",
      "metadata": {
        "id": "ZdeOR03zf-4W",
        "colab_type": "code",
        "outputId": "6349b598-d7c1-4992-d807-e69aac135da8",
        "colab": {
          "base_uri": "https://localhost:8080/",
          "height": 33
        }
      },
      "source": [
        "#Validation\n",
        "a0 = x_testv\n",
        "\n",
        "####### TO BE DONE ######### 10% Time: 7 mins\n",
        "#Write the validation line codes to test your model\n",
        "a1 = sigmoid(torch.matmul(a0,w0))\n",
        "a2 = sigmoid(torch.matmul(a1,w1))\n",
        "error = y_testv-a2\n",
        "error=torch.mean(torch.abs(error)).item()\n",
        "############################\n",
        "\n",
        "accuracy = (1 - error) * 100\n",
        "print(\"Validation Accuracy \" + str(round(accuracy,2)) + \"%\")"
      ],
      "execution_count": 0,
      "outputs": [
        {
          "output_type": "stream",
          "text": [
            "Validation Accuracy 86.77%\n"
          ],
          "name": "stdout"
        }
      ]
    },
    {
      "cell_type": "markdown",
      "metadata": {
        "id": "UJKq_QDNYBQa",
        "colab_type": "text"
      },
      "source": [
        "###(4) Implementing 2-layer Neural Network using nn and optim"
      ]
    },
    {
      "cell_type": "markdown",
      "metadata": {
        "id": "sC2L_Eys9gjy",
        "colab_type": "text"
      },
      "source": [
        "####Imports"
      ]
    },
    {
      "cell_type": "code",
      "metadata": {
        "id": "1ltNJEUBzkTQ",
        "colab_type": "code",
        "colab": {}
      },
      "source": [
        "from sklearn.datasets import load_iris\n",
        "from sklearn.preprocessing import OneHotEncoder\n",
        "from sklearn.model_selection import train_test_split\n",
        "import torch\n",
        "import torch.nn as nn\n",
        "import torch.optim as optim\n",
        "from torch.autograd import Variable\n",
        "import numpy as np\n",
        "import matplotlib.pyplot as plt "
      ],
      "execution_count": 0,
      "outputs": []
    },
    {
      "cell_type": "markdown",
      "metadata": {
        "id": "dthOZOtb9mQo",
        "colab_type": "text"
      },
      "source": [
        "####Data loading"
      ]
    },
    {
      "cell_type": "code",
      "metadata": {
        "id": "bPiMGUtg2U86",
        "colab_type": "code",
        "colab": {}
      },
      "source": [
        "iris = load_iris()\n",
        "x = iris['data']\n",
        "y = iris['target']\n",
        "enc = OneHotEncoder(categories='auto')\n",
        "y = enc.fit_transform(y.reshape(-1,1)).A.astype(np.float32)\n",
        "x_train, x_test, y_train, y_test = train_test_split(x, y, test_size=0.33)"
      ],
      "execution_count": 0,
      "outputs": []
    },
    {
      "cell_type": "markdown",
      "metadata": {
        "id": "wHbo5q5u--Ae",
        "colab_type": "text"
      },
      "source": [
        "####Converting numpy arrays into torch.tensor"
      ]
    },
    {
      "cell_type": "code",
      "metadata": {
        "id": "1xZ0sv7f33pW",
        "colab_type": "code",
        "colab": {}
      },
      "source": [
        "x_trainv = torch.tensor(x_train, requires_grad = False, dtype=torch.float32)\n",
        "y_trainv = torch.tensor(y_train, requires_grad = False, dtype=torch.float32)\n",
        "x_testv = torch.tensor(x_test, requires_grad = False, dtype=torch.float32)\n",
        "y_testv = torch.tensor(y_test, requires_grad = False, dtype=torch.float32)"
      ],
      "execution_count": 0,
      "outputs": []
    },
    {
      "cell_type": "markdown",
      "metadata": {
        "id": "BLKZm2vHOGHC",
        "colab_type": "text"
      },
      "source": [
        "####Building model, loss function, and back propagation"
      ]
    },
    {
      "cell_type": "code",
      "metadata": {
        "id": "GBRd5L7A50Bv",
        "colab_type": "code",
        "colab": {}
      },
      "source": [
        "#num_in = x.shape[1]\n",
        "#num_h = 5\n",
        "#num_out = y.shape[1]\n",
        "\n",
        "######## TO BE DONE ########## 15% Time: 5 mins\n",
        "#Build your model \n",
        "#model = nn.Sequential(nn.Linear(4,5),nn.Sigmoid())\n",
        "##############################\n",
        "\n",
        "#criterion = nn.MSELoss()\n",
        "\n",
        "######## TO BE DONE ########## 15% Time: 4 mins\n",
        "#Define your optimization module. Use Adam optimization\n",
        "\n",
        "#optimizer = torch.optim.Adam(model.parameters,lr=0.01)\n",
        "##############################"
      ],
      "execution_count": 0,
      "outputs": []
    },
    {
      "cell_type": "code",
      "metadata": {
        "id": "rv0_GqjcFqRV",
        "colab_type": "code",
        "colab": {}
      },
      "source": [
        "num_in = x.shape[1]\n",
        "num_h = 5\n",
        "num_out = y.shape[1]\n",
        "\n",
        "######## TO BE DONE ########## 15% Time: 5 mins\n",
        "#Build your model \n",
        "#q:\n",
        "model = torch.nn.Sequential(\n",
        "    torch.nn.Linear(num_in, num_h),\n",
        "    torch.nn.ReLU(),\n",
        "    torch.nn.Linear(num_h, num_out),\n",
        "    nn.Softmax()\n",
        ")##############################\n",
        "\n",
        "\n",
        "######## TO BE DONE ########## 15% Time: 4 mins\n",
        "#Define your optimization module. Use Adam optimization\n",
        "\n",
        "\n",
        "##############################\n",
        "criterion = torch.nn.MSELoss(reduction='sum')\n",
        "\n",
        "# Use the optim package to define an Optimizer that will update the weights of\n",
        "# the model for us. Here we will use Adam; the optim package contains many other\n",
        "# optimization algoriths. The first argument to the Adam constructor tells the\n",
        "# optimizer which Tensors it should update.\n",
        "learning_rate = 0.01\n",
        "optimizer = torch.optim.Adam(model.parameters(), lr=learning_rate)"
      ],
      "execution_count": 0,
      "outputs": []
    },
    {
      "cell_type": "code",
      "metadata": {
        "id": "alaCLs2vPZPx",
        "colab_type": "code",
        "colab": {}
      },
      "source": [
        ""
      ],
      "execution_count": 0,
      "outputs": []
    },
    {
      "cell_type": "markdown",
      "metadata": {
        "id": "EPMWNTw5OZ1f",
        "colab_type": "text"
      },
      "source": [
        "####Running model"
      ]
    },
    {
      "cell_type": "code",
      "metadata": {
        "id": "oylMe2Ho7mG8",
        "colab_type": "code",
        "outputId": "a619893a-59fd-4db4-b6c1-f591962dc997",
        "colab": {
          "base_uri": "https://localhost:8080/",
          "height": 313
        }
      },
      "source": [
        "all_losses = []\n",
        "#x_train=torch.from_numpy(x_train).float()\n",
        "for num in range(7000): #7000 iterations\n",
        "  \n",
        "  ######## TO BE DONE ########## 30% Time: 20 mins\n",
        "  #Predict the output of your model\n",
        "  #Calculate loss\n",
        "  #Append the loss to all_losses list\n",
        "  #Delete the accumulated gradient\n",
        "  #update weights based on loss function you defined earlier\n",
        "\n",
        "  \n",
        "                                              #predict \n",
        "                                              #calculate loss\n",
        "                                              # Append the loss (use loss.data) to all_losses list  \n",
        "                                              #zero gradients to not accumulate \n",
        "                                              #update weights based on loss\n",
        "\n",
        "\n",
        "\n",
        "\n",
        " pred = model(x_trainv)\n",
        "\n",
        "    # Compute and print loss.\n",
        " loss = criterion(pred, y_trainv)\n",
        " all_losses.append( loss.item())  \n",
        " optimizer.zero_grad()\n",
        "\n",
        "    # Backward pass: compute gradient of the loss with respect to model\n",
        "    # parameters\n",
        " loss.backward()\n",
        "\n",
        "    # Calling the step function on an Optimizer makes an update to its\n",
        "    # parameters\n",
        " optimizer.step()\n",
        "\n",
        "\n",
        "  ##############################\n",
        "  \n",
        "  \n",
        "\n",
        "all_losses = np.array(all_losses, dtype = np.float)\n",
        "plt.plot(all_losses)\n",
        "plt.show()\n",
        "\n",
        "print(\"Training accuracy = \" + str(round(100-(all_losses[-1]*100),2)) + \" %\")\n"
      ],
      "execution_count": 62,
      "outputs": [
        {
          "output_type": "stream",
          "text": [
            "/usr/local/lib/python3.6/dist-packages/torch/nn/modules/container.py:100: UserWarning: Implicit dimension choice for softmax has been deprecated. Change the call to include dim=X as an argument.\n",
            "  input = module(input)\n"
          ],
          "name": "stderr"
        },
        {
          "output_type": "display_data",
          "data": {
            "image/png": "[encoded data removed]",
            "text/plain": [
              "<Figure size 432x288 with 1 Axes>"
            ]
          },
          "metadata": {
            "tags": []
          }
        },
        {
          "output_type": "stream",
          "text": [
            "Training accuracy = 99.86 %\n"
          ],
          "name": "stdout"
        }
      ]
    },
    {
      "cell_type": "markdown",
      "metadata": {
        "id": "Z7QImpnhOdGG",
        "colab_type": "text"
      },
      "source": [
        "####Validation"
      ]
    },
    {
      "cell_type": "code",
      "metadata": {
        "id": "x9mwkenCBxdd",
        "colab_type": "code",
        "outputId": "41b225ee-a716-40f5-b82b-5cbebba63249",
        "colab": {
          "base_uri": "https://localhost:8080/",
          "height": 66
        }
      },
      "source": [
        "#Validation\n",
        "\n",
        "######## TO BE DONE ########## 20% Time: 10 mins\n",
        "#Validate your model for the test set\n",
        " pred1 =model(x_testv)                           #predict\n",
        " loss =criterion(pred1, y_testv)                        #calculate loss\n",
        " #q:\n",
        "loss_percentage=(100-loss.item())\n",
        "##############################\n",
        "#print(\"Validation accuracy = \" + str(round(100-(loss.item()*100),2)) + \" %\")\n",
        "print(\"Validation accuracy = \" + str(round(loss_percentage,2)) + \" %\")"
      ],
      "execution_count": 73,
      "outputs": [
        {
          "output_type": "stream",
          "text": [
            "Validation accuracy = 94.24 %\n"
          ],
          "name": "stdout"
        },
        {
          "output_type": "stream",
          "text": [
            "/usr/local/lib/python3.6/dist-packages/torch/nn/modules/container.py:100: UserWarning: Implicit dimension choice for softmax has been deprecated. Change the call to include dim=X as an argument.\n",
            "  input = module(input)\n"
          ],
          "name": "stderr"
        }
      ]
    },
    {
      "cell_type": "code",
      "metadata": {
        "id": "7Bp13JQ8bApW",
        "colab_type": "code",
        "colab": {}
      },
      "source": [
        ""
      ],
      "execution_count": 0,
      "outputs": []
    },
    {
      "cell_type": "code",
      "metadata": {
        "id": "WjX-grUWbtC9",
        "colab_type": "code",
        "colab": {}
      },
      "source": [
        "\n"
      ],
      "execution_count": 0,
      "outputs": []
    }
  ]
}