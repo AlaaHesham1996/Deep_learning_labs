{
  "nbformat": 4,
  "nbformat_minor": 0,
  "metadata": {
    "colab": {
      "name": "Submission_Alaa_Hesham_Lab6.ipynb",
      "provenance": [],
      "collapsed_sections": [
        "3SOvlUf5vRgv",
        "83RIIQhLchn-",
        "uz9OJraId2Cd",
        "JsMlrHYVd5S1"
      ]
    },
    "kernelspec": {
      "name": "python3",
      "display_name": "Python 3"
    },
    "accelerator": "GPU"
  },
  "cells": [
    {
      "cell_type": "markdown",
      "metadata": {
        "id": "7WJcfb7cFqRo",
        "colab_type": "text"
      },
      "source": [
        "<h4 align=\"right\">9th of March 2020</h4>\n",
        "<h1 align=\"center\">Neural Networks and Deep Learning (CIE 555)</h1>\n",
        "<h2 align=\"center\">Lab 6: Optimization</h2> <br>"
      ]
    },
    {
      "cell_type": "markdown",
      "metadata": {
        "id": "3SOvlUf5vRgv",
        "colab_type": "text"
      },
      "source": [
        "# Different optimizers"
      ]
    },
    {
      "cell_type": "markdown",
      "metadata": {
        "id": "cB6wghisf88D",
        "colab_type": "text"
      },
      "source": [
        "![alt text](https://i.pinimg.com/originals/5d/51/66/5d5166a3d3712e7c03af74b1ccacbeac.gif)"
      ]
    },
    {
      "cell_type": "code",
      "metadata": {
        "id": "y2yUQDswCenz",
        "colab_type": "code",
        "colab": {}
      },
      "source": [
        "import numpy as np\n",
        "import pandas as pd\n",
        "import tensorflow as tf\n",
        "from tensorflow import keras\n",
        "from tensorflow.keras import layers\n",
        "import time\n",
        "import matplotlib.pyplot as plt\n",
        "from sklearn.preprocessing import OneHotEncoder"
      ],
      "execution_count": 0,
      "outputs": []
    },
    {
      "cell_type": "code",
      "metadata": {
        "id": "B4-5rOjmAiig",
        "colab_type": "code",
        "colab": {}
      },
      "source": [
        "mnist = tf.keras.datasets.mnist.load_data()"
      ],
      "execution_count": 0,
      "outputs": []
    },
    {
      "cell_type": "code",
      "metadata": {
        "id": "P38pYStdBTj_",
        "colab_type": "code",
        "outputId": "c5596794-9261-49a8-e34e-b0858f319f4f",
        "colab": {
          "base_uri": "https://localhost:8080/",
          "height": 51
        }
      },
      "source": [
        "train, test = mnist\n",
        "all_xtrain, all_Ytrain = train\n",
        "xtrain = all_xtrain[:50000]\n",
        "Ytrain = all_Ytrain[:50000]\n",
        "xtest, Ytest = test\n",
        "xtest = np.concatenate((xtest,all_xtrain[50000:]))\n",
        "Ytest = np.concatenate((Ytest,all_Ytrain[50000:]))\n",
        "xtrain = xtrain.reshape(-1,28*28) / 255\n",
        "xtest = xtest.reshape(-1,28*28) / 255\n",
        "print(xtrain.shape)\n",
        "print(xtest.shape)"
      ],
      "execution_count": 0,
      "outputs": [
        {
          "output_type": "stream",
          "text": [
            "(50000, 784)\n",
            "(20000, 784)\n"
          ],
          "name": "stdout"
        }
      ]
    },
    {
      "cell_type": "code",
      "metadata": {
        "id": "L87A5IVPCyzT",
        "colab_type": "code",
        "colab": {}
      },
      "source": [
        "enc = OneHotEncoder(sparse = False,categories='auto')\n",
        "ytrain = enc.fit_transform(Ytrain.reshape(-1, 1))\n",
        "ytest = enc.transform(Ytest.reshape(-1, 1))"
      ],
      "execution_count": 0,
      "outputs": []
    },
    {
      "cell_type": "code",
      "metadata": {
        "id": "EIP5pOYeDKJW",
        "colab_type": "code",
        "colab": {}
      },
      "source": [
        "inp = layers.Input(shape=(xtrain.shape[1],))\n",
        "x = layers.Dense(500, activation = tf.nn.relu, kernel_initializer = keras.initializers.glorot_uniform(seed=1))(inp)\n",
        "x = layers.Dense(125, activation = tf.nn.relu, kernel_initializer = keras.initializers.glorot_uniform(seed=1))(x)\n",
        "out = layers.Dense(10, activation=tf.nn.softmax, kernel_initializer = keras.initializers.glorot_uniform(seed=1))(x)"
      ],
      "execution_count": 0,
      "outputs": []
    },
    {
      "cell_type": "code",
      "metadata": {
        "id": "E8TT6AEtDfEN",
        "colab_type": "code",
        "colab": {}
      },
      "source": [
        "model1 = keras.Model(inp,out)\n",
        "model2 = keras.Model(inp,out)\n",
        "model3 = keras.Model(inp,out)\n",
        "model4 = keras.Model(inp,out)"
      ],
      "execution_count": 0,
      "outputs": []
    },
    {
      "cell_type": "markdown",
      "metadata": {
        "id": "_Y6OVFIZdsDq",
        "colab_type": "text"
      },
      "source": [
        "## Stochastic Gradient Descent (SGD)"
      ]
    },
    {
      "cell_type": "markdown",
      "metadata": {
        "id": "nTJCFmrgijTi",
        "colab_type": "text"
      },
      "source": [
        "Of the optimizers profiled here, stochastic gradient descent uses the least memory for a given batch size."
      ]
    },
    {
      "cell_type": "code",
      "metadata": {
        "id": "lsAQ-zqIDgKx",
        "colab_type": "code",
        "outputId": "5805abb4-133b-44e3-f289-e95ac771d292",
        "colab": {
          "base_uri": "https://localhost:8080/",
          "height": 1000
        }
      },
      "source": [
        "start1 = time.clock()\n",
        "optimizer = tf.keras.optimizers.SGD(0.01)\n",
        "model1.compile(loss='categorical_crossentropy', optimizer=optimizer, metrics=['acc'])\n",
        "epochs = 100\n",
        "history1 = model1.fit(xtrain, ytrain, batch_size = 512, epochs = epochs, validation_split = 0.2, verbose = True)\n",
        "end1 = time.clock() - start1"
      ],
      "execution_count": 0,
      "outputs": [
        {
          "output_type": "stream",
          "text": [
            "Train on 40000 samples, validate on 10000 samples\n",
            "Epoch 1/100\n",
            "40000/40000 [==============================] - 2s 58us/sample - loss: 2.0541 - acc: 0.3889 - val_loss: 1.7637 - val_acc: 0.6396\n",
            "Epoch 2/100\n",
            "40000/40000 [==============================] - 2s 57us/sample - loss: 1.4963 - acc: 0.7110 - val_loss: 1.2579 - val_acc: 0.7585\n",
            "Epoch 3/100\n",
            "40000/40000 [==============================] - 2s 56us/sample - loss: 1.0704 - acc: 0.7878 - val_loss: 0.9296 - val_acc: 0.8089\n",
            "Epoch 4/100\n",
            "40000/40000 [==============================] - 2s 56us/sample - loss: 0.8213 - acc: 0.8218 - val_loss: 0.7477 - val_acc: 0.8322\n",
            "Epoch 5/100\n",
            "40000/40000 [==============================] - 2s 55us/sample - loss: 0.6802 - acc: 0.8440 - val_loss: 0.6402 - val_acc: 0.8454\n",
            "Epoch 6/100\n",
            "40000/40000 [==============================] - 2s 56us/sample - loss: 0.5925 - acc: 0.8579 - val_loss: 0.5708 - val_acc: 0.8553\n",
            "Epoch 7/100\n",
            "40000/40000 [==============================] - 2s 55us/sample - loss: 0.5336 - acc: 0.8679 - val_loss: 0.5224 - val_acc: 0.8626\n",
            "Epoch 8/100\n",
            "40000/40000 [==============================] - 2s 56us/sample - loss: 0.4914 - acc: 0.8756 - val_loss: 0.4863 - val_acc: 0.8682\n",
            "Epoch 9/100\n",
            "40000/40000 [==============================] - 2s 56us/sample - loss: 0.4596 - acc: 0.8812 - val_loss: 0.4609 - val_acc: 0.8740\n",
            "Epoch 10/100\n",
            "40000/40000 [==============================] - 2s 55us/sample - loss: 0.4351 - acc: 0.8858 - val_loss: 0.4378 - val_acc: 0.8783\n",
            "Epoch 11/100\n",
            "40000/40000 [==============================] - 2s 55us/sample - loss: 0.4150 - acc: 0.8903 - val_loss: 0.4203 - val_acc: 0.8838\n",
            "Epoch 12/100\n",
            "40000/40000 [==============================] - 2s 55us/sample - loss: 0.3985 - acc: 0.8931 - val_loss: 0.4062 - val_acc: 0.8875\n",
            "Epoch 13/100\n",
            "40000/40000 [==============================] - 2s 57us/sample - loss: 0.3847 - acc: 0.8959 - val_loss: 0.3929 - val_acc: 0.8894\n",
            "Epoch 14/100\n",
            "40000/40000 [==============================] - 2s 57us/sample - loss: 0.3727 - acc: 0.8986 - val_loss: 0.3833 - val_acc: 0.8923\n",
            "Epoch 15/100\n",
            "40000/40000 [==============================] - 2s 56us/sample - loss: 0.3623 - acc: 0.9006 - val_loss: 0.3734 - val_acc: 0.8946\n",
            "Epoch 16/100\n",
            "40000/40000 [==============================] - 2s 56us/sample - loss: 0.3529 - acc: 0.9030 - val_loss: 0.3653 - val_acc: 0.8970\n",
            "Epoch 17/100\n",
            "40000/40000 [==============================] - 2s 56us/sample - loss: 0.3447 - acc: 0.9048 - val_loss: 0.3571 - val_acc: 0.8987\n",
            "Epoch 18/100\n",
            "40000/40000 [==============================] - 2s 55us/sample - loss: 0.3371 - acc: 0.9070 - val_loss: 0.3510 - val_acc: 0.8986\n",
            "Epoch 19/100\n",
            "40000/40000 [==============================] - 2s 55us/sample - loss: 0.3304 - acc: 0.9078 - val_loss: 0.3451 - val_acc: 0.9003\n",
            "Epoch 20/100\n",
            "40000/40000 [==============================] - 2s 55us/sample - loss: 0.3240 - acc: 0.9086 - val_loss: 0.3400 - val_acc: 0.9021\n",
            "Epoch 21/100\n",
            "40000/40000 [==============================] - 2s 54us/sample - loss: 0.3183 - acc: 0.9107 - val_loss: 0.3352 - val_acc: 0.9021\n",
            "Epoch 22/100\n",
            "40000/40000 [==============================] - 2s 55us/sample - loss: 0.3128 - acc: 0.9119 - val_loss: 0.3294 - val_acc: 0.9046\n",
            "Epoch 23/100\n",
            "40000/40000 [==============================] - 2s 55us/sample - loss: 0.3077 - acc: 0.9133 - val_loss: 0.3243 - val_acc: 0.9061\n",
            "Epoch 24/100\n",
            "40000/40000 [==============================] - 2s 55us/sample - loss: 0.3030 - acc: 0.9148 - val_loss: 0.3210 - val_acc: 0.9068\n",
            "Epoch 25/100\n",
            "40000/40000 [==============================] - 2s 55us/sample - loss: 0.2984 - acc: 0.9161 - val_loss: 0.3165 - val_acc: 0.9069\n",
            "Epoch 26/100\n",
            "40000/40000 [==============================] - 2s 55us/sample - loss: 0.2942 - acc: 0.9168 - val_loss: 0.3120 - val_acc: 0.9092\n",
            "Epoch 27/100\n",
            "40000/40000 [==============================] - 2s 55us/sample - loss: 0.2900 - acc: 0.9176 - val_loss: 0.3091 - val_acc: 0.9098\n",
            "Epoch 28/100\n",
            "40000/40000 [==============================] - 2s 56us/sample - loss: 0.2863 - acc: 0.9189 - val_loss: 0.3056 - val_acc: 0.9106\n",
            "Epoch 29/100\n",
            "40000/40000 [==============================] - 2s 56us/sample - loss: 0.2824 - acc: 0.9199 - val_loss: 0.3027 - val_acc: 0.9112\n",
            "Epoch 30/100\n",
            "40000/40000 [==============================] - 2s 56us/sample - loss: 0.2789 - acc: 0.9205 - val_loss: 0.3011 - val_acc: 0.9110\n",
            "Epoch 31/100\n",
            "40000/40000 [==============================] - 2s 56us/sample - loss: 0.2756 - acc: 0.9221 - val_loss: 0.2966 - val_acc: 0.9132\n",
            "Epoch 32/100\n",
            "40000/40000 [==============================] - 2s 56us/sample - loss: 0.2723 - acc: 0.9229 - val_loss: 0.2930 - val_acc: 0.9138\n",
            "Epoch 33/100\n",
            "40000/40000 [==============================] - 2s 56us/sample - loss: 0.2690 - acc: 0.9240 - val_loss: 0.2900 - val_acc: 0.9151\n",
            "Epoch 34/100\n",
            "40000/40000 [==============================] - 2s 56us/sample - loss: 0.2660 - acc: 0.9247 - val_loss: 0.2889 - val_acc: 0.9157\n",
            "Epoch 35/100\n",
            "40000/40000 [==============================] - 2s 56us/sample - loss: 0.2631 - acc: 0.9251 - val_loss: 0.2852 - val_acc: 0.9163\n",
            "Epoch 36/100\n",
            "40000/40000 [==============================] - 2s 56us/sample - loss: 0.2603 - acc: 0.9263 - val_loss: 0.2823 - val_acc: 0.9174\n",
            "Epoch 37/100\n",
            "40000/40000 [==============================] - 2s 56us/sample - loss: 0.2574 - acc: 0.9270 - val_loss: 0.2805 - val_acc: 0.9178\n",
            "Epoch 38/100\n",
            "40000/40000 [==============================] - 2s 55us/sample - loss: 0.2546 - acc: 0.9275 - val_loss: 0.2782 - val_acc: 0.9182\n",
            "Epoch 39/100\n",
            "40000/40000 [==============================] - 2s 55us/sample - loss: 0.2520 - acc: 0.9285 - val_loss: 0.2750 - val_acc: 0.9195\n",
            "Epoch 40/100\n",
            "40000/40000 [==============================] - 2s 56us/sample - loss: 0.2493 - acc: 0.9291 - val_loss: 0.2721 - val_acc: 0.9204\n",
            "Epoch 41/100\n",
            "40000/40000 [==============================] - 2s 56us/sample - loss: 0.2468 - acc: 0.9298 - val_loss: 0.2706 - val_acc: 0.9202\n",
            "Epoch 42/100\n",
            "40000/40000 [==============================] - 2s 57us/sample - loss: 0.2444 - acc: 0.9298 - val_loss: 0.2682 - val_acc: 0.9216\n",
            "Epoch 43/100\n",
            "40000/40000 [==============================] - 2s 56us/sample - loss: 0.2420 - acc: 0.9309 - val_loss: 0.2667 - val_acc: 0.9214\n",
            "Epoch 44/100\n",
            "40000/40000 [==============================] - 2s 55us/sample - loss: 0.2397 - acc: 0.9317 - val_loss: 0.2643 - val_acc: 0.9226\n",
            "Epoch 45/100\n",
            "40000/40000 [==============================] - 2s 55us/sample - loss: 0.2374 - acc: 0.9324 - val_loss: 0.2650 - val_acc: 0.9207\n",
            "Epoch 46/100\n",
            "40000/40000 [==============================] - 2s 57us/sample - loss: 0.2353 - acc: 0.9330 - val_loss: 0.2604 - val_acc: 0.9229\n",
            "Epoch 47/100\n",
            "40000/40000 [==============================] - 2s 56us/sample - loss: 0.2329 - acc: 0.9334 - val_loss: 0.2621 - val_acc: 0.9222\n",
            "Epoch 48/100\n",
            "40000/40000 [==============================] - 2s 55us/sample - loss: 0.2309 - acc: 0.9339 - val_loss: 0.2570 - val_acc: 0.9242\n",
            "Epoch 49/100\n",
            "40000/40000 [==============================] - 2s 55us/sample - loss: 0.2287 - acc: 0.9349 - val_loss: 0.2548 - val_acc: 0.9254\n",
            "Epoch 50/100\n",
            "40000/40000 [==============================] - 2s 55us/sample - loss: 0.2267 - acc: 0.9353 - val_loss: 0.2532 - val_acc: 0.9251\n",
            "Epoch 51/100\n",
            "40000/40000 [==============================] - 2s 56us/sample - loss: 0.2247 - acc: 0.9362 - val_loss: 0.2509 - val_acc: 0.9271\n",
            "Epoch 52/100\n",
            "40000/40000 [==============================] - 2s 55us/sample - loss: 0.2227 - acc: 0.9362 - val_loss: 0.2506 - val_acc: 0.9261\n",
            "Epoch 53/100\n",
            "40000/40000 [==============================] - 2s 55us/sample - loss: 0.2207 - acc: 0.9369 - val_loss: 0.2485 - val_acc: 0.9266\n",
            "Epoch 54/100\n",
            "40000/40000 [==============================] - 2s 55us/sample - loss: 0.2189 - acc: 0.9376 - val_loss: 0.2457 - val_acc: 0.9277\n",
            "Epoch 55/100\n",
            "40000/40000 [==============================] - 2s 55us/sample - loss: 0.2169 - acc: 0.9381 - val_loss: 0.2467 - val_acc: 0.9272\n",
            "Epoch 56/100\n",
            "40000/40000 [==============================] - 2s 56us/sample - loss: 0.2150 - acc: 0.9389 - val_loss: 0.2451 - val_acc: 0.9263\n",
            "Epoch 57/100\n",
            "40000/40000 [==============================] - 2s 56us/sample - loss: 0.2133 - acc: 0.9392 - val_loss: 0.2417 - val_acc: 0.9279\n",
            "Epoch 58/100\n",
            "40000/40000 [==============================] - 2s 55us/sample - loss: 0.2114 - acc: 0.9398 - val_loss: 0.2396 - val_acc: 0.9287\n",
            "Epoch 59/100\n",
            "40000/40000 [==============================] - 2s 55us/sample - loss: 0.2096 - acc: 0.9407 - val_loss: 0.2382 - val_acc: 0.9298\n",
            "Epoch 60/100\n",
            "40000/40000 [==============================] - 2s 55us/sample - loss: 0.2078 - acc: 0.9414 - val_loss: 0.2389 - val_acc: 0.9289\n",
            "Epoch 61/100\n",
            "40000/40000 [==============================] - 2s 56us/sample - loss: 0.2062 - acc: 0.9413 - val_loss: 0.2366 - val_acc: 0.9290\n",
            "Epoch 62/100\n",
            "40000/40000 [==============================] - 2s 57us/sample - loss: 0.2046 - acc: 0.9418 - val_loss: 0.2344 - val_acc: 0.9315\n",
            "Epoch 63/100\n",
            "40000/40000 [==============================] - 2s 57us/sample - loss: 0.2028 - acc: 0.9424 - val_loss: 0.2332 - val_acc: 0.9320\n",
            "Epoch 64/100\n",
            "40000/40000 [==============================] - 2s 56us/sample - loss: 0.2012 - acc: 0.9431 - val_loss: 0.2314 - val_acc: 0.9319\n",
            "Epoch 65/100\n",
            "40000/40000 [==============================] - 2s 57us/sample - loss: 0.1996 - acc: 0.9434 - val_loss: 0.2304 - val_acc: 0.9320\n",
            "Epoch 66/100\n",
            "40000/40000 [==============================] - 2s 55us/sample - loss: 0.1980 - acc: 0.9436 - val_loss: 0.2281 - val_acc: 0.9340\n",
            "Epoch 67/100\n",
            "40000/40000 [==============================] - 2s 56us/sample - loss: 0.1965 - acc: 0.9444 - val_loss: 0.2273 - val_acc: 0.9345\n",
            "Epoch 68/100\n",
            "40000/40000 [==============================] - 2s 56us/sample - loss: 0.1949 - acc: 0.9448 - val_loss: 0.2258 - val_acc: 0.9335\n",
            "Epoch 69/100\n",
            "40000/40000 [==============================] - 2s 55us/sample - loss: 0.1934 - acc: 0.9449 - val_loss: 0.2241 - val_acc: 0.9348\n",
            "Epoch 70/100\n",
            "40000/40000 [==============================] - 2s 56us/sample - loss: 0.1920 - acc: 0.9458 - val_loss: 0.2229 - val_acc: 0.9346\n",
            "Epoch 71/100\n",
            "40000/40000 [==============================] - 2s 55us/sample - loss: 0.1906 - acc: 0.9457 - val_loss: 0.2227 - val_acc: 0.9350\n",
            "Epoch 72/100\n",
            "40000/40000 [==============================] - 2s 55us/sample - loss: 0.1892 - acc: 0.9465 - val_loss: 0.2207 - val_acc: 0.9357\n",
            "Epoch 73/100\n",
            "40000/40000 [==============================] - 2s 55us/sample - loss: 0.1876 - acc: 0.9470 - val_loss: 0.2208 - val_acc: 0.9356\n",
            "Epoch 74/100\n",
            "40000/40000 [==============================] - 2s 55us/sample - loss: 0.1863 - acc: 0.9473 - val_loss: 0.2187 - val_acc: 0.9356\n",
            "Epoch 75/100\n",
            "40000/40000 [==============================] - 2s 55us/sample - loss: 0.1848 - acc: 0.9476 - val_loss: 0.2181 - val_acc: 0.9367\n",
            "Epoch 76/100\n",
            "40000/40000 [==============================] - 2s 55us/sample - loss: 0.1835 - acc: 0.9481 - val_loss: 0.2184 - val_acc: 0.9356\n",
            "Epoch 77/100\n",
            "40000/40000 [==============================] - 2s 55us/sample - loss: 0.1821 - acc: 0.9483 - val_loss: 0.2156 - val_acc: 0.9371\n",
            "Epoch 78/100\n",
            "40000/40000 [==============================] - 2s 55us/sample - loss: 0.1808 - acc: 0.9488 - val_loss: 0.2149 - val_acc: 0.9370\n",
            "Epoch 79/100\n",
            "40000/40000 [==============================] - 2s 55us/sample - loss: 0.1794 - acc: 0.9489 - val_loss: 0.2133 - val_acc: 0.9366\n",
            "Epoch 80/100\n",
            "40000/40000 [==============================] - 2s 55us/sample - loss: 0.1782 - acc: 0.9496 - val_loss: 0.2117 - val_acc: 0.9373\n",
            "Epoch 81/100\n",
            "40000/40000 [==============================] - 2s 55us/sample - loss: 0.1769 - acc: 0.9503 - val_loss: 0.2110 - val_acc: 0.9373\n",
            "Epoch 82/100\n",
            "40000/40000 [==============================] - 2s 56us/sample - loss: 0.1756 - acc: 0.9508 - val_loss: 0.2091 - val_acc: 0.9381\n",
            "Epoch 83/100\n",
            "40000/40000 [==============================] - 2s 56us/sample - loss: 0.1744 - acc: 0.9506 - val_loss: 0.2090 - val_acc: 0.9377\n",
            "Epoch 84/100\n",
            "40000/40000 [==============================] - 2s 56us/sample - loss: 0.1732 - acc: 0.9511 - val_loss: 0.2076 - val_acc: 0.9384\n",
            "Epoch 85/100\n",
            "40000/40000 [==============================] - 2s 55us/sample - loss: 0.1719 - acc: 0.9516 - val_loss: 0.2072 - val_acc: 0.9392\n",
            "Epoch 86/100\n",
            "40000/40000 [==============================] - 2s 55us/sample - loss: 0.1707 - acc: 0.9516 - val_loss: 0.2065 - val_acc: 0.9390\n",
            "Epoch 87/100\n",
            "40000/40000 [==============================] - 2s 55us/sample - loss: 0.1695 - acc: 0.9523 - val_loss: 0.2048 - val_acc: 0.9394\n",
            "Epoch 88/100\n",
            "40000/40000 [==============================] - 2s 55us/sample - loss: 0.1683 - acc: 0.9521 - val_loss: 0.2055 - val_acc: 0.9394\n",
            "Epoch 89/100\n",
            "40000/40000 [==============================] - 2s 56us/sample - loss: 0.1672 - acc: 0.9531 - val_loss: 0.2033 - val_acc: 0.9394\n",
            "Epoch 90/100\n",
            "40000/40000 [==============================] - 2s 55us/sample - loss: 0.1660 - acc: 0.9532 - val_loss: 0.2020 - val_acc: 0.9398\n",
            "Epoch 91/100\n",
            "40000/40000 [==============================] - 2s 55us/sample - loss: 0.1649 - acc: 0.9534 - val_loss: 0.2008 - val_acc: 0.9403\n",
            "Epoch 92/100\n",
            "40000/40000 [==============================] - 2s 55us/sample - loss: 0.1638 - acc: 0.9539 - val_loss: 0.2010 - val_acc: 0.9406\n",
            "Epoch 93/100\n",
            "40000/40000 [==============================] - 2s 56us/sample - loss: 0.1627 - acc: 0.9539 - val_loss: 0.2007 - val_acc: 0.9405\n",
            "Epoch 94/100\n",
            "40000/40000 [==============================] - 2s 56us/sample - loss: 0.1617 - acc: 0.9544 - val_loss: 0.1995 - val_acc: 0.9408\n",
            "Epoch 95/100\n",
            "40000/40000 [==============================] - 2s 56us/sample - loss: 0.1604 - acc: 0.9548 - val_loss: 0.1977 - val_acc: 0.9407\n",
            "Epoch 96/100\n",
            "40000/40000 [==============================] - 2s 56us/sample - loss: 0.1593 - acc: 0.9548 - val_loss: 0.1980 - val_acc: 0.9419\n",
            "Epoch 97/100\n",
            "40000/40000 [==============================] - 2s 56us/sample - loss: 0.1584 - acc: 0.9553 - val_loss: 0.1958 - val_acc: 0.9417\n",
            "Epoch 98/100\n",
            "40000/40000 [==============================] - 2s 56us/sample - loss: 0.1573 - acc: 0.9558 - val_loss: 0.1958 - val_acc: 0.9416\n",
            "Epoch 99/100\n",
            "40000/40000 [==============================] - 2s 56us/sample - loss: 0.1562 - acc: 0.9560 - val_loss: 0.1937 - val_acc: 0.9417\n",
            "Epoch 100/100\n",
            "40000/40000 [==============================] - 2s 55us/sample - loss: 0.1551 - acc: 0.9566 - val_loss: 0.1957 - val_acc: 0.9417\n"
          ],
          "name": "stdout"
        }
      ]
    },
    {
      "cell_type": "markdown",
      "metadata": {
        "id": "83RIIQhLchn-",
        "colab_type": "text"
      },
      "source": [
        "## Adagrad\n",
        "individually adapts the learning rates of all model parameters by scaling them inversely proportional to the square root of the sum of all of their historical squared values\n",
        "\n",
        "Empirically it has been found that—for training deep neural network models—the accumulation of squared gradients from the beginning of training can result in a premature and excessive decrease in the effective learning rate (stops the learning early)."
      ]
    },
    {
      "cell_type": "code",
      "metadata": {
        "id": "czPJAwyVDu6i",
        "colab_type": "code",
        "outputId": "4deec9c3-77ae-4b33-dcc6-e7a4fb62b8fb",
        "colab": {
          "base_uri": "https://localhost:8080/",
          "height": 1000
        }
      },
      "source": [
        "start2 = time.clock()\n",
        "optimizer = tf.keras.optimizers.Adagrad(0.01)\n",
        "model2.compile(loss='categorical_crossentropy', optimizer=optimizer, metrics=['acc'])\n",
        "epochs = 100\n",
        "history2 = model2.fit(xtrain, ytrain, batch_size = 512, epochs = epochs, validation_split = 0.2, verbose = True)\n",
        "end2 = time.clock() - start2"
      ],
      "execution_count": 0,
      "outputs": [
        {
          "output_type": "stream",
          "text": [
            "Train on 40000 samples, validate on 10000 samples\n",
            "WARNING:tensorflow:From /usr/local/lib/python3.6/dist-packages/tensorflow/python/keras/optimizer_v2/adagrad.py:105: calling Constant.__init__ (from tensorflow.python.ops.init_ops) with dtype is deprecated and will be removed in a future version.\n",
            "Instructions for updating:\n",
            "Call initializer instance with the dtype argument instead of passing it to the constructor\n",
            "Epoch 1/100\n",
            "40000/40000 [==============================] - 2s 61us/sample - loss: 0.1546 - acc: 0.9562 - val_loss: 0.1918 - val_acc: 0.9422\n",
            "Epoch 2/100\n",
            "40000/40000 [==============================] - 2s 58us/sample - loss: 0.1513 - acc: 0.9569 - val_loss: 0.1905 - val_acc: 0.9445\n",
            "Epoch 3/100\n",
            "40000/40000 [==============================] - 2s 59us/sample - loss: 0.1485 - acc: 0.9588 - val_loss: 0.1890 - val_acc: 0.9450\n",
            "Epoch 4/100\n",
            "40000/40000 [==============================] - 2s 59us/sample - loss: 0.1455 - acc: 0.9597 - val_loss: 0.1865 - val_acc: 0.9449\n",
            "Epoch 5/100\n",
            "40000/40000 [==============================] - 2s 59us/sample - loss: 0.1427 - acc: 0.9600 - val_loss: 0.1822 - val_acc: 0.9477\n",
            "Epoch 6/100\n",
            "40000/40000 [==============================] - 2s 59us/sample - loss: 0.1397 - acc: 0.9607 - val_loss: 0.1785 - val_acc: 0.9470\n",
            "Epoch 7/100\n",
            "40000/40000 [==============================] - 2s 59us/sample - loss: 0.1373 - acc: 0.9617 - val_loss: 0.1792 - val_acc: 0.9468\n",
            "Epoch 8/100\n",
            "40000/40000 [==============================] - 2s 60us/sample - loss: 0.1348 - acc: 0.9624 - val_loss: 0.1820 - val_acc: 0.9480\n",
            "Epoch 9/100\n",
            "40000/40000 [==============================] - 2s 60us/sample - loss: 0.1321 - acc: 0.9628 - val_loss: 0.1751 - val_acc: 0.9482\n",
            "Epoch 10/100\n",
            "40000/40000 [==============================] - 2s 59us/sample - loss: 0.1297 - acc: 0.9639 - val_loss: 0.1796 - val_acc: 0.9484\n",
            "Epoch 11/100\n",
            "40000/40000 [==============================] - 2s 59us/sample - loss: 0.1275 - acc: 0.9646 - val_loss: 0.1736 - val_acc: 0.9495\n",
            "Epoch 12/100\n",
            "40000/40000 [==============================] - 2s 59us/sample - loss: 0.1249 - acc: 0.9651 - val_loss: 0.1704 - val_acc: 0.9493\n",
            "Epoch 13/100\n",
            "40000/40000 [==============================] - 2s 60us/sample - loss: 0.1226 - acc: 0.9661 - val_loss: 0.1721 - val_acc: 0.9485\n",
            "Epoch 14/100\n",
            "40000/40000 [==============================] - 2s 59us/sample - loss: 0.1208 - acc: 0.9665 - val_loss: 0.1676 - val_acc: 0.9508\n",
            "Epoch 15/100\n",
            "40000/40000 [==============================] - 2s 59us/sample - loss: 0.1186 - acc: 0.9671 - val_loss: 0.1628 - val_acc: 0.9510\n",
            "Epoch 16/100\n",
            "40000/40000 [==============================] - 2s 59us/sample - loss: 0.1165 - acc: 0.9682 - val_loss: 0.1656 - val_acc: 0.9507\n",
            "Epoch 17/100\n",
            "40000/40000 [==============================] - 2s 60us/sample - loss: 0.1146 - acc: 0.9680 - val_loss: 0.1622 - val_acc: 0.9520\n",
            "Epoch 18/100\n",
            "40000/40000 [==============================] - 2s 59us/sample - loss: 0.1127 - acc: 0.9692 - val_loss: 0.1599 - val_acc: 0.9520\n",
            "Epoch 19/100\n",
            "40000/40000 [==============================] - 2s 59us/sample - loss: 0.1106 - acc: 0.9696 - val_loss: 0.1613 - val_acc: 0.9527\n",
            "Epoch 20/100\n",
            "40000/40000 [==============================] - 2s 59us/sample - loss: 0.1089 - acc: 0.9700 - val_loss: 0.1576 - val_acc: 0.9529\n",
            "Epoch 21/100\n",
            "40000/40000 [==============================] - 2s 59us/sample - loss: 0.1068 - acc: 0.9707 - val_loss: 0.1562 - val_acc: 0.9531\n",
            "Epoch 22/100\n",
            "40000/40000 [==============================] - 2s 60us/sample - loss: 0.1052 - acc: 0.9712 - val_loss: 0.1584 - val_acc: 0.9530\n",
            "Epoch 23/100\n",
            "40000/40000 [==============================] - 2s 58us/sample - loss: 0.1038 - acc: 0.9717 - val_loss: 0.1518 - val_acc: 0.9554\n",
            "Epoch 24/100\n",
            "40000/40000 [==============================] - 2s 57us/sample - loss: 0.1018 - acc: 0.9721 - val_loss: 0.1584 - val_acc: 0.9534\n",
            "Epoch 25/100\n",
            "40000/40000 [==============================] - 2s 57us/sample - loss: 0.1003 - acc: 0.9726 - val_loss: 0.1485 - val_acc: 0.9556\n",
            "Epoch 26/100\n",
            "40000/40000 [==============================] - 2s 58us/sample - loss: 0.0987 - acc: 0.9733 - val_loss: 0.1479 - val_acc: 0.9562\n",
            "Epoch 27/100\n",
            "40000/40000 [==============================] - 2s 57us/sample - loss: 0.0970 - acc: 0.9736 - val_loss: 0.1466 - val_acc: 0.9572\n",
            "Epoch 28/100\n",
            "40000/40000 [==============================] - 2s 58us/sample - loss: 0.0956 - acc: 0.9736 - val_loss: 0.1516 - val_acc: 0.9542\n",
            "Epoch 29/100\n",
            "40000/40000 [==============================] - 2s 57us/sample - loss: 0.0941 - acc: 0.9746 - val_loss: 0.1444 - val_acc: 0.9566\n",
            "Epoch 30/100\n",
            "40000/40000 [==============================] - 2s 57us/sample - loss: 0.0926 - acc: 0.9750 - val_loss: 0.1455 - val_acc: 0.9564\n",
            "Epoch 31/100\n",
            "40000/40000 [==============================] - 2s 59us/sample - loss: 0.0911 - acc: 0.9751 - val_loss: 0.1433 - val_acc: 0.9566\n",
            "Epoch 32/100\n",
            "40000/40000 [==============================] - 2s 58us/sample - loss: 0.0897 - acc: 0.9756 - val_loss: 0.1445 - val_acc: 0.9560\n",
            "Epoch 33/100\n",
            "40000/40000 [==============================] - 2s 59us/sample - loss: 0.0886 - acc: 0.9759 - val_loss: 0.1430 - val_acc: 0.9572\n",
            "Epoch 34/100\n",
            "40000/40000 [==============================] - 2s 60us/sample - loss: 0.0874 - acc: 0.9763 - val_loss: 0.1432 - val_acc: 0.9559\n",
            "Epoch 35/100\n",
            "40000/40000 [==============================] - 2s 62us/sample - loss: 0.0859 - acc: 0.9774 - val_loss: 0.1399 - val_acc: 0.9581\n",
            "Epoch 36/100\n",
            "40000/40000 [==============================] - 2s 60us/sample - loss: 0.0846 - acc: 0.9773 - val_loss: 0.1403 - val_acc: 0.9585\n",
            "Epoch 37/100\n",
            "40000/40000 [==============================] - 2s 59us/sample - loss: 0.0835 - acc: 0.9779 - val_loss: 0.1386 - val_acc: 0.9592\n",
            "Epoch 38/100\n",
            "40000/40000 [==============================] - 2s 59us/sample - loss: 0.0822 - acc: 0.9786 - val_loss: 0.1386 - val_acc: 0.9590\n",
            "Epoch 39/100\n",
            "40000/40000 [==============================] - 2s 60us/sample - loss: 0.0810 - acc: 0.9786 - val_loss: 0.1358 - val_acc: 0.9595\n",
            "Epoch 40/100\n",
            "40000/40000 [==============================] - 2s 59us/sample - loss: 0.0798 - acc: 0.9791 - val_loss: 0.1371 - val_acc: 0.9588\n",
            "Epoch 41/100\n",
            "40000/40000 [==============================] - 2s 59us/sample - loss: 0.0786 - acc: 0.9795 - val_loss: 0.1348 - val_acc: 0.9606\n",
            "Epoch 42/100\n",
            "40000/40000 [==============================] - 2s 59us/sample - loss: 0.0776 - acc: 0.9797 - val_loss: 0.1346 - val_acc: 0.9594\n",
            "Epoch 43/100\n",
            "40000/40000 [==============================] - 2s 59us/sample - loss: 0.0766 - acc: 0.9799 - val_loss: 0.1320 - val_acc: 0.9605\n",
            "Epoch 44/100\n",
            "40000/40000 [==============================] - 2s 60us/sample - loss: 0.0754 - acc: 0.9806 - val_loss: 0.1320 - val_acc: 0.9611\n",
            "Epoch 45/100\n",
            "40000/40000 [==============================] - 2s 60us/sample - loss: 0.0744 - acc: 0.9805 - val_loss: 0.1311 - val_acc: 0.9604\n",
            "Epoch 46/100\n",
            "40000/40000 [==============================] - 2s 60us/sample - loss: 0.0733 - acc: 0.9810 - val_loss: 0.1331 - val_acc: 0.9596\n",
            "Epoch 47/100\n",
            "40000/40000 [==============================] - 2s 61us/sample - loss: 0.0724 - acc: 0.9813 - val_loss: 0.1302 - val_acc: 0.9609\n",
            "Epoch 48/100\n",
            "40000/40000 [==============================] - 2s 60us/sample - loss: 0.0714 - acc: 0.9819 - val_loss: 0.1316 - val_acc: 0.9612\n",
            "Epoch 49/100\n",
            "40000/40000 [==============================] - 2s 60us/sample - loss: 0.0704 - acc: 0.9815 - val_loss: 0.1286 - val_acc: 0.9619\n",
            "Epoch 50/100\n",
            "40000/40000 [==============================] - 2s 60us/sample - loss: 0.0695 - acc: 0.9823 - val_loss: 0.1281 - val_acc: 0.9616\n",
            "Epoch 51/100\n",
            "40000/40000 [==============================] - 2s 59us/sample - loss: 0.0685 - acc: 0.9826 - val_loss: 0.1281 - val_acc: 0.9610\n",
            "Epoch 52/100\n",
            "40000/40000 [==============================] - 2s 60us/sample - loss: 0.0676 - acc: 0.9830 - val_loss: 0.1295 - val_acc: 0.9618\n",
            "Epoch 53/100\n",
            "40000/40000 [==============================] - 2s 61us/sample - loss: 0.0668 - acc: 0.9833 - val_loss: 0.1304 - val_acc: 0.9611\n",
            "Epoch 54/100\n",
            "40000/40000 [==============================] - 2s 59us/sample - loss: 0.0660 - acc: 0.9833 - val_loss: 0.1291 - val_acc: 0.9605\n",
            "Epoch 55/100\n",
            "40000/40000 [==============================] - 2s 59us/sample - loss: 0.0650 - acc: 0.9838 - val_loss: 0.1258 - val_acc: 0.9630\n",
            "Epoch 56/100\n",
            "40000/40000 [==============================] - 2s 59us/sample - loss: 0.0641 - acc: 0.9838 - val_loss: 0.1274 - val_acc: 0.9625\n",
            "Epoch 57/100\n",
            "40000/40000 [==============================] - 2s 60us/sample - loss: 0.0636 - acc: 0.9841 - val_loss: 0.1231 - val_acc: 0.9624\n",
            "Epoch 58/100\n",
            "40000/40000 [==============================] - 2s 59us/sample - loss: 0.0624 - acc: 0.9843 - val_loss: 0.1232 - val_acc: 0.9629\n",
            "Epoch 59/100\n",
            "40000/40000 [==============================] - 2s 59us/sample - loss: 0.0616 - acc: 0.9847 - val_loss: 0.1251 - val_acc: 0.9617\n",
            "Epoch 60/100\n",
            "40000/40000 [==============================] - 2s 60us/sample - loss: 0.0610 - acc: 0.9852 - val_loss: 0.1254 - val_acc: 0.9630\n",
            "Epoch 61/100\n",
            "40000/40000 [==============================] - 2s 59us/sample - loss: 0.0602 - acc: 0.9850 - val_loss: 0.1246 - val_acc: 0.9619\n",
            "Epoch 62/100\n",
            "40000/40000 [==============================] - 2s 60us/sample - loss: 0.0594 - acc: 0.9856 - val_loss: 0.1217 - val_acc: 0.9631\n",
            "Epoch 63/100\n",
            "40000/40000 [==============================] - 2s 59us/sample - loss: 0.0587 - acc: 0.9855 - val_loss: 0.1213 - val_acc: 0.9647\n",
            "Epoch 64/100\n",
            "40000/40000 [==============================] - 2s 59us/sample - loss: 0.0579 - acc: 0.9858 - val_loss: 0.1211 - val_acc: 0.9633\n",
            "Epoch 65/100\n",
            "40000/40000 [==============================] - 2s 59us/sample - loss: 0.0573 - acc: 0.9859 - val_loss: 0.1201 - val_acc: 0.9635\n",
            "Epoch 66/100\n",
            "40000/40000 [==============================] - 2s 59us/sample - loss: 0.0565 - acc: 0.9865 - val_loss: 0.1197 - val_acc: 0.9646\n",
            "Epoch 67/100\n",
            "40000/40000 [==============================] - 2s 59us/sample - loss: 0.0558 - acc: 0.9863 - val_loss: 0.1218 - val_acc: 0.9631\n",
            "Epoch 68/100\n",
            "40000/40000 [==============================] - 2s 60us/sample - loss: 0.0551 - acc: 0.9867 - val_loss: 0.1192 - val_acc: 0.9640\n",
            "Epoch 69/100\n",
            "40000/40000 [==============================] - 2s 59us/sample - loss: 0.0544 - acc: 0.9869 - val_loss: 0.1186 - val_acc: 0.9638\n",
            "Epoch 70/100\n",
            "40000/40000 [==============================] - 2s 59us/sample - loss: 0.0538 - acc: 0.9871 - val_loss: 0.1191 - val_acc: 0.9639\n",
            "Epoch 71/100\n",
            "40000/40000 [==============================] - 2s 59us/sample - loss: 0.0530 - acc: 0.9874 - val_loss: 0.1190 - val_acc: 0.9638\n",
            "Epoch 72/100\n",
            "40000/40000 [==============================] - 2s 59us/sample - loss: 0.0524 - acc: 0.9877 - val_loss: 0.1175 - val_acc: 0.9648\n",
            "Epoch 73/100\n",
            "40000/40000 [==============================] - 2s 60us/sample - loss: 0.0518 - acc: 0.9879 - val_loss: 0.1172 - val_acc: 0.9639\n",
            "Epoch 74/100\n",
            "40000/40000 [==============================] - 2s 59us/sample - loss: 0.0512 - acc: 0.9876 - val_loss: 0.1186 - val_acc: 0.9643\n",
            "Epoch 75/100\n",
            "40000/40000 [==============================] - 2s 60us/sample - loss: 0.0507 - acc: 0.9882 - val_loss: 0.1165 - val_acc: 0.9641\n",
            "Epoch 76/100\n",
            "40000/40000 [==============================] - 2s 59us/sample - loss: 0.0500 - acc: 0.9882 - val_loss: 0.1155 - val_acc: 0.9652\n",
            "Epoch 77/100\n",
            "40000/40000 [==============================] - 2s 60us/sample - loss: 0.0493 - acc: 0.9883 - val_loss: 0.1154 - val_acc: 0.9658\n",
            "Epoch 78/100\n",
            "40000/40000 [==============================] - 2s 59us/sample - loss: 0.0488 - acc: 0.9886 - val_loss: 0.1155 - val_acc: 0.9638\n",
            "Epoch 79/100\n",
            "40000/40000 [==============================] - 2s 60us/sample - loss: 0.0482 - acc: 0.9888 - val_loss: 0.1150 - val_acc: 0.9659\n",
            "Epoch 80/100\n",
            "40000/40000 [==============================] - 2s 60us/sample - loss: 0.0476 - acc: 0.9891 - val_loss: 0.1153 - val_acc: 0.9657\n",
            "Epoch 81/100\n",
            "40000/40000 [==============================] - 2s 60us/sample - loss: 0.0472 - acc: 0.9893 - val_loss: 0.1157 - val_acc: 0.9655\n",
            "Epoch 82/100\n",
            "40000/40000 [==============================] - 2s 60us/sample - loss: 0.0465 - acc: 0.9892 - val_loss: 0.1146 - val_acc: 0.9650\n",
            "Epoch 83/100\n",
            "40000/40000 [==============================] - 2s 60us/sample - loss: 0.0459 - acc: 0.9898 - val_loss: 0.1143 - val_acc: 0.9660\n",
            "Epoch 84/100\n",
            "40000/40000 [==============================] - 2s 61us/sample - loss: 0.0455 - acc: 0.9898 - val_loss: 0.1157 - val_acc: 0.9646\n",
            "Epoch 85/100\n",
            "40000/40000 [==============================] - 2s 60us/sample - loss: 0.0450 - acc: 0.9900 - val_loss: 0.1133 - val_acc: 0.9648\n",
            "Epoch 86/100\n",
            "40000/40000 [==============================] - 2s 59us/sample - loss: 0.0445 - acc: 0.9900 - val_loss: 0.1134 - val_acc: 0.9648\n",
            "Epoch 87/100\n",
            "40000/40000 [==============================] - 2s 59us/sample - loss: 0.0440 - acc: 0.9901 - val_loss: 0.1149 - val_acc: 0.9649\n",
            "Epoch 88/100\n",
            "40000/40000 [==============================] - 2s 59us/sample - loss: 0.0434 - acc: 0.9904 - val_loss: 0.1125 - val_acc: 0.9659\n",
            "Epoch 89/100\n",
            "40000/40000 [==============================] - 2s 60us/sample - loss: 0.0429 - acc: 0.9906 - val_loss: 0.1118 - val_acc: 0.9669\n",
            "Epoch 90/100\n",
            "40000/40000 [==============================] - 2s 59us/sample - loss: 0.0424 - acc: 0.9906 - val_loss: 0.1119 - val_acc: 0.9662\n",
            "Epoch 91/100\n",
            "40000/40000 [==============================] - 2s 59us/sample - loss: 0.0419 - acc: 0.9909 - val_loss: 0.1143 - val_acc: 0.9652\n",
            "Epoch 92/100\n",
            "40000/40000 [==============================] - 2s 59us/sample - loss: 0.0416 - acc: 0.9909 - val_loss: 0.1111 - val_acc: 0.9663\n",
            "Epoch 93/100\n",
            "40000/40000 [==============================] - 2s 60us/sample - loss: 0.0410 - acc: 0.9911 - val_loss: 0.1108 - val_acc: 0.9665\n",
            "Epoch 94/100\n",
            "40000/40000 [==============================] - 2s 59us/sample - loss: 0.0406 - acc: 0.9913 - val_loss: 0.1101 - val_acc: 0.9662\n",
            "Epoch 95/100\n",
            "40000/40000 [==============================] - 2s 59us/sample - loss: 0.0400 - acc: 0.9916 - val_loss: 0.1126 - val_acc: 0.9656\n",
            "Epoch 96/100\n",
            "40000/40000 [==============================] - 2s 59us/sample - loss: 0.0397 - acc: 0.9915 - val_loss: 0.1124 - val_acc: 0.9661\n",
            "Epoch 97/100\n",
            "40000/40000 [==============================] - 2s 60us/sample - loss: 0.0393 - acc: 0.9918 - val_loss: 0.1103 - val_acc: 0.9658\n",
            "Epoch 98/100\n",
            "40000/40000 [==============================] - 2s 60us/sample - loss: 0.0387 - acc: 0.9921 - val_loss: 0.1098 - val_acc: 0.9672\n",
            "Epoch 99/100\n",
            "40000/40000 [==============================] - 2s 59us/sample - loss: 0.0383 - acc: 0.9924 - val_loss: 0.1096 - val_acc: 0.9666\n",
            "Epoch 100/100\n",
            "40000/40000 [==============================] - 2s 59us/sample - loss: 0.0379 - acc: 0.9921 - val_loss: 0.1092 - val_acc: 0.9669\n"
          ],
          "name": "stdout"
        }
      ]
    },
    {
      "cell_type": "markdown",
      "metadata": {
        "id": "uz9OJraId2Cd",
        "colab_type": "text"
      },
      "source": [
        "## RMSprop"
      ]
    },
    {
      "cell_type": "code",
      "metadata": {
        "id": "ZQG2xMHyHMTg",
        "colab_type": "code",
        "outputId": "d8c5a0bf-2ec2-4389-982b-c8900d329a1d",
        "colab": {
          "base_uri": "https://localhost:8080/",
          "height": 1000
        }
      },
      "source": [
        "start3 = time.clock()\n",
        "optimizer = tf.keras.optimizers.RMSprop(0.01)\n",
        "model3.compile(loss='categorical_crossentropy', optimizer=optimizer, metrics=['acc'])\n",
        "epochs = 100\n",
        "history3 = model3.fit(xtrain, ytrain, batch_size = 512, epochs = epochs, validation_split = 0.2, verbose = True)\n",
        "end3 = time.clock() - start3"
      ],
      "execution_count": 0,
      "outputs": [
        {
          "output_type": "stream",
          "text": [
            "Train on 40000 samples, validate on 10000 samples\n",
            "Epoch 1/100\n",
            "40000/40000 [==============================] - 3s 63us/sample - loss: 2.4547 - acc: 0.8340 - val_loss: 1.6999 - val_acc: 0.6881\n",
            "Epoch 2/100\n",
            "40000/40000 [==============================] - 2s 61us/sample - loss: 0.3604 - acc: 0.9182 - val_loss: 0.4230 - val_acc: 0.8920\n",
            "Epoch 3/100\n",
            "40000/40000 [==============================] - 2s 60us/sample - loss: 0.1659 - acc: 0.9510 - val_loss: 0.2076 - val_acc: 0.9430\n",
            "Epoch 4/100\n",
            "40000/40000 [==============================] - 2s 60us/sample - loss: 0.1212 - acc: 0.9647 - val_loss: 0.1550 - val_acc: 0.9591\n",
            "Epoch 5/100\n",
            "40000/40000 [==============================] - 2s 61us/sample - loss: 0.0976 - acc: 0.9728 - val_loss: 0.3500 - val_acc: 0.9253\n",
            "Epoch 6/100\n",
            "40000/40000 [==============================] - 3s 63us/sample - loss: 0.0731 - acc: 0.9779 - val_loss: 0.2045 - val_acc: 0.9529\n",
            "Epoch 7/100\n",
            "40000/40000 [==============================] - 2s 60us/sample - loss: 0.0668 - acc: 0.9804 - val_loss: 0.2198 - val_acc: 0.9572\n",
            "Epoch 8/100\n",
            "40000/40000 [==============================] - 2s 60us/sample - loss: 0.0575 - acc: 0.9837 - val_loss: 0.2524 - val_acc: 0.9584\n",
            "Epoch 9/100\n",
            "40000/40000 [==============================] - 2s 61us/sample - loss: 0.0516 - acc: 0.9861 - val_loss: 0.1982 - val_acc: 0.9688\n",
            "Epoch 10/100\n",
            "40000/40000 [==============================] - 2s 61us/sample - loss: 0.0501 - acc: 0.9869 - val_loss: 0.2695 - val_acc: 0.9582\n",
            "Epoch 11/100\n",
            "40000/40000 [==============================] - 2s 61us/sample - loss: 0.0546 - acc: 0.9885 - val_loss: 0.3604 - val_acc: 0.9525\n",
            "Epoch 12/100\n",
            "40000/40000 [==============================] - 2s 60us/sample - loss: 0.0415 - acc: 0.9893 - val_loss: 0.2661 - val_acc: 0.9641\n",
            "Epoch 13/100\n",
            "40000/40000 [==============================] - 2s 60us/sample - loss: 0.0412 - acc: 0.9889 - val_loss: 0.2343 - val_acc: 0.9690\n",
            "Epoch 14/100\n",
            "40000/40000 [==============================] - 2s 61us/sample - loss: 0.0371 - acc: 0.9906 - val_loss: 0.3073 - val_acc: 0.9622\n",
            "Epoch 15/100\n",
            "40000/40000 [==============================] - 2s 60us/sample - loss: 0.0323 - acc: 0.9918 - val_loss: 0.3222 - val_acc: 0.9658\n",
            "Epoch 16/100\n",
            "40000/40000 [==============================] - 2s 60us/sample - loss: 0.0319 - acc: 0.9931 - val_loss: 0.3721 - val_acc: 0.9639\n",
            "Epoch 17/100\n",
            "40000/40000 [==============================] - 2s 60us/sample - loss: 0.0316 - acc: 0.9930 - val_loss: 0.3992 - val_acc: 0.9633\n",
            "Epoch 18/100\n",
            "40000/40000 [==============================] - 2s 61us/sample - loss: 0.0359 - acc: 0.9929 - val_loss: 0.3526 - val_acc: 0.9676\n",
            "Epoch 19/100\n",
            "40000/40000 [==============================] - 2s 60us/sample - loss: 0.0352 - acc: 0.9930 - val_loss: 0.3899 - val_acc: 0.9651\n",
            "Epoch 20/100\n",
            "40000/40000 [==============================] - 2s 60us/sample - loss: 0.0279 - acc: 0.9940 - val_loss: 0.3508 - val_acc: 0.9666\n",
            "Epoch 21/100\n",
            "40000/40000 [==============================] - 2s 61us/sample - loss: 0.0397 - acc: 0.9932 - val_loss: 0.4384 - val_acc: 0.9663\n",
            "Epoch 22/100\n",
            "40000/40000 [==============================] - 2s 60us/sample - loss: 0.0330 - acc: 0.9938 - val_loss: 0.4119 - val_acc: 0.9667\n",
            "Epoch 23/100\n",
            "40000/40000 [==============================] - 2s 61us/sample - loss: 0.0332 - acc: 0.9938 - val_loss: 0.3980 - val_acc: 0.9719\n",
            "Epoch 24/100\n",
            "40000/40000 [==============================] - 2s 60us/sample - loss: 0.0328 - acc: 0.9939 - val_loss: 0.4504 - val_acc: 0.9686\n",
            "Epoch 25/100\n",
            "40000/40000 [==============================] - 2s 60us/sample - loss: 0.0309 - acc: 0.9946 - val_loss: 0.3900 - val_acc: 0.9711\n",
            "Epoch 26/100\n",
            "40000/40000 [==============================] - 2s 61us/sample - loss: 0.0305 - acc: 0.9942 - val_loss: 0.3841 - val_acc: 0.9700\n",
            "Epoch 27/100\n",
            "40000/40000 [==============================] - 2s 61us/sample - loss: 0.0239 - acc: 0.9955 - val_loss: 0.4024 - val_acc: 0.9708\n",
            "Epoch 28/100\n",
            "40000/40000 [==============================] - 2s 60us/sample - loss: 0.0252 - acc: 0.9953 - val_loss: 0.4483 - val_acc: 0.9705\n",
            "Epoch 29/100\n",
            "40000/40000 [==============================] - 2s 61us/sample - loss: 0.0296 - acc: 0.9950 - val_loss: 0.4967 - val_acc: 0.9708\n",
            "Epoch 30/100\n",
            "40000/40000 [==============================] - 2s 61us/sample - loss: 0.0278 - acc: 0.9955 - val_loss: 0.6432 - val_acc: 0.9643\n",
            "Epoch 31/100\n",
            "40000/40000 [==============================] - 2s 60us/sample - loss: 0.0290 - acc: 0.9952 - val_loss: 0.4931 - val_acc: 0.9726\n",
            "Epoch 32/100\n",
            "40000/40000 [==============================] - 2s 61us/sample - loss: 0.0230 - acc: 0.9959 - val_loss: 0.6637 - val_acc: 0.9661\n",
            "Epoch 33/100\n",
            "40000/40000 [==============================] - 2s 60us/sample - loss: 0.0229 - acc: 0.9963 - val_loss: 0.5265 - val_acc: 0.9714\n",
            "Epoch 34/100\n",
            "40000/40000 [==============================] - 2s 60us/sample - loss: 0.0258 - acc: 0.9962 - val_loss: 0.8325 - val_acc: 0.9661\n",
            "Epoch 35/100\n",
            "40000/40000 [==============================] - 2s 60us/sample - loss: 0.0284 - acc: 0.9958 - val_loss: 0.6374 - val_acc: 0.9700\n",
            "Epoch 36/100\n",
            "40000/40000 [==============================] - 2s 61us/sample - loss: 0.0234 - acc: 0.9966 - val_loss: 0.6961 - val_acc: 0.9665\n",
            "Epoch 37/100\n",
            "40000/40000 [==============================] - 2s 60us/sample - loss: 0.0313 - acc: 0.9960 - val_loss: 0.5562 - val_acc: 0.9741\n",
            "Epoch 38/100\n",
            "40000/40000 [==============================] - 2s 60us/sample - loss: 0.0268 - acc: 0.9964 - val_loss: 0.6133 - val_acc: 0.9726\n",
            "Epoch 39/100\n",
            "40000/40000 [==============================] - 2s 60us/sample - loss: 0.0287 - acc: 0.9962 - val_loss: 0.7027 - val_acc: 0.9682\n",
            "Epoch 40/100\n",
            "40000/40000 [==============================] - 2s 61us/sample - loss: 0.0206 - acc: 0.9969 - val_loss: 0.7683 - val_acc: 0.9669\n",
            "Epoch 41/100\n",
            "40000/40000 [==============================] - 2s 60us/sample - loss: 0.0292 - acc: 0.9964 - val_loss: 0.7423 - val_acc: 0.9702\n",
            "Epoch 42/100\n",
            "40000/40000 [==============================] - 2s 60us/sample - loss: 0.0223 - acc: 0.9970 - val_loss: 0.6466 - val_acc: 0.9719\n",
            "Epoch 43/100\n",
            "40000/40000 [==============================] - 2s 61us/sample - loss: 0.0265 - acc: 0.9969 - val_loss: 0.7737 - val_acc: 0.9712\n",
            "Epoch 44/100\n",
            "40000/40000 [==============================] - 2s 60us/sample - loss: 0.0275 - acc: 0.9965 - val_loss: 0.6773 - val_acc: 0.9720\n",
            "Epoch 45/100\n",
            "40000/40000 [==============================] - 2s 61us/sample - loss: 0.0185 - acc: 0.9974 - val_loss: 0.6881 - val_acc: 0.9720\n",
            "Epoch 46/100\n",
            "40000/40000 [==============================] - 2s 61us/sample - loss: 0.0203 - acc: 0.9973 - val_loss: 0.7556 - val_acc: 0.9720\n",
            "Epoch 47/100\n",
            "40000/40000 [==============================] - 2s 60us/sample - loss: 0.0265 - acc: 0.9969 - val_loss: 0.8058 - val_acc: 0.9658\n",
            "Epoch 48/100\n",
            "40000/40000 [==============================] - 2s 60us/sample - loss: 0.0190 - acc: 0.9974 - val_loss: 0.7210 - val_acc: 0.9704\n",
            "Epoch 49/100\n",
            "40000/40000 [==============================] - 2s 61us/sample - loss: 0.0278 - acc: 0.9970 - val_loss: 0.8304 - val_acc: 0.9710\n",
            "Epoch 50/100\n",
            "40000/40000 [==============================] - 2s 61us/sample - loss: 0.0213 - acc: 0.9973 - val_loss: 0.9284 - val_acc: 0.9697\n",
            "Epoch 51/100\n",
            "40000/40000 [==============================] - 2s 60us/sample - loss: 0.0252 - acc: 0.9969 - val_loss: 0.8726 - val_acc: 0.9697\n",
            "Epoch 52/100\n",
            "40000/40000 [==============================] - 2s 61us/sample - loss: 0.0187 - acc: 0.9976 - val_loss: 0.7910 - val_acc: 0.9714\n",
            "Epoch 53/100\n",
            "40000/40000 [==============================] - 2s 60us/sample - loss: 0.0267 - acc: 0.9969 - val_loss: 0.7910 - val_acc: 0.9732\n",
            "Epoch 54/100\n",
            "40000/40000 [==============================] - 2s 62us/sample - loss: 0.0248 - acc: 0.9973 - val_loss: 0.9891 - val_acc: 0.9717\n",
            "Epoch 55/100\n",
            "40000/40000 [==============================] - 2s 62us/sample - loss: 0.0301 - acc: 0.9972 - val_loss: 0.8878 - val_acc: 0.9719\n",
            "Epoch 56/100\n",
            "40000/40000 [==============================] - 2s 61us/sample - loss: 0.0239 - acc: 0.9977 - val_loss: 0.8283 - val_acc: 0.9722\n",
            "Epoch 57/100\n",
            "40000/40000 [==============================] - 2s 62us/sample - loss: 0.0247 - acc: 0.9976 - val_loss: 0.9415 - val_acc: 0.9708\n",
            "Epoch 58/100\n",
            "40000/40000 [==============================] - 3s 63us/sample - loss: 0.0291 - acc: 0.9971 - val_loss: 1.0771 - val_acc: 0.9681\n",
            "Epoch 59/100\n",
            "40000/40000 [==============================] - 2s 62us/sample - loss: 0.0242 - acc: 0.9974 - val_loss: 0.9175 - val_acc: 0.9740\n",
            "Epoch 60/100\n",
            "40000/40000 [==============================] - 2s 61us/sample - loss: 0.0262 - acc: 0.9976 - val_loss: 0.9401 - val_acc: 0.9742\n",
            "Epoch 61/100\n",
            "40000/40000 [==============================] - 2s 60us/sample - loss: 0.0303 - acc: 0.9973 - val_loss: 0.9637 - val_acc: 0.9724\n",
            "Epoch 62/100\n",
            "40000/40000 [==============================] - 2s 61us/sample - loss: 0.0207 - acc: 0.9979 - val_loss: 0.9752 - val_acc: 0.9727\n",
            "Epoch 63/100\n",
            "40000/40000 [==============================] - 2s 60us/sample - loss: 0.0202 - acc: 0.9981 - val_loss: 0.9527 - val_acc: 0.9734\n",
            "Epoch 64/100\n",
            "40000/40000 [==============================] - 2s 60us/sample - loss: 0.0240 - acc: 0.9977 - val_loss: 0.9258 - val_acc: 0.9728\n",
            "Epoch 65/100\n",
            "40000/40000 [==============================] - 2s 60us/sample - loss: 0.0152 - acc: 0.9986 - val_loss: 1.0192 - val_acc: 0.9729\n",
            "Epoch 66/100\n",
            "40000/40000 [==============================] - 2s 60us/sample - loss: 0.0213 - acc: 0.9979 - val_loss: 0.9180 - val_acc: 0.9739\n",
            "Epoch 67/100\n",
            "40000/40000 [==============================] - 2s 61us/sample - loss: 0.0138 - acc: 0.9982 - val_loss: 0.9961 - val_acc: 0.9728\n",
            "Epoch 68/100\n",
            "40000/40000 [==============================] - 2s 60us/sample - loss: 0.0185 - acc: 0.9980 - val_loss: 0.9279 - val_acc: 0.9733\n",
            "Epoch 69/100\n",
            "40000/40000 [==============================] - 2s 60us/sample - loss: 0.0190 - acc: 0.9983 - val_loss: 0.9728 - val_acc: 0.9732\n",
            "Epoch 70/100\n",
            "40000/40000 [==============================] - 2s 60us/sample - loss: 0.0147 - acc: 0.9984 - val_loss: 0.9933 - val_acc: 0.9728\n",
            "Epoch 71/100\n",
            "40000/40000 [==============================] - 2s 61us/sample - loss: 0.0182 - acc: 0.9981 - val_loss: 1.0774 - val_acc: 0.9728\n",
            "Epoch 72/100\n",
            "40000/40000 [==============================] - 2s 61us/sample - loss: 0.0226 - acc: 0.9980 - val_loss: 1.0746 - val_acc: 0.9742\n",
            "Epoch 73/100\n",
            "40000/40000 [==============================] - 2s 60us/sample - loss: 0.0258 - acc: 0.9980 - val_loss: 1.0758 - val_acc: 0.9732\n",
            "Epoch 74/100\n",
            "40000/40000 [==============================] - 2s 60us/sample - loss: 0.0291 - acc: 0.9982 - val_loss: 1.1366 - val_acc: 0.9748\n",
            "Epoch 75/100\n",
            "40000/40000 [==============================] - 2s 60us/sample - loss: 0.0273 - acc: 0.9979 - val_loss: 1.2667 - val_acc: 0.9732\n",
            "Epoch 76/100\n",
            "40000/40000 [==============================] - 2s 61us/sample - loss: 0.0232 - acc: 0.9981 - val_loss: 1.0937 - val_acc: 0.9751\n",
            "Epoch 77/100\n",
            "40000/40000 [==============================] - 2s 60us/sample - loss: 0.0186 - acc: 0.9983 - val_loss: 1.2243 - val_acc: 0.9722\n",
            "Epoch 78/100\n",
            "40000/40000 [==============================] - 2s 61us/sample - loss: 0.0275 - acc: 0.9974 - val_loss: 1.2754 - val_acc: 0.9731\n",
            "Epoch 79/100\n",
            "40000/40000 [==============================] - 2s 60us/sample - loss: 0.0165 - acc: 0.9985 - val_loss: 1.1604 - val_acc: 0.9738\n",
            "Epoch 80/100\n",
            "40000/40000 [==============================] - 2s 62us/sample - loss: 0.0168 - acc: 0.9987 - val_loss: 1.2038 - val_acc: 0.9750\n",
            "Epoch 81/100\n",
            "40000/40000 [==============================] - 2s 60us/sample - loss: 0.0171 - acc: 0.9987 - val_loss: 1.2673 - val_acc: 0.9746\n",
            "Epoch 82/100\n",
            "40000/40000 [==============================] - 2s 61us/sample - loss: 0.0291 - acc: 0.9978 - val_loss: 1.2547 - val_acc: 0.9723\n",
            "Epoch 83/100\n",
            "40000/40000 [==============================] - 2s 61us/sample - loss: 0.0195 - acc: 0.9982 - val_loss: 1.3663 - val_acc: 0.9721\n",
            "Epoch 84/100\n",
            "40000/40000 [==============================] - 2s 60us/sample - loss: 0.0148 - acc: 0.9986 - val_loss: 1.2216 - val_acc: 0.9735\n",
            "Epoch 85/100\n",
            "40000/40000 [==============================] - 2s 61us/sample - loss: 0.0218 - acc: 0.9981 - val_loss: 1.3654 - val_acc: 0.9746\n",
            "Epoch 86/100\n",
            "40000/40000 [==============================] - 2s 60us/sample - loss: 0.0131 - acc: 0.9988 - val_loss: 1.3725 - val_acc: 0.9721\n",
            "Epoch 87/100\n",
            "40000/40000 [==============================] - 2s 61us/sample - loss: 0.0177 - acc: 0.9989 - val_loss: 1.3054 - val_acc: 0.9751\n",
            "Epoch 88/100\n",
            "40000/40000 [==============================] - 2s 61us/sample - loss: 0.0220 - acc: 0.9984 - val_loss: 1.2760 - val_acc: 0.9740\n",
            "Epoch 89/100\n",
            "40000/40000 [==============================] - 2s 62us/sample - loss: 0.0229 - acc: 0.9983 - val_loss: 1.1506 - val_acc: 0.9730\n",
            "Epoch 90/100\n",
            "40000/40000 [==============================] - 2s 62us/sample - loss: 0.0163 - acc: 0.9990 - val_loss: 1.2644 - val_acc: 0.9734\n",
            "Epoch 91/100\n",
            "40000/40000 [==============================] - 2s 62us/sample - loss: 0.0299 - acc: 0.9981 - val_loss: 1.1159 - val_acc: 0.9745\n",
            "Epoch 92/100\n",
            "40000/40000 [==============================] - 3s 63us/sample - loss: 0.0136 - acc: 0.9991 - val_loss: 1.3211 - val_acc: 0.9737\n",
            "Epoch 93/100\n",
            "40000/40000 [==============================] - 2s 62us/sample - loss: 0.0189 - acc: 0.9986 - val_loss: 1.3899 - val_acc: 0.9732\n",
            "Epoch 94/100\n",
            "40000/40000 [==============================] - 2s 61us/sample - loss: 0.0263 - acc: 0.9983 - val_loss: 1.3879 - val_acc: 0.9732\n",
            "Epoch 95/100\n",
            "40000/40000 [==============================] - 2s 60us/sample - loss: 0.0185 - acc: 0.9988 - val_loss: 1.1958 - val_acc: 0.9735\n",
            "Epoch 96/100\n",
            "40000/40000 [==============================] - 2s 60us/sample - loss: 0.0181 - acc: 0.9984 - val_loss: 1.1421 - val_acc: 0.9757\n",
            "Epoch 97/100\n",
            "40000/40000 [==============================] - 2s 60us/sample - loss: 0.0170 - acc: 0.9985 - val_loss: 1.3525 - val_acc: 0.9745\n",
            "Epoch 98/100\n",
            "40000/40000 [==============================] - 2s 61us/sample - loss: 0.0173 - acc: 0.9987 - val_loss: 1.4965 - val_acc: 0.9731\n",
            "Epoch 99/100\n",
            "40000/40000 [==============================] - 2s 60us/sample - loss: 0.0215 - acc: 0.9988 - val_loss: 1.5040 - val_acc: 0.9747\n",
            "Epoch 100/100\n",
            "40000/40000 [==============================] - 2s 60us/sample - loss: 0.0276 - acc: 0.9984 - val_loss: 1.1879 - val_acc: 0.9751\n"
          ],
          "name": "stdout"
        }
      ]
    },
    {
      "cell_type": "markdown",
      "metadata": {
        "id": "JsMlrHYVd5S1",
        "colab_type": "text"
      },
      "source": [
        "## Adam"
      ]
    },
    {
      "cell_type": "code",
      "metadata": {
        "id": "2GQODZbTcoKA",
        "colab_type": "code",
        "outputId": "575c4495-dbb6-46b9-cc33-bdc60992813a",
        "colab": {
          "base_uri": "https://localhost:8080/",
          "height": 1000
        }
      },
      "source": [
        "start4 = time.clock()\n",
        "optimizer = tf.keras.optimizers.Adam(0.01)\n",
        "model4.compile(loss='categorical_crossentropy', optimizer=optimizer, metrics=['acc'])\n",
        "epochs = 100\n",
        "history4 = model4.fit(xtrain, ytrain, batch_size = 512, epochs = epochs, validation_split = 0.2, verbose = True)\n",
        "end4 = time.clock() - start2"
      ],
      "execution_count": 0,
      "outputs": [
        {
          "output_type": "stream",
          "text": [
            "Train on 40000 samples, validate on 10000 samples\n",
            "Epoch 1/100\n",
            "40000/40000 [==============================] - 2s 61us/sample - loss: 0.0497 - acc: 0.9969 - val_loss: 1.5745 - val_acc: 0.9668\n",
            "Epoch 2/100\n",
            "40000/40000 [==============================] - 2s 58us/sample - loss: 0.0767 - acc: 0.9956 - val_loss: 1.6408 - val_acc: 0.9685\n",
            "Epoch 3/100\n",
            "40000/40000 [==============================] - 2s 57us/sample - loss: 0.0745 - acc: 0.9962 - val_loss: 1.4936 - val_acc: 0.9664\n",
            "Epoch 4/100\n",
            "40000/40000 [==============================] - 2s 57us/sample - loss: 0.0784 - acc: 0.9967 - val_loss: 1.2656 - val_acc: 0.9704\n",
            "Epoch 5/100\n",
            "40000/40000 [==============================] - 2s 58us/sample - loss: 0.0394 - acc: 0.9970 - val_loss: 1.2573 - val_acc: 0.9694\n",
            "Epoch 6/100\n",
            "40000/40000 [==============================] - 2s 57us/sample - loss: 0.0600 - acc: 0.9964 - val_loss: 1.1345 - val_acc: 0.9722\n",
            "Epoch 7/100\n",
            "40000/40000 [==============================] - 2s 57us/sample - loss: 0.0547 - acc: 0.9964 - val_loss: 1.0892 - val_acc: 0.9713\n",
            "Epoch 8/100\n",
            "40000/40000 [==============================] - 2s 57us/sample - loss: 0.0783 - acc: 0.9956 - val_loss: 0.9292 - val_acc: 0.9728\n",
            "Epoch 9/100\n",
            "40000/40000 [==============================] - 2s 57us/sample - loss: 0.0513 - acc: 0.9958 - val_loss: 0.9529 - val_acc: 0.9722\n",
            "Epoch 10/100\n",
            "40000/40000 [==============================] - 2s 58us/sample - loss: 0.0231 - acc: 0.9976 - val_loss: 0.9425 - val_acc: 0.9710\n",
            "Epoch 11/100\n",
            "40000/40000 [==============================] - 2s 57us/sample - loss: 0.0135 - acc: 0.9984 - val_loss: 0.9438 - val_acc: 0.9725\n",
            "Epoch 12/100\n",
            "40000/40000 [==============================] - 2s 57us/sample - loss: 0.0345 - acc: 0.9972 - val_loss: 1.0005 - val_acc: 0.9720\n",
            "Epoch 13/100\n",
            "40000/40000 [==============================] - 2s 57us/sample - loss: 0.0280 - acc: 0.9976 - val_loss: 0.9949 - val_acc: 0.9723\n",
            "Epoch 14/100\n",
            "40000/40000 [==============================] - 2s 58us/sample - loss: 0.0229 - acc: 0.9973 - val_loss: 1.2373 - val_acc: 0.9695\n",
            "Epoch 15/100\n",
            "40000/40000 [==============================] - 2s 57us/sample - loss: 0.0347 - acc: 0.9973 - val_loss: 0.9407 - val_acc: 0.9733\n",
            "Epoch 16/100\n",
            "40000/40000 [==============================] - 2s 57us/sample - loss: 0.0224 - acc: 0.9981 - val_loss: 0.9584 - val_acc: 0.9726\n",
            "Epoch 17/100\n",
            "40000/40000 [==============================] - 2s 57us/sample - loss: 0.0369 - acc: 0.9978 - val_loss: 0.9014 - val_acc: 0.9733\n",
            "Epoch 18/100\n",
            "40000/40000 [==============================] - 2s 57us/sample - loss: 0.0368 - acc: 0.9971 - val_loss: 0.8809 - val_acc: 0.9716\n",
            "Epoch 19/100\n",
            "40000/40000 [==============================] - 2s 57us/sample - loss: 0.0372 - acc: 0.9969 - val_loss: 1.0056 - val_acc: 0.9697\n",
            "Epoch 20/100\n",
            "40000/40000 [==============================] - 2s 57us/sample - loss: 0.0346 - acc: 0.9969 - val_loss: 1.1163 - val_acc: 0.9700\n",
            "Epoch 21/100\n",
            "40000/40000 [==============================] - 2s 57us/sample - loss: 0.0430 - acc: 0.9966 - val_loss: 1.0951 - val_acc: 0.9718\n",
            "Epoch 22/100\n",
            "40000/40000 [==============================] - 2s 57us/sample - loss: 0.0619 - acc: 0.9956 - val_loss: 0.9424 - val_acc: 0.9687\n",
            "Epoch 23/100\n",
            "40000/40000 [==============================] - 2s 58us/sample - loss: 0.0236 - acc: 0.9979 - val_loss: 1.2066 - val_acc: 0.9708\n",
            "Epoch 24/100\n",
            "40000/40000 [==============================] - 2s 57us/sample - loss: 0.0658 - acc: 0.9961 - val_loss: 1.3127 - val_acc: 0.9688\n",
            "Epoch 25/100\n",
            "40000/40000 [==============================] - 2s 57us/sample - loss: 0.0621 - acc: 0.9957 - val_loss: 1.1049 - val_acc: 0.9689\n",
            "Epoch 26/100\n",
            "40000/40000 [==============================] - 2s 57us/sample - loss: 0.0350 - acc: 0.9968 - val_loss: 1.1484 - val_acc: 0.9706\n",
            "Epoch 27/100\n",
            "40000/40000 [==============================] - 2s 57us/sample - loss: 0.0502 - acc: 0.9963 - val_loss: 1.1636 - val_acc: 0.9706\n",
            "Epoch 28/100\n",
            "40000/40000 [==============================] - 2s 57us/sample - loss: 0.0476 - acc: 0.9969 - val_loss: 1.1724 - val_acc: 0.9717\n",
            "Epoch 29/100\n",
            "40000/40000 [==============================] - 2s 57us/sample - loss: 0.0304 - acc: 0.9974 - val_loss: 1.1060 - val_acc: 0.9721\n",
            "Epoch 30/100\n",
            "40000/40000 [==============================] - 2s 56us/sample - loss: 0.0185 - acc: 0.9983 - val_loss: 1.1555 - val_acc: 0.9745\n",
            "Epoch 31/100\n",
            "40000/40000 [==============================] - 2s 57us/sample - loss: 0.0631 - acc: 0.9965 - val_loss: 1.0944 - val_acc: 0.9717\n",
            "Epoch 32/100\n",
            "40000/40000 [==============================] - 2s 57us/sample - loss: 0.0359 - acc: 0.9976 - val_loss: 1.1032 - val_acc: 0.9707\n",
            "Epoch 33/100\n",
            "40000/40000 [==============================] - 2s 57us/sample - loss: 0.0392 - acc: 0.9975 - val_loss: 1.1086 - val_acc: 0.9717\n",
            "Epoch 34/100\n",
            "40000/40000 [==============================] - 2s 56us/sample - loss: 0.0175 - acc: 0.9982 - val_loss: 0.9141 - val_acc: 0.9728\n",
            "Epoch 35/100\n",
            "40000/40000 [==============================] - 2s 57us/sample - loss: 0.0102 - acc: 0.9988 - val_loss: 0.8967 - val_acc: 0.9739\n",
            "Epoch 36/100\n",
            "40000/40000 [==============================] - 2s 57us/sample - loss: 0.0081 - acc: 0.9992 - val_loss: 0.9153 - val_acc: 0.9738\n",
            "Epoch 37/100\n",
            "40000/40000 [==============================] - 2s 57us/sample - loss: 0.0049 - acc: 0.9994 - val_loss: 0.9594 - val_acc: 0.9749\n",
            "Epoch 38/100\n",
            "40000/40000 [==============================] - 2s 57us/sample - loss: 0.0157 - acc: 0.9988 - val_loss: 0.9354 - val_acc: 0.9748\n",
            "Epoch 39/100\n",
            "40000/40000 [==============================] - 2s 57us/sample - loss: 0.0102 - acc: 0.9988 - val_loss: 1.0872 - val_acc: 0.9743\n",
            "Epoch 40/100\n",
            "40000/40000 [==============================] - 2s 57us/sample - loss: 0.0405 - acc: 0.9975 - val_loss: 0.9863 - val_acc: 0.9719\n",
            "Epoch 41/100\n",
            "40000/40000 [==============================] - 2s 57us/sample - loss: 0.0412 - acc: 0.9970 - val_loss: 1.1302 - val_acc: 0.9672\n",
            "Epoch 42/100\n",
            "40000/40000 [==============================] - 2s 57us/sample - loss: 0.0321 - acc: 0.9975 - val_loss: 0.9402 - val_acc: 0.9689\n",
            "Epoch 43/100\n",
            "40000/40000 [==============================] - 2s 56us/sample - loss: 0.0250 - acc: 0.9976 - val_loss: 1.0387 - val_acc: 0.9700\n",
            "Epoch 44/100\n",
            "40000/40000 [==============================] - 2s 56us/sample - loss: 0.0374 - acc: 0.9971 - val_loss: 0.8786 - val_acc: 0.9720\n",
            "Epoch 45/100\n",
            "40000/40000 [==============================] - 2s 56us/sample - loss: 0.0203 - acc: 0.9982 - val_loss: 0.9504 - val_acc: 0.9739\n",
            "Epoch 46/100\n",
            "40000/40000 [==============================] - 2s 57us/sample - loss: 0.0256 - acc: 0.9980 - val_loss: 0.8799 - val_acc: 0.9723\n",
            "Epoch 47/100\n",
            "40000/40000 [==============================] - 2s 56us/sample - loss: 0.0209 - acc: 0.9979 - val_loss: 0.9167 - val_acc: 0.9730\n",
            "Epoch 48/100\n",
            "40000/40000 [==============================] - 2s 57us/sample - loss: 0.0152 - acc: 0.9987 - val_loss: 0.9750 - val_acc: 0.9738\n",
            "Epoch 49/100\n",
            "40000/40000 [==============================] - 2s 58us/sample - loss: 0.0145 - acc: 0.9984 - val_loss: 0.9763 - val_acc: 0.9739\n",
            "Epoch 50/100\n",
            "40000/40000 [==============================] - 2s 57us/sample - loss: 0.0195 - acc: 0.9981 - val_loss: 1.0053 - val_acc: 0.9714\n",
            "Epoch 51/100\n",
            "40000/40000 [==============================] - 2s 57us/sample - loss: 0.0253 - acc: 0.9979 - val_loss: 0.9562 - val_acc: 0.9742\n",
            "Epoch 52/100\n",
            "40000/40000 [==============================] - 2s 57us/sample - loss: 0.0076 - acc: 0.9990 - val_loss: 0.9415 - val_acc: 0.9714\n",
            "Epoch 53/100\n",
            "40000/40000 [==============================] - 2s 57us/sample - loss: 0.0112 - acc: 0.9989 - val_loss: 0.9392 - val_acc: 0.9740\n",
            "Epoch 54/100\n",
            "40000/40000 [==============================] - 2s 58us/sample - loss: 0.0271 - acc: 0.9976 - val_loss: 1.0222 - val_acc: 0.9724\n",
            "Epoch 55/100\n",
            "40000/40000 [==============================] - 2s 58us/sample - loss: 0.0367 - acc: 0.9973 - val_loss: 1.3271 - val_acc: 0.9673\n",
            "Epoch 56/100\n",
            "40000/40000 [==============================] - 2s 57us/sample - loss: 0.0372 - acc: 0.9967 - val_loss: 1.0138 - val_acc: 0.9705\n",
            "Epoch 57/100\n",
            "40000/40000 [==============================] - 2s 57us/sample - loss: 0.0371 - acc: 0.9971 - val_loss: 0.9531 - val_acc: 0.9709\n",
            "Epoch 58/100\n",
            "40000/40000 [==============================] - 2s 57us/sample - loss: 0.0335 - acc: 0.9971 - val_loss: 1.0850 - val_acc: 0.9703\n",
            "Epoch 59/100\n",
            "40000/40000 [==============================] - 2s 57us/sample - loss: 0.0235 - acc: 0.9976 - val_loss: 1.1019 - val_acc: 0.9733\n",
            "Epoch 60/100\n",
            "40000/40000 [==============================] - 2s 57us/sample - loss: 0.0496 - acc: 0.9966 - val_loss: 1.7880 - val_acc: 0.9635\n",
            "Epoch 61/100\n",
            "40000/40000 [==============================] - 2s 57us/sample - loss: 0.0854 - acc: 0.9946 - val_loss: 1.5168 - val_acc: 0.9689\n",
            "Epoch 62/100\n",
            "40000/40000 [==============================] - 2s 57us/sample - loss: 0.0623 - acc: 0.9959 - val_loss: 1.2779 - val_acc: 0.9684\n",
            "Epoch 63/100\n",
            "40000/40000 [==============================] - 2s 57us/sample - loss: 0.0266 - acc: 0.9973 - val_loss: 1.0276 - val_acc: 0.9726\n",
            "Epoch 64/100\n",
            "40000/40000 [==============================] - 2s 57us/sample - loss: 0.0051 - acc: 0.9989 - val_loss: 1.0573 - val_acc: 0.9720\n",
            "Epoch 65/100\n",
            "40000/40000 [==============================] - 2s 57us/sample - loss: 0.0083 - acc: 0.9992 - val_loss: 1.1686 - val_acc: 0.9722\n",
            "Epoch 66/100\n",
            "40000/40000 [==============================] - 2s 57us/sample - loss: 0.0209 - acc: 0.9982 - val_loss: 1.4518 - val_acc: 0.9667\n",
            "Epoch 67/100\n",
            "40000/40000 [==============================] - 2s 57us/sample - loss: 0.0234 - acc: 0.9980 - val_loss: 1.3877 - val_acc: 0.9699\n",
            "Epoch 68/100\n",
            "40000/40000 [==============================] - 2s 57us/sample - loss: 0.0163 - acc: 0.9985 - val_loss: 1.1653 - val_acc: 0.9731\n",
            "Epoch 69/100\n",
            "40000/40000 [==============================] - 2s 57us/sample - loss: 0.0200 - acc: 0.9984 - val_loss: 1.2954 - val_acc: 0.9716\n",
            "Epoch 70/100\n",
            "40000/40000 [==============================] - 2s 56us/sample - loss: 0.0238 - acc: 0.9984 - val_loss: 1.4843 - val_acc: 0.9709\n",
            "Epoch 71/100\n",
            "40000/40000 [==============================] - 2s 57us/sample - loss: 0.0341 - acc: 0.9969 - val_loss: 1.1658 - val_acc: 0.9731\n",
            "Epoch 72/100\n",
            "40000/40000 [==============================] - 2s 57us/sample - loss: 0.0286 - acc: 0.9977 - val_loss: 1.2680 - val_acc: 0.9700\n",
            "Epoch 73/100\n",
            "40000/40000 [==============================] - 2s 56us/sample - loss: 0.0242 - acc: 0.9976 - val_loss: 1.3195 - val_acc: 0.9714\n",
            "Epoch 74/100\n",
            "40000/40000 [==============================] - 2s 56us/sample - loss: 0.0375 - acc: 0.9977 - val_loss: 1.4098 - val_acc: 0.9694\n",
            "Epoch 75/100\n",
            "40000/40000 [==============================] - 2s 57us/sample - loss: 0.0329 - acc: 0.9977 - val_loss: 1.3356 - val_acc: 0.9702\n",
            "Epoch 76/100\n",
            "40000/40000 [==============================] - 2s 57us/sample - loss: 0.0408 - acc: 0.9972 - val_loss: 1.2675 - val_acc: 0.9739\n",
            "Epoch 77/100\n",
            "40000/40000 [==============================] - 2s 57us/sample - loss: 0.0239 - acc: 0.9978 - val_loss: 1.4180 - val_acc: 0.9709\n",
            "Epoch 78/100\n",
            "40000/40000 [==============================] - 2s 57us/sample - loss: 0.0088 - acc: 0.9989 - val_loss: 1.1298 - val_acc: 0.9732\n",
            "Epoch 79/100\n",
            "40000/40000 [==============================] - 2s 57us/sample - loss: 0.0091 - acc: 0.9992 - val_loss: 1.2710 - val_acc: 0.9707\n",
            "Epoch 80/100\n",
            "40000/40000 [==============================] - 2s 56us/sample - loss: 0.0202 - acc: 0.9984 - val_loss: 1.3343 - val_acc: 0.9720\n",
            "Epoch 81/100\n",
            "40000/40000 [==============================] - 2s 57us/sample - loss: 0.0070 - acc: 0.9992 - val_loss: 1.3845 - val_acc: 0.9717\n",
            "Epoch 82/100\n",
            "40000/40000 [==============================] - 2s 57us/sample - loss: 0.0097 - acc: 0.9989 - val_loss: 1.3274 - val_acc: 0.9727\n",
            "Epoch 83/100\n",
            "40000/40000 [==============================] - 2s 58us/sample - loss: 0.0123 - acc: 0.9986 - val_loss: 1.2851 - val_acc: 0.9736\n",
            "Epoch 84/100\n",
            "40000/40000 [==============================] - 2s 57us/sample - loss: 0.0219 - acc: 0.9982 - val_loss: 1.4963 - val_acc: 0.9722\n",
            "Epoch 85/100\n",
            "40000/40000 [==============================] - 2s 57us/sample - loss: 0.0202 - acc: 0.9985 - val_loss: 1.3041 - val_acc: 0.9712\n",
            "Epoch 86/100\n",
            "40000/40000 [==============================] - 2s 57us/sample - loss: 0.0192 - acc: 0.9980 - val_loss: 1.2785 - val_acc: 0.9728\n",
            "Epoch 87/100\n",
            "40000/40000 [==============================] - 2s 57us/sample - loss: 0.0162 - acc: 0.9984 - val_loss: 1.3395 - val_acc: 0.9715\n",
            "Epoch 88/100\n",
            "40000/40000 [==============================] - 2s 58us/sample - loss: 0.0311 - acc: 0.9980 - val_loss: 1.6766 - val_acc: 0.9684\n",
            "Epoch 89/100\n",
            "40000/40000 [==============================] - 2s 58us/sample - loss: 0.0558 - acc: 0.9960 - val_loss: 1.2535 - val_acc: 0.9698\n",
            "Epoch 90/100\n",
            "40000/40000 [==============================] - 2s 57us/sample - loss: 0.0780 - acc: 0.9958 - val_loss: 1.5265 - val_acc: 0.9663\n",
            "Epoch 91/100\n",
            "40000/40000 [==============================] - 2s 57us/sample - loss: 0.0561 - acc: 0.9963 - val_loss: 1.1328 - val_acc: 0.9698\n",
            "Epoch 92/100\n",
            "40000/40000 [==============================] - 2s 57us/sample - loss: 0.0298 - acc: 0.9971 - val_loss: 1.4092 - val_acc: 0.9719\n",
            "Epoch 93/100\n",
            "40000/40000 [==============================] - 2s 58us/sample - loss: 0.0272 - acc: 0.9977 - val_loss: 1.0134 - val_acc: 0.9751\n",
            "Epoch 94/100\n",
            "40000/40000 [==============================] - 2s 57us/sample - loss: 0.0128 - acc: 0.9984 - val_loss: 1.1059 - val_acc: 0.9728\n",
            "Epoch 95/100\n",
            "40000/40000 [==============================] - 2s 57us/sample - loss: 0.0192 - acc: 0.9984 - val_loss: 1.2742 - val_acc: 0.9723\n",
            "Epoch 96/100\n",
            "40000/40000 [==============================] - 2s 57us/sample - loss: 0.0355 - acc: 0.9976 - val_loss: 1.7272 - val_acc: 0.9676\n",
            "Epoch 97/100\n",
            "40000/40000 [==============================] - 2s 58us/sample - loss: 0.0396 - acc: 0.9973 - val_loss: 1.2321 - val_acc: 0.9713\n",
            "Epoch 98/100\n",
            "40000/40000 [==============================] - 2s 57us/sample - loss: 0.0449 - acc: 0.9974 - val_loss: 1.4314 - val_acc: 0.9714\n",
            "Epoch 99/100\n",
            "40000/40000 [==============================] - 2s 56us/sample - loss: 0.0375 - acc: 0.9972 - val_loss: 1.4372 - val_acc: 0.9717\n",
            "Epoch 100/100\n",
            "40000/40000 [==============================] - 2s 57us/sample - loss: 0.0332 - acc: 0.9976 - val_loss: 1.2129 - val_acc: 0.9723\n"
          ],
          "name": "stdout"
        }
      ]
    },
    {
      "cell_type": "code",
      "metadata": {
        "id": "kcARmRR5EI4J",
        "colab_type": "code",
        "colab": {}
      },
      "source": [
        "def plot_history(history):\n",
        "  hist = pd.DataFrame(history.history)\n",
        "  hist['epoch'] = history.epoch\n",
        "  \n",
        "  plt.figure()\n",
        "  plt.xlabel('Epoch')\n",
        "  plt.ylabel('Loss')\n",
        "  plt.plot(hist['epoch'], hist['loss'],\n",
        "           label='Train Loss')\n",
        "  plt.plot(hist['epoch'], hist['val_loss'],\n",
        "           label = 'Val Loss')\n",
        "  #plt.ylim([0.4,1.2])\n",
        "  plt.legend()"
      ],
      "execution_count": 0,
      "outputs": []
    },
    {
      "cell_type": "code",
      "metadata": {
        "id": "26OWwHyKe-uf",
        "colab_type": "code",
        "colab": {}
      },
      "source": [
        "def plot_historyAcc(history):\n",
        "  hist = pd.DataFrame(history.history)\n",
        "  hist['epoch'] = history.epoch\n",
        "  \n",
        "  plt.figure()\n",
        "  plt.xlabel('Epoch')\n",
        "  plt.ylabel('Accuracy')\n",
        "  plt.plot(hist['epoch'], hist['acc'],\n",
        "           label='Train Accuracy')\n",
        "  plt.plot(hist['epoch'], hist['val_acc'],\n",
        "           label = 'Val Accuracy')\n",
        "  plt.ylim([0.4,1.2])\n",
        "  plt.legend()"
      ],
      "execution_count": 0,
      "outputs": []
    },
    {
      "cell_type": "code",
      "metadata": {
        "id": "itAQMokiGnT3",
        "colab_type": "code",
        "outputId": "e1da9b63-be62-4797-cac1-52ff65dfda15",
        "colab": {
          "base_uri": "https://localhost:8080/",
          "height": 296
        }
      },
      "source": [
        "plot_history(history1)\n",
        "print(\"Using SGD, time consumed is \" + str(end1) + \" seconds\")"
      ],
      "execution_count": 0,
      "outputs": [
        {
          "output_type": "stream",
          "text": [
            "Using SGD, time consumed is 383.86218299999996 seconds\n"
          ],
          "name": "stdout"
        },
        {
          "output_type": "display_data",
          "data": {
            "image/png": "[encoded data removed]",
            "text/plain": [
              "<Figure size 432x288 with 1 Axes>"
            ]
          },
          "metadata": {
            "tags": []
          }
        }
      ]
    },
    {
      "cell_type": "code",
      "metadata": {
        "id": "q8tQD03zgNEV",
        "colab_type": "code",
        "outputId": "665db392-9fab-4c19-cf2e-b63498797af0",
        "colab": {
          "base_uri": "https://localhost:8080/",
          "height": 300
        }
      },
      "source": [
        "plot_historyAcc(history1)\n",
        "print(\"train accuracy is \" + str(history1.history['acc'][-1]) + \"Validation accuracy is: \" + str(history1.history['val_acc'][-1]))"
      ],
      "execution_count": 0,
      "outputs": [
        {
          "output_type": "stream",
          "text": [
            "train accuracy is 0.956625Validation accuracy is: 0.9417\n"
          ],
          "name": "stdout"
        },
        {
          "output_type": "display_data",
          "data": {
            "image/png": "[encoded data removed]",
            "text/plain": [
              "<Figure size 432x288 with 1 Axes>"
            ]
          },
          "metadata": {
            "tags": []
          }
        }
      ]
    },
    {
      "cell_type": "code",
      "metadata": {
        "id": "NJpVIXjxdUL1",
        "colab_type": "code",
        "outputId": "e2cbf815-1ca0-401d-f5cb-c35d6fb8055e",
        "colab": {
          "base_uri": "https://localhost:8080/",
          "height": 296
        }
      },
      "source": [
        "plot_history(history2)\n",
        "print(\"Using Adagrad, time consumed is \" + str(end2) + \" seconds\")"
      ],
      "execution_count": 0,
      "outputs": [
        {
          "output_type": "stream",
          "text": [
            "Using Adagrad, time consumed is 409.6363500000001 seconds\n"
          ],
          "name": "stdout"
        },
        {
          "output_type": "display_data",
          "data": {
            "image/png": "[encoded data removed]",
            "text/plain": [
              "<Figure size 432x288 with 1 Axes>"
            ]
          },
          "metadata": {
            "tags": []
          }
        }
      ]
    },
    {
      "cell_type": "code",
      "metadata": {
        "id": "GBH3aMNPgWQu",
        "colab_type": "code",
        "outputId": "81235b6c-81c3-459b-e472-d6293940eec6",
        "colab": {
          "base_uri": "https://localhost:8080/",
          "height": 300
        }
      },
      "source": [
        "plot_historyAcc(history2)\n",
        "print(\"train accuracy is \" + str(history2.history['acc'][-1]) + \"Validation accuracy is: \" + str(history2.history['val_acc'][-1]))"
      ],
      "execution_count": 0,
      "outputs": [
        {
          "output_type": "stream",
          "text": [
            "train accuracy is 0.9921Validation accuracy is: 0.9669\n"
          ],
          "name": "stdout"
        },
        {
          "output_type": "display_data",
          "data": {
            "image/png": "[encoded data removed]",
            "text/plain": [
              "<Figure size 432x288 with 1 Axes>"
            ]
          },
          "metadata": {
            "tags": []
          }
        }
      ]
    },
    {
      "cell_type": "code",
      "metadata": {
        "id": "xBbYx0-kO4RW",
        "colab_type": "code",
        "outputId": "f8497741-54fb-4e94-c2bf-86c1487bcbcc",
        "colab": {
          "base_uri": "https://localhost:8080/",
          "height": 296
        }
      },
      "source": [
        "plot_history(history3)\n",
        "print(\"Using RMSprop, time consumed is \" + str(end3) + \" seconds\")"
      ],
      "execution_count": 0,
      "outputs": [
        {
          "output_type": "stream",
          "text": [
            "Using RMSprop, time consumed is 420.185434 seconds\n"
          ],
          "name": "stdout"
        },
        {
          "output_type": "display_data",
          "data": {
            "image/png": "[encoded data removed]",
            "text/plain": [
              "<Figure size 432x288 with 1 Axes>"
            ]
          },
          "metadata": {
            "tags": []
          }
        }
      ]
    },
    {
      "cell_type": "code",
      "metadata": {
        "id": "gTvSi100gh6r",
        "colab_type": "code",
        "outputId": "d533c539-aba7-4e20-e6c6-af2b5520c5a9",
        "colab": {
          "base_uri": "https://localhost:8080/",
          "height": 300
        }
      },
      "source": [
        "plot_historyAcc(history3)\n",
        "print(\"train accuracy is \" + str(history3.history['acc'][-1]) + \"Validation accuracy is: \" + str(history3.history['val_acc'][-1]))"
      ],
      "execution_count": 0,
      "outputs": [
        {
          "output_type": "stream",
          "text": [
            "train accuracy is 0.99845Validation accuracy is: 0.9751\n"
          ],
          "name": "stdout"
        },
        {
          "output_type": "display_data",
          "data": {
            "image/png": "[encoded data removed]",
            "text/plain": [
              "<Figure size 432x288 with 1 Axes>"
            ]
          },
          "metadata": {
            "tags": []
          }
        }
      ]
    },
    {
      "cell_type": "code",
      "metadata": {
        "id": "VNn3RXnaO6KV",
        "colab_type": "code",
        "outputId": "b72a7e4c-921f-49fe-b512-df307f440bd4",
        "colab": {
          "base_uri": "https://localhost:8080/",
          "height": 296
        }
      },
      "source": [
        "plot_history(history4)\n",
        "print(\"Using Adam, time consumed is \" + str(end4) + \" seconds\")"
      ],
      "execution_count": 0,
      "outputs": [
        {
          "output_type": "stream",
          "text": [
            "Using Adam, time consumed is 1223.4244039999999 seconds\n"
          ],
          "name": "stdout"
        },
        {
          "output_type": "display_data",
          "data": {
            "image/png": "[encoded data removed]",
            "text/plain": [
              "<Figure size 432x288 with 1 Axes>"
            ]
          },
          "metadata": {
            "tags": []
          }
        }
      ]
    },
    {
      "cell_type": "code",
      "metadata": {
        "id": "YPc5XAZggxuT",
        "colab_type": "code",
        "outputId": "b577bfb6-07ac-457c-f039-409ad0a2d59c",
        "colab": {
          "base_uri": "https://localhost:8080/",
          "height": 300
        }
      },
      "source": [
        "plot_historyAcc(history4)\n",
        "print(\"train accuracy is \" + str(history4.history['acc'][-1]) + \"Validation accuracy is: \" + str(history4.history['val_acc'][-1]))"
      ],
      "execution_count": 0,
      "outputs": [
        {
          "output_type": "stream",
          "text": [
            "train accuracy is 0.997575Validation accuracy is: 0.9723\n"
          ],
          "name": "stdout"
        },
        {
          "output_type": "display_data",
          "data": {
            "image/png": "[encoded data removed]",
            "text/plain": [
              "<Figure size 432x288 with 1 Axes>"
            ]
          },
          "metadata": {
            "tags": []
          }
        }
      ]
    },
    {
      "cell_type": "markdown",
      "metadata": {
        "id": "EpAg4k6VvYCM",
        "colab_type": "text"
      },
      "source": [
        "# Hyperparameter tuning"
      ]
    },
    {
      "cell_type": "markdown",
      "metadata": {
        "id": "PbGFbBNEUA_D",
        "colab_type": "text"
      },
      "source": [
        "When designing the architecture for an artificial neural network, there exist a variety of parameters that can be tuned. It is indeed an art in itself to find the right combination for these parameters to achieve the highest accuracy. "
      ]
    },
    {
      "cell_type": "markdown",
      "metadata": {
        "id": "A1X8OeL2US0l",
        "colab_type": "text"
      },
      "source": [
        "Talos was released on May 11, 2018 and has since been upgraded seven times. It works for Python 2 and Python 3, and follows a POD (Prepare, Optimize, Deploy) workflow, to create a flexible and efficient pipeline with state-of-the-art prediction results. When running the code with Talos in the scan-command, all possible combinations are tested in one experiment. The best model is then saved and can be applied just like if you made a neural network using Keras."
      ]
    },
    {
      "cell_type": "markdown",
      "metadata": {
        "id": "JYRc6Kr_kSEk",
        "colab_type": "text"
      },
      "source": [
        "<img src='https://raw.githubusercontent.com/autonomio/hyperio/master/logo.png' width=250px>"
      ]
    },
    {
      "cell_type": "code",
      "metadata": {
        "id": "VJoRsPaBkXTH",
        "colab_type": "code",
        "outputId": "f98c1244-ec17-4f1b-ece9-4786a84ea847",
        "colab": {
          "base_uri": "https://localhost:8080/",
          "height": 1000
        }
      },
      "source": [
        "!pip install talos"
      ],
      "execution_count": 1,
      "outputs": [
        {
          "output_type": "stream",
          "text": [
            "Collecting talos\n",
            "\u001b[?25l  Downloading https://files.pythonhosted.org/packages/73/64/65bee9b585f6a196ff3119a60a7170fe0b2a18225a2e1e67115510b46a65/talos-0.6.6-py3-none-any.whl (53kB)\n",
            "\r\u001b[K     |██████▏                         | 10kB 24.7MB/s eta 0:00:01\r\u001b[K     |████████████▎                   | 20kB 6.0MB/s eta 0:00:01\r\u001b[K     |██████████████████▍             | 30kB 8.5MB/s eta 0:00:01\r\u001b[K     |████████████████████████▌       | 40kB 5.6MB/s eta 0:00:01\r\u001b[K     |██████████████████████████████▋ | 51kB 6.8MB/s eta 0:00:01\r\u001b[K     |████████████████████████████████| 61kB 4.7MB/s \n",
            "\u001b[?25hRequirement already satisfied: tqdm in /usr/local/lib/python3.6/dist-packages (from talos) (4.28.1)\n",
            "Collecting statsmodels>=0.11.0\n",
            "\u001b[?25l  Downloading https://files.pythonhosted.org/packages/cb/83/540fd83238a18abe6c2d280fa8e489ac5fcefa1f370f0ca1acd16ae1b860/statsmodels-0.11.1-cp36-cp36m-manylinux1_x86_64.whl (8.7MB)\n",
            "\u001b[K     |████████████████████████████████| 8.7MB 12.9MB/s \n",
            "\u001b[?25hRequirement already satisfied: pandas in /usr/local/lib/python3.6/dist-packages (from talos) (0.25.3)\n",
            "Collecting tensorflow==1.14.0\n",
            "\u001b[?25l  Downloading https://files.pythonhosted.org/packages/de/f0/96fb2e0412ae9692dbf400e5b04432885f677ad6241c088ccc5fe7724d69/tensorflow-1.14.0-cp36-cp36m-manylinux1_x86_64.whl (109.2MB)\n",
            "\u001b[K     |████████████████████████████████| 109.2MB 27kB/s \n",
            "\u001b[?25hCollecting kerasplotlib\n",
            "  Downloading https://files.pythonhosted.org/packages/7b/b7/31663d3b5ea9afd8c2c6ffa06d3c4e118ef363e12dc75b7c49fb6a2d22aa/kerasplotlib-0.1.6.tar.gz\n",
            "Collecting wrangle\n",
            "  Downloading https://files.pythonhosted.org/packages/85/35/bc729e377417613f2d062a890faea5d649ef1a554df21499e9c3a4a5501a/wrangle-0.6.7.tar.gz\n",
            "Requirement already satisfied: sklearn in /usr/local/lib/python3.6/dist-packages (from talos) (0.0)\n",
            "Collecting chances\n",
            "  Downloading https://files.pythonhosted.org/packages/fa/d8/d61112d7476dc3074b855f1edd8556cde9b49b7106853f0b060109dd4c82/chances-0.1.9.tar.gz\n",
            "Collecting keras==2.3.0\n",
            "\u001b[?25l  Downloading https://files.pythonhosted.org/packages/1b/18/2e1ef121e5560ac24c7ac9e363aa5fa7006c40563c989e7211aba95b793a/Keras-2.3.0-py2.py3-none-any.whl (377kB)\n",
            "\u001b[K     |████████████████████████████████| 378kB 47.1MB/s \n",
            "\u001b[?25hCollecting astetik\n",
            "  Downloading https://files.pythonhosted.org/packages/3c/ba/f8622951da73d9b47b45bb847112c388651f9c6e413e712954f260301d9f/astetik-1.9.9.tar.gz\n",
            "Requirement already satisfied: numpy in /usr/local/lib/python3.6/dist-packages (from talos) (1.17.5)\n",
            "Requirement already satisfied: requests in /usr/local/lib/python3.6/dist-packages (from talos) (2.21.0)\n",
            "Requirement already satisfied: patsy>=0.5 in /usr/local/lib/python3.6/dist-packages (from statsmodels>=0.11.0->talos) (0.5.1)\n",
            "Requirement already satisfied: scipy>=1.0 in /usr/local/lib/python3.6/dist-packages (from statsmodels>=0.11.0->talos) (1.4.1)\n",
            "Requirement already satisfied: pytz>=2017.2 in /usr/local/lib/python3.6/dist-packages (from pandas->talos) (2018.9)\n",
            "Requirement already satisfied: python-dateutil>=2.6.1 in /usr/local/lib/python3.6/dist-packages (from pandas->talos) (2.6.1)\n",
            "Collecting tensorboard<1.15.0,>=1.14.0\n",
            "\u001b[?25l  Downloading https://files.pythonhosted.org/packages/91/2d/2ed263449a078cd9c8a9ba50ebd50123adf1f8cfbea1492f9084169b89d9/tensorboard-1.14.0-py3-none-any.whl (3.1MB)\n",
            "\u001b[K     |████████████████████████████████| 3.2MB 51.8MB/s \n",
            "\u001b[?25hRequirement already satisfied: absl-py>=0.7.0 in /usr/local/lib/python3.6/dist-packages (from tensorflow==1.14.0->talos) (0.9.0)\n",
            "Requirement already satisfied: wheel>=0.26 in /usr/local/lib/python3.6/dist-packages (from tensorflow==1.14.0->talos) (0.34.2)\n",
            "Collecting tensorflow-estimator<1.15.0rc0,>=1.14.0rc0\n",
            "\u001b[?25l  Downloading https://files.pythonhosted.org/packages/3c/d5/21860a5b11caf0678fbc8319341b0ae21a07156911132e0e71bffed0510d/tensorflow_estimator-1.14.0-py2.py3-none-any.whl (488kB)\n",
            "\u001b[K     |████████████████████████████████| 491kB 57.7MB/s \n",
            "\u001b[?25hRequirement already satisfied: keras-preprocessing>=1.0.5 in /usr/local/lib/python3.6/dist-packages (from tensorflow==1.14.0->talos) (1.1.0)\n",
            "Requirement already satisfied: termcolor>=1.1.0 in /usr/local/lib/python3.6/dist-packages (from tensorflow==1.14.0->talos) (1.1.0)\n",
            "Requirement already satisfied: wrapt>=1.11.1 in /usr/local/lib/python3.6/dist-packages (from tensorflow==1.14.0->talos) (1.11.2)\n",
            "Requirement already satisfied: astor>=0.6.0 in /usr/local/lib/python3.6/dist-packages (from tensorflow==1.14.0->talos) (0.8.1)\n",
            "Requirement already satisfied: grpcio>=1.8.6 in /usr/local/lib/python3.6/dist-packages (from tensorflow==1.14.0->talos) (1.27.1)\n",
            "Requirement already satisfied: google-pasta>=0.1.6 in /usr/local/lib/python3.6/dist-packages (from tensorflow==1.14.0->talos) (0.1.8)\n",
            "Requirement already satisfied: protobuf>=3.6.1 in /usr/local/lib/python3.6/dist-packages (from tensorflow==1.14.0->talos) (3.10.0)\n",
            "Requirement already satisfied: six>=1.10.0 in /usr/local/lib/python3.6/dist-packages (from tensorflow==1.14.0->talos) (1.12.0)\n",
            "Requirement already satisfied: keras-applications>=1.0.6 in /usr/local/lib/python3.6/dist-packages (from tensorflow==1.14.0->talos) (1.0.8)\n",
            "Requirement already satisfied: gast>=0.2.0 in /usr/local/lib/python3.6/dist-packages (from tensorflow==1.14.0->talos) (0.2.2)\n",
            "Requirement already satisfied: ipython in /usr/local/lib/python3.6/dist-packages (from kerasplotlib->talos) (5.5.0)\n",
            "Requirement already satisfied: scikit-learn in /usr/local/lib/python3.6/dist-packages (from sklearn->talos) (0.22.1)\n",
            "Requirement already satisfied: h5py in /usr/local/lib/python3.6/dist-packages (from keras==2.3.0->talos) (2.8.0)\n",
            "Requirement already satisfied: pyyaml in /usr/local/lib/python3.6/dist-packages (from keras==2.3.0->talos) (3.13)\n",
            "Collecting geonamescache\n",
            "\u001b[?25l  Downloading https://files.pythonhosted.org/packages/32/c1/efb823270c8526b2f4f3eb8c804c5a0a55277267ad2312f5eb47bd9cc370/geonamescache-1.1.0-py3-none-any.whl (830kB)\n",
            "\u001b[K     |████████████████████████████████| 839kB 75.6MB/s \n",
            "\u001b[?25hRequirement already satisfied: urllib3<1.25,>=1.21.1 in /usr/local/lib/python3.6/dist-packages (from requests->talos) (1.24.3)\n",
            "Requirement already satisfied: chardet<3.1.0,>=3.0.2 in /usr/local/lib/python3.6/dist-packages (from requests->talos) (3.0.4)\n",
            "Requirement already satisfied: certifi>=2017.4.17 in /usr/local/lib/python3.6/dist-packages (from requests->talos) (2019.11.28)\n",
            "Requirement already satisfied: idna<2.9,>=2.5 in /usr/local/lib/python3.6/dist-packages (from requests->talos) (2.8)\n",
            "Requirement already satisfied: markdown>=2.6.8 in /usr/local/lib/python3.6/dist-packages (from tensorboard<1.15.0,>=1.14.0->tensorflow==1.14.0->talos) (3.2.1)\n",
            "Requirement already satisfied: werkzeug>=0.11.15 in /usr/local/lib/python3.6/dist-packages (from tensorboard<1.15.0,>=1.14.0->tensorflow==1.14.0->talos) (1.0.0)\n",
            "Requirement already satisfied: setuptools>=41.0.0 in /usr/local/lib/python3.6/dist-packages (from tensorboard<1.15.0,>=1.14.0->tensorflow==1.14.0->talos) (45.2.0)\n",
            "Requirement already satisfied: decorator in /usr/local/lib/python3.6/dist-packages (from ipython->kerasplotlib->talos) (4.4.1)\n",
            "Requirement already satisfied: pygments in /usr/local/lib/python3.6/dist-packages (from ipython->kerasplotlib->talos) (2.1.3)\n",
            "Requirement already satisfied: pickleshare in /usr/local/lib/python3.6/dist-packages (from ipython->kerasplotlib->talos) (0.7.5)\n",
            "Requirement already satisfied: traitlets>=4.2 in /usr/local/lib/python3.6/dist-packages (from ipython->kerasplotlib->talos) (4.3.3)\n",
            "Requirement already satisfied: simplegeneric>0.8 in /usr/local/lib/python3.6/dist-packages (from ipython->kerasplotlib->talos) (0.8.1)\n",
            "Requirement already satisfied: prompt-toolkit<2.0.0,>=1.0.4 in /usr/local/lib/python3.6/dist-packages (from ipython->kerasplotlib->talos) (1.0.18)\n",
            "Requirement already satisfied: pexpect; sys_platform != \"win32\" in /usr/local/lib/python3.6/dist-packages (from ipython->kerasplotlib->talos) (4.8.0)\n",
            "Requirement already satisfied: joblib>=0.11 in /usr/local/lib/python3.6/dist-packages (from scikit-learn->sklearn->talos) (0.14.1)\n",
            "Requirement already satisfied: ipython-genutils in /usr/local/lib/python3.6/dist-packages (from traitlets>=4.2->ipython->kerasplotlib->talos) (0.2.0)\n",
            "Requirement already satisfied: wcwidth in /usr/local/lib/python3.6/dist-packages (from prompt-toolkit<2.0.0,>=1.0.4->ipython->kerasplotlib->talos) (0.1.8)\n",
            "Requirement already satisfied: ptyprocess>=0.5 in /usr/local/lib/python3.6/dist-packages (from pexpect; sys_platform != \"win32\"->ipython->kerasplotlib->talos) (0.6.0)\n",
            "Building wheels for collected packages: kerasplotlib, wrangle, chances, astetik\n",
            "  Building wheel for kerasplotlib (setup.py) ... \u001b[?25l\u001b[?25hdone\n",
            "  Created wheel for kerasplotlib: filename=kerasplotlib-0.1.6-cp36-none-any.whl size=3601 sha256=0d8baeb1d2faf0aa75166cf9774e3769acdf9243a3879846ad5c6a841f571482\n",
            "  Stored in directory: /root/.cache/pip/wheels/9d/d3/8c/9503a22b0a38e8b21c70ad834e4606d209193443e5c709305d\n",
            "  Building wheel for wrangle (setup.py) ... \u001b[?25l\u001b[?25hdone\n",
            "  Created wheel for wrangle: filename=wrangle-0.6.7-cp36-none-any.whl size=49894 sha256=8969694673c515dede4e26874eabde88f0ec509d76467e7db558127f8f00bca3\n",
            "  Stored in directory: /root/.cache/pip/wheels/bf/1b/50/d0403ce6ef269e364894da7b50db68db14c4ac62c577561e2d\n",
            "  Building wheel for chances (setup.py) ... \u001b[?25l\u001b[?25hdone\n",
            "  Created wheel for chances: filename=chances-0.1.9-cp36-none-any.whl size=41609 sha256=4000ee90d18d803dabe5da385ff4a9082d6d5ee86361427f9281b3c1c0bf277c\n",
            "  Stored in directory: /root/.cache/pip/wheels/75/33/46/c871b94249bd57d17797d049b3dff8e3a09c315afb67eb14c6\n",
            "  Building wheel for astetik (setup.py) ... \u001b[?25l\u001b[?25hdone\n",
            "  Created wheel for astetik: filename=astetik-1.9.9-cp36-none-any.whl size=56960 sha256=c17e1253faad2e9e29131474953355ca20bf8fddc40ca5e809df632c94f6cde9\n",
            "  Stored in directory: /root/.cache/pip/wheels/ae/70/21/c475cd079ec401dd6e1b9b1d42b4c38554ce12679bfb214aad\n",
            "Successfully built kerasplotlib wrangle chances astetik\n",
            "\u001b[31mERROR: wrangle 0.6.7 has requirement scipy==1.2, but you'll have scipy 1.4.1 which is incompatible.\u001b[0m\n",
            "Installing collected packages: statsmodels, tensorboard, tensorflow-estimator, tensorflow, kerasplotlib, keras, wrangle, chances, geonamescache, astetik, talos\n",
            "  Found existing installation: statsmodels 0.10.2\n",
            "    Uninstalling statsmodels-0.10.2:\n",
            "      Successfully uninstalled statsmodels-0.10.2\n",
            "  Found existing installation: tensorboard 1.15.0\n",
            "    Uninstalling tensorboard-1.15.0:\n",
            "      Successfully uninstalled tensorboard-1.15.0\n",
            "  Found existing installation: tensorflow-estimator 1.15.1\n",
            "    Uninstalling tensorflow-estimator-1.15.1:\n",
            "      Successfully uninstalled tensorflow-estimator-1.15.1\n",
            "  Found existing installation: tensorflow 1.15.0\n",
            "    Uninstalling tensorflow-1.15.0:\n",
            "      Successfully uninstalled tensorflow-1.15.0\n",
            "  Found existing installation: Keras 2.2.5\n",
            "    Uninstalling Keras-2.2.5:\n",
            "      Successfully uninstalled Keras-2.2.5\n",
            "Successfully installed astetik-1.9.9 chances-0.1.9 geonamescache-1.1.0 keras-2.3.0 kerasplotlib-0.1.6 statsmodels-0.11.1 talos-0.6.6 tensorboard-1.14.0 tensorflow-1.14.0 tensorflow-estimator-1.14.0 wrangle-0.6.7\n"
          ],
          "name": "stdout"
        }
      ]
    },
    {
      "cell_type": "markdown",
      "metadata": {
        "id": "NaVmmhGMu9M-",
        "colab_type": "text"
      },
      "source": [
        "## **RESTART RUNTIME NOW**"
      ]
    },
    {
      "cell_type": "code",
      "metadata": {
        "id": "spdJZLgrkSEq",
        "colab_type": "code",
        "outputId": "c065a877-2885-4a7c-b03f-c2642e6e72a1",
        "colab": {
          "base_uri": "https://localhost:8080/",
          "height": 80
        }
      },
      "source": [
        "import talos\n",
        "import pandas as pd\n",
        "\n",
        "%matplotlib inline"
      ],
      "execution_count": 1,
      "outputs": [
        {
          "output_type": "stream",
          "text": [
            "Using TensorFlow backend.\n"
          ],
          "name": "stderr"
        },
        {
          "output_type": "display_data",
          "data": {
            "text/html": [
              "<p style=\"color: red;\">\n",
              "The default version of TensorFlow in Colab will soon switch to TensorFlow 2.x.<br>\n",
              "We recommend you <a href=\"https://www.tensorflow.org/guide/migrate\" target=\"_blank\">upgrade</a> now \n",
              "or ensure your notebook will continue to use TensorFlow 1.x via the <code>%tensorflow_version 1.x</code> magic:\n",
              "<a href=\"https://colab.research.google.com/notebooks/tensorflow_version.ipynb\" target=\"_blank\">more info</a>.</p>\n"
            ],
            "text/plain": [
              "<IPython.core.display.HTML object>"
            ]
          },
          "metadata": {
            "tags": []
          }
        }
      ]
    },
    {
      "cell_type": "markdown",
      "metadata": {
        "id": "c-Z6eZ03kSEx",
        "colab_type": "text"
      },
      "source": [
        "## Table of Contents"
      ]
    },
    {
      "cell_type": "markdown",
      "metadata": {
        "id": "YVyA-mBhkSE0",
        "colab_type": "text"
      },
      "source": [
        "##### 1. <a href=#one>Data Preparation</a>\n",
        "##### 2. <a href=#two>Model Preparation</a>\n",
        "##### 3. <a href=#three>Setting the Parameter Space Boundaries</a>\n",
        "##### 4. <a href=#four>Run the Hyperparameter <code>Scan()</code></a>\n",
        "##### 5. <a href=#five>Access the results through the <code>Scan</code> object</a>\n",
        "##### 6. <a href=#six>Analysing the Scan results with <code>Reporting()</code></a>\n",
        "##### 7. <a href=#seven>Evaluating Models with <code>Evaluate()</code></a>\n",
        "##### 8. <a href=#eight>Deploying Models with <code>Deploy()</code></a>\n",
        "##### 9. <a href=#nine>Restoring Models with <code>Restore()</code></a>"
      ]
    },
    {
      "cell_type": "markdown",
      "metadata": {
        "id": "L1hJsa7XkSE1",
        "colab_type": "text"
      },
      "source": [
        "### 1. Data Preparation <a name=\"one\"></a> "
      ]
    },
    {
      "cell_type": "markdown",
      "metadata": {
        "id": "FwIFiQfYkSE3",
        "colab_type": "text"
      },
      "source": [
        "For this experiment, we're going to use the famous Iris dataset. "
      ]
    },
    {
      "cell_type": "code",
      "metadata": {
        "id": "VBsgt67ykSE5",
        "colab_type": "code",
        "colab": {}
      },
      "source": [
        "x, y = talos.templates.datasets.iris()"
      ],
      "execution_count": 0,
      "outputs": []
    },
    {
      "cell_type": "markdown",
      "metadata": {
        "id": "S3Jg4f78kSFB",
        "colab_type": "text"
      },
      "source": [
        "### 2. Model Preparation  <a name=\"two\"></a> \n",
        "Talos works with any Keras model, without changing the structure of the model in anyway, or without introducing any new syntax. The below example shows clearly how this works. \n",
        "\n",
        "For this example, we have to import two helper functions from Talos, one for early stopping callout, and the other for using normalized learning rate values. Because we might want to work on trying out several optimizers in a single scan, without normalization, inputting of the values would become cumbersome."
      ]
    },
    {
      "cell_type": "code",
      "metadata": {
        "id": "lwwS8G9ZkSFD",
        "colab_type": "code",
        "colab": {}
      },
      "source": [
        "from talos.utils import lr_normalizer"
      ],
      "execution_count": 0,
      "outputs": []
    },
    {
      "cell_type": "markdown",
      "metadata": {
        "id": "vNQBRJxtkSFJ",
        "colab_type": "text"
      },
      "source": [
        "Note that the only difference in the model below is how instead of using a label or value to define a given model parameter, we do it using a dictionary label. Also for optimizer we are using a learning rate parameter, which involves the use of two dictionary labels."
      ]
    },
    {
      "cell_type": "code",
      "metadata": {
        "id": "PKqi5mANkSFL",
        "colab_type": "code",
        "colab": {}
      },
      "source": [
        "from keras.models import Sequential\n",
        "from keras.layers import Dropout, Dense\n",
        "\n",
        "def iris_model(x_train, y_train, x_val, y_val, params):\n",
        "    \n",
        "    model = Sequential()                            \n",
        "    model.add(Dense(params['first_neuron'],\n",
        "                    input_dim=x_train.shape[1],\n",
        "                    activation='relu'))\n",
        "    \n",
        "    model.add(Dropout(params['dropout']))\n",
        "    model.add(Dense(y_train.shape[1],\n",
        "                    activation=params['last_activation']))\n",
        "\n",
        "    model.compile(optimizer=params['optimizer'](lr=lr_normalizer(params['lr'], params['optimizer'])),\n",
        "                  loss=params['loss'],\n",
        "                  metrics=['acc'])\n",
        "\n",
        "    out = model.fit(x_train, y_train,\n",
        "                    batch_size=params['batch_size'],\n",
        "                    epochs=params['epochs'],\n",
        "                    verbose=0,\n",
        "                    validation_data=[x_val, y_val])\n",
        "    \n",
        "    return out, model "
      ],
      "execution_count": 0,
      "outputs": []
    },
    {
      "cell_type": "markdown",
      "metadata": {
        "id": "4xRnPYROkSFV",
        "colab_type": "text"
      },
      "source": [
        "### 3. Setting the Parameter Space Boundaries <a name=\"three\"></a> \n",
        "In the last and final step, we're going to create the dictionary, which will then be passed on to Talos together with the model above. Here we have three different ways to input values:\n",
        "\n",
        "- as stepped ranges (min, max, steps)\n",
        "- as multiple values [in a list]\n",
        "- as a single value [in a list]\n",
        "\n",
        "For values we don't want to use, it's ok to set it as None.\n",
        "\n",
        "NOTE: at this point you have to import from Keras the optimizer, activations, and losses you want to scan for."
      ]
    },
    {
      "cell_type": "code",
      "metadata": {
        "id": "x5acFn2ikSFX",
        "colab_type": "code",
        "colab": {}
      },
      "source": [
        "from keras.optimizers import Adam, SGD\n",
        "from keras.activations import softmax\n",
        "from keras.losses import categorical_crossentropy, logcosh\n",
        "\n",
        "p = {'lr': (0.1, 10, 10),\n",
        "     'first_neuron':[4, 8, 16, 32, 64, 128],\n",
        "     'batch_size': [2, 3, 4],\n",
        "     'epochs': [200],\n",
        "     'dropout': (0, 0.40, 10),\n",
        "     'optimizer': [Adam, SGD],\n",
        "     'loss': ['categorical_crossentropy'],\n",
        "     'last_activation': ['softmax'],\n",
        "     'weight_regulizer': [None]}"
      ],
      "execution_count": 0,
      "outputs": []
    },
    {
      "cell_type": "markdown",
      "metadata": {
        "id": "5G-6VETgkSFe",
        "colab_type": "text"
      },
      "source": [
        "### 4. Run the Hyperparameter <code>Scan()</code> <a name=\"four\"></a> \n",
        "The experiment is configured and started through the Scan() command. All of the options effecting the experiment, other than the hyperparameters themselves, are configured through the Scan arguments.\n",
        "\n",
        "Now we are ready to run the model based on the parameters and the layer configuration above. The exact same process would apply with any other model, just make sure to pass the model function name in the Scan() command as in the below example. To get started quickly, we're going to invoke the 'grid_downsample' parameter to 1/100 of the entire permutations."
      ]
    },
    {
      "cell_type": "code",
      "metadata": {
        "id": "vXnVNxK_kSFg",
        "colab_type": "code",
        "outputId": "1917f061-4b28-4547-c6ea-76873841bc85",
        "colab": {
          "base_uri": "https://localhost:8080/",
          "height": 663
        }
      },
      "source": [
        "scan_object = talos.Scan(x,\n",
        "                         y, \n",
        "                         params=p,\n",
        "                         model=iris_model,\n",
        "                         experiment_name='iris',\n",
        "                         fraction_limit=.01)"
      ],
      "execution_count": 0,
      "outputs": [
        {
          "output_type": "stream",
          "text": [
            "\n",
            "  0%|          | 0/36 [00:00<?, ?it/s]\u001b[A\n",
            "  3%|▎         | 1/36 [00:07<04:36,  7.91s/it]\u001b[A\n",
            "  6%|▌         | 2/36 [00:18<04:57,  8.76s/it]\u001b[A\n",
            "  8%|▊         | 3/36 [00:24<04:20,  7.89s/it]\u001b[A\n",
            " 11%|█         | 4/36 [00:32<04:14,  7.95s/it]\u001b[A\n",
            " 14%|█▍        | 5/36 [00:39<03:52,  7.50s/it]\u001b[A\n",
            " 17%|█▋        | 6/36 [00:50<04:24,  8.80s/it]\u001b[A\n",
            " 19%|█▉        | 7/36 [01:02<04:39,  9.65s/it]\u001b[A\n",
            " 22%|██▏       | 8/36 [01:09<04:06,  8.81s/it]\u001b[A\n",
            " 25%|██▌       | 9/36 [01:17<03:52,  8.61s/it]\u001b[A\n",
            " 28%|██▊       | 10/36 [01:25<03:37,  8.38s/it]\u001b[A\n",
            " 31%|███       | 11/36 [01:36<03:49,  9.17s/it]\u001b[A\n",
            " 33%|███▎      | 12/36 [01:44<03:32,  8.87s/it]\u001b[A\n",
            " 36%|███▌      | 13/36 [01:55<03:41,  9.65s/it]\u001b[A\n",
            " 39%|███▉      | 14/36 [02:01<03:05,  8.44s/it]\u001b[A\n",
            " 42%|████▏     | 15/36 [02:09<02:54,  8.30s/it]\u001b[A\n",
            " 44%|████▍     | 16/36 [02:17<02:43,  8.19s/it]\u001b[A\n",
            " 47%|████▋     | 17/36 [02:23<02:22,  7.49s/it]\u001b[A\n",
            " 50%|█████     | 18/36 [02:35<02:38,  8.83s/it]\u001b[A\n",
            " 53%|█████▎    | 19/36 [02:46<02:44,  9.65s/it]\u001b[A\n",
            " 56%|█████▌    | 20/36 [02:57<02:40, 10.01s/it]\u001b[A\n",
            " 58%|█████▊    | 21/36 [03:03<02:12,  8.84s/it]\u001b[A\n",
            " 61%|██████    | 22/36 [03:11<01:57,  8.39s/it]\u001b[A\n",
            " 64%|██████▍   | 23/36 [03:16<01:38,  7.60s/it]\u001b[A\n",
            " 67%|██████▋   | 24/36 [03:25<01:33,  7.76s/it]\u001b[A\n",
            " 69%|██████▉   | 25/36 [03:31<01:20,  7.31s/it]\u001b[A\n",
            " 72%|███████▏  | 26/36 [03:39<01:15,  7.55s/it]\u001b[A\n",
            " 75%|███████▌  | 27/36 [03:44<01:01,  6.83s/it]\u001b[A\n",
            " 78%|███████▊  | 28/36 [03:52<00:56,  7.02s/it]\u001b[A\n",
            " 81%|████████  | 29/36 [03:57<00:45,  6.57s/it]\u001b[A\n",
            " 83%|████████▎ | 30/36 [04:03<00:38,  6.41s/it]\u001b[A\n",
            " 86%|████████▌ | 31/36 [04:15<00:40,  8.16s/it]\u001b[A\n",
            " 89%|████████▉ | 32/36 [04:21<00:29,  7.42s/it]\u001b[A\n",
            " 92%|█████████▏| 33/36 [04:29<00:22,  7.57s/it]\u001b[A\n",
            " 94%|█████████▍| 34/36 [04:35<00:14,  7.17s/it]\u001b[A\n",
            " 97%|█████████▋| 35/36 [04:47<00:08,  8.58s/it]\u001b[A\n",
            "100%|██████████| 36/36 [04:58<00:00,  9.25s/it]\u001b[A\n",
            "\u001b[A"
          ],
          "name": "stderr"
        }
      ]
    },
    {
      "cell_type": "markdown",
      "metadata": {
        "id": "YjaVOQGIkSFl",
        "colab_type": "text"
      },
      "source": [
        "### 5. Access the results through the <code>Scan</code> object <a name=\"five\"></a> "
      ]
    },
    {
      "cell_type": "code",
      "metadata": {
        "id": "2B3foGERkSFm",
        "colab_type": "code",
        "outputId": "49ac2125-38fc-4e12-e452-677df2178e01",
        "colab": {
          "base_uri": "https://localhost:8080/",
          "height": 309
        }
      },
      "source": [
        "# accessing the results data frame\n",
        "scan_object.data.head()"
      ],
      "execution_count": 0,
      "outputs": [
        {
          "output_type": "execute_result",
          "data": {
            "text/html": [
              "<div>\n",
              "<style scoped>\n",
              "    .dataframe tbody tr th:only-of-type {\n",
              "        vertical-align: middle;\n",
              "    }\n",
              "\n",
              "    .dataframe tbody tr th {\n",
              "        vertical-align: top;\n",
              "    }\n",
              "\n",
              "    .dataframe thead th {\n",
              "        text-align: right;\n",
              "    }\n",
              "</style>\n",
              "<table border=\"1\" class=\"dataframe\">\n",
              "  <thead>\n",
              "    <tr style=\"text-align: right;\">\n",
              "      <th></th>\n",
              "      <th>round_epochs</th>\n",
              "      <th>val_loss</th>\n",
              "      <th>val_acc</th>\n",
              "      <th>loss</th>\n",
              "      <th>acc</th>\n",
              "      <th>batch_size</th>\n",
              "      <th>dropout</th>\n",
              "      <th>epochs</th>\n",
              "      <th>first_neuron</th>\n",
              "      <th>last_activation</th>\n",
              "      <th>loss</th>\n",
              "      <th>lr</th>\n",
              "      <th>optimizer</th>\n",
              "      <th>weight_regulizer</th>\n",
              "    </tr>\n",
              "  </thead>\n",
              "  <tbody>\n",
              "    <tr>\n",
              "      <th>0</th>\n",
              "      <td>200</td>\n",
              "      <td>0.039371</td>\n",
              "      <td>0.955556</td>\n",
              "      <td>0.063971</td>\n",
              "      <td>0.971429</td>\n",
              "      <td>3</td>\n",
              "      <td>0.04</td>\n",
              "      <td>200</td>\n",
              "      <td>16</td>\n",
              "      <td>softmax</td>\n",
              "      <td>categorical_crossentropy</td>\n",
              "      <td>8.02</td>\n",
              "      <td>&lt;class 'keras.optimizers.Adam'&gt;</td>\n",
              "      <td>None</td>\n",
              "    </tr>\n",
              "    <tr>\n",
              "      <th>1</th>\n",
              "      <td>200</td>\n",
              "      <td>0.080041</td>\n",
              "      <td>0.977778</td>\n",
              "      <td>0.114343</td>\n",
              "      <td>0.971429</td>\n",
              "      <td>2</td>\n",
              "      <td>0.24</td>\n",
              "      <td>200</td>\n",
              "      <td>32</td>\n",
              "      <td>softmax</td>\n",
              "      <td>categorical_crossentropy</td>\n",
              "      <td>1.09</td>\n",
              "      <td>&lt;class 'keras.optimizers.SGD'&gt;</td>\n",
              "      <td>None</td>\n",
              "    </tr>\n",
              "    <tr>\n",
              "      <th>2</th>\n",
              "      <td>200</td>\n",
              "      <td>0.093586</td>\n",
              "      <td>0.977778</td>\n",
              "      <td>0.219337</td>\n",
              "      <td>0.904762</td>\n",
              "      <td>4</td>\n",
              "      <td>0.20</td>\n",
              "      <td>200</td>\n",
              "      <td>32</td>\n",
              "      <td>softmax</td>\n",
              "      <td>categorical_crossentropy</td>\n",
              "      <td>5.05</td>\n",
              "      <td>&lt;class 'keras.optimizers.SGD'&gt;</td>\n",
              "      <td>None</td>\n",
              "    </tr>\n",
              "    <tr>\n",
              "      <th>3</th>\n",
              "      <td>200</td>\n",
              "      <td>0.039226</td>\n",
              "      <td>0.977778</td>\n",
              "      <td>0.078665</td>\n",
              "      <td>0.952381</td>\n",
              "      <td>3</td>\n",
              "      <td>0.20</td>\n",
              "      <td>200</td>\n",
              "      <td>128</td>\n",
              "      <td>softmax</td>\n",
              "      <td>categorical_crossentropy</td>\n",
              "      <td>9.01</td>\n",
              "      <td>&lt;class 'keras.optimizers.Adam'&gt;</td>\n",
              "      <td>None</td>\n",
              "    </tr>\n",
              "    <tr>\n",
              "      <th>4</th>\n",
              "      <td>200</td>\n",
              "      <td>0.041673</td>\n",
              "      <td>0.977778</td>\n",
              "      <td>0.087682</td>\n",
              "      <td>0.961905</td>\n",
              "      <td>4</td>\n",
              "      <td>0.36</td>\n",
              "      <td>200</td>\n",
              "      <td>64</td>\n",
              "      <td>softmax</td>\n",
              "      <td>categorical_crossentropy</td>\n",
              "      <td>6.04</td>\n",
              "      <td>&lt;class 'keras.optimizers.Adam'&gt;</td>\n",
              "      <td>None</td>\n",
              "    </tr>\n",
              "  </tbody>\n",
              "</table>\n",
              "</div>"
            ],
            "text/plain": [
              "   round_epochs  val_loss  ...                        optimizer  weight_regulizer\n",
              "0           200  0.039371  ...  <class 'keras.optimizers.Adam'>              None\n",
              "1           200  0.080041  ...   <class 'keras.optimizers.SGD'>              None\n",
              "2           200  0.093586  ...   <class 'keras.optimizers.SGD'>              None\n",
              "3           200  0.039226  ...  <class 'keras.optimizers.Adam'>              None\n",
              "4           200  0.041673  ...  <class 'keras.optimizers.Adam'>              None\n",
              "\n",
              "[5 rows x 14 columns]"
            ]
          },
          "metadata": {
            "tags": []
          },
          "execution_count": 28
        }
      ]
    },
    {
      "cell_type": "code",
      "metadata": {
        "id": "mOE7FZ2nnXds",
        "colab_type": "code",
        "outputId": "694832d8-2f91-4f75-f33c-be167cf78201",
        "colab": {
          "base_uri": "https://localhost:8080/",
          "height": 204
        }
      },
      "source": [
        "# access the summary details\n",
        "scan_object.details"
      ],
      "execution_count": 0,
      "outputs": [
        {
          "output_type": "execute_result",
          "data": {
            "text/plain": [
              "experiment_name                    iris\n",
              "random_method          uniform_mersenne\n",
              "reduction_method                   None\n",
              "reduction_interval                   50\n",
              "reduction_window                     20\n",
              "reduction_threshold                 0.2\n",
              "reduction_metric                val_acc\n",
              "complete_time            03/09/20/09:30\n",
              "x_shape                        (150, 4)\n",
              "y_shape                        (150, 3)\n",
              "dtype: object"
            ]
          },
          "metadata": {
            "tags": []
          },
          "execution_count": 30
        }
      ]
    },
    {
      "cell_type": "markdown",
      "metadata": {
        "id": "A4bqP4PikSFw",
        "colab_type": "text"
      },
      "source": [
        "In addition to statistics and meta-data related with the Scan, the used data (x and y) together with the saved model and model weights for each hyperparameter permutation is stored in the Scan object. "
      ]
    },
    {
      "cell_type": "code",
      "metadata": {
        "id": "Qzh7iwEIkSFx",
        "colab_type": "code",
        "colab": {}
      },
      "source": [
        "# accessing the saved models\n",
        "scan_object.saved_models"
      ],
      "execution_count": 0,
      "outputs": []
    },
    {
      "cell_type": "code",
      "metadata": {
        "id": "NdteRmVTopaD",
        "colab_type": "code",
        "colab": {}
      },
      "source": [
        "# accessing the saved weights for models\n",
        "scan_object.saved_weights"
      ],
      "execution_count": 0,
      "outputs": []
    },
    {
      "cell_type": "markdown",
      "metadata": {
        "id": "fo4IF5SlkSF2",
        "colab_type": "text"
      },
      "source": [
        "The Scan object can be further used, and is required, as input for Predict(), Evaluate(), and Deploy(). More about this in the corresponding sections below."
      ]
    },
    {
      "cell_type": "markdown",
      "metadata": {
        "id": "soXVlrD1kSF3",
        "colab_type": "text"
      },
      "source": [
        "### 6. Analysing the Scan results with <code>Reporting()</code> <a name=\"six\"></a> "
      ]
    },
    {
      "cell_type": "markdown",
      "metadata": {
        "id": "cezQV3ltkSF5",
        "colab_type": "text"
      },
      "source": [
        "In the Scan process, the results are stored round-by-round in the corresponding experiment log which is a .csv file stored in the present working directory. The Reporting() accepts as its source either a file name, or the Scan object. "
      ]
    },
    {
      "cell_type": "code",
      "metadata": {
        "id": "DqhrBahakSF7",
        "colab_type": "code",
        "colab": {}
      },
      "source": [
        "# use Scan object as input\n",
        "analyze_object = talos.Analyze(scan_object)"
      ],
      "execution_count": 0,
      "outputs": []
    },
    {
      "cell_type": "code",
      "metadata": {
        "id": "TR7_chdpkSGC",
        "colab_type": "code",
        "outputId": "7a99268c-01c1-470b-8db3-a109f4b574a8",
        "colab": {
          "base_uri": "https://localhost:8080/",
          "height": 1000
        }
      },
      "source": [
        "# access the dataframe with the results\n",
        "analyze_object.data"
      ],
      "execution_count": 0,
      "outputs": [
        {
          "output_type": "execute_result",
          "data": {
            "text/html": [
              "<div>\n",
              "<style scoped>\n",
              "    .dataframe tbody tr th:only-of-type {\n",
              "        vertical-align: middle;\n",
              "    }\n",
              "\n",
              "    .dataframe tbody tr th {\n",
              "        vertical-align: top;\n",
              "    }\n",
              "\n",
              "    .dataframe thead th {\n",
              "        text-align: right;\n",
              "    }\n",
              "</style>\n",
              "<table border=\"1\" class=\"dataframe\">\n",
              "  <thead>\n",
              "    <tr style=\"text-align: right;\">\n",
              "      <th></th>\n",
              "      <th>round_epochs</th>\n",
              "      <th>val_loss</th>\n",
              "      <th>val_acc</th>\n",
              "      <th>loss</th>\n",
              "      <th>acc</th>\n",
              "      <th>batch_size</th>\n",
              "      <th>dropout</th>\n",
              "      <th>epochs</th>\n",
              "      <th>first_neuron</th>\n",
              "      <th>last_activation</th>\n",
              "      <th>loss</th>\n",
              "      <th>lr</th>\n",
              "      <th>optimizer</th>\n",
              "      <th>weight_regulizer</th>\n",
              "    </tr>\n",
              "  </thead>\n",
              "  <tbody>\n",
              "    <tr>\n",
              "      <th>0</th>\n",
              "      <td>200</td>\n",
              "      <td>0.039371</td>\n",
              "      <td>0.955556</td>\n",
              "      <td>0.063971</td>\n",
              "      <td>0.971429</td>\n",
              "      <td>3</td>\n",
              "      <td>0.04</td>\n",
              "      <td>200</td>\n",
              "      <td>16</td>\n",
              "      <td>softmax</td>\n",
              "      <td>categorical_crossentropy</td>\n",
              "      <td>8.02</td>\n",
              "      <td>&lt;class 'keras.optimizers.Adam'&gt;</td>\n",
              "      <td>None</td>\n",
              "    </tr>\n",
              "    <tr>\n",
              "      <th>1</th>\n",
              "      <td>200</td>\n",
              "      <td>0.080041</td>\n",
              "      <td>0.977778</td>\n",
              "      <td>0.114343</td>\n",
              "      <td>0.971429</td>\n",
              "      <td>2</td>\n",
              "      <td>0.24</td>\n",
              "      <td>200</td>\n",
              "      <td>32</td>\n",
              "      <td>softmax</td>\n",
              "      <td>categorical_crossentropy</td>\n",
              "      <td>1.09</td>\n",
              "      <td>&lt;class 'keras.optimizers.SGD'&gt;</td>\n",
              "      <td>None</td>\n",
              "    </tr>\n",
              "    <tr>\n",
              "      <th>2</th>\n",
              "      <td>200</td>\n",
              "      <td>0.093586</td>\n",
              "      <td>0.977778</td>\n",
              "      <td>0.219337</td>\n",
              "      <td>0.904762</td>\n",
              "      <td>4</td>\n",
              "      <td>0.20</td>\n",
              "      <td>200</td>\n",
              "      <td>32</td>\n",
              "      <td>softmax</td>\n",
              "      <td>categorical_crossentropy</td>\n",
              "      <td>5.05</td>\n",
              "      <td>&lt;class 'keras.optimizers.SGD'&gt;</td>\n",
              "      <td>None</td>\n",
              "    </tr>\n",
              "    <tr>\n",
              "      <th>3</th>\n",
              "      <td>200</td>\n",
              "      <td>0.039226</td>\n",
              "      <td>0.977778</td>\n",
              "      <td>0.078665</td>\n",
              "      <td>0.952381</td>\n",
              "      <td>3</td>\n",
              "      <td>0.20</td>\n",
              "      <td>200</td>\n",
              "      <td>128</td>\n",
              "      <td>softmax</td>\n",
              "      <td>categorical_crossentropy</td>\n",
              "      <td>9.01</td>\n",
              "      <td>&lt;class 'keras.optimizers.Adam'&gt;</td>\n",
              "      <td>None</td>\n",
              "    </tr>\n",
              "    <tr>\n",
              "      <th>4</th>\n",
              "      <td>200</td>\n",
              "      <td>0.041673</td>\n",
              "      <td>0.977778</td>\n",
              "      <td>0.087682</td>\n",
              "      <td>0.961905</td>\n",
              "      <td>4</td>\n",
              "      <td>0.36</td>\n",
              "      <td>200</td>\n",
              "      <td>64</td>\n",
              "      <td>softmax</td>\n",
              "      <td>categorical_crossentropy</td>\n",
              "      <td>6.04</td>\n",
              "      <td>&lt;class 'keras.optimizers.Adam'&gt;</td>\n",
              "      <td>None</td>\n",
              "    </tr>\n",
              "    <tr>\n",
              "      <th>5</th>\n",
              "      <td>200</td>\n",
              "      <td>0.047551</td>\n",
              "      <td>0.977778</td>\n",
              "      <td>0.092171</td>\n",
              "      <td>0.942857</td>\n",
              "      <td>2</td>\n",
              "      <td>0.04</td>\n",
              "      <td>200</td>\n",
              "      <td>32</td>\n",
              "      <td>softmax</td>\n",
              "      <td>categorical_crossentropy</td>\n",
              "      <td>9.01</td>\n",
              "      <td>&lt;class 'keras.optimizers.Adam'&gt;</td>\n",
              "      <td>None</td>\n",
              "    </tr>\n",
              "    <tr>\n",
              "      <th>6</th>\n",
              "      <td>200</td>\n",
              "      <td>0.039422</td>\n",
              "      <td>0.955556</td>\n",
              "      <td>0.061460</td>\n",
              "      <td>0.980952</td>\n",
              "      <td>2</td>\n",
              "      <td>0.20</td>\n",
              "      <td>200</td>\n",
              "      <td>32</td>\n",
              "      <td>softmax</td>\n",
              "      <td>categorical_crossentropy</td>\n",
              "      <td>3.07</td>\n",
              "      <td>&lt;class 'keras.optimizers.Adam'&gt;</td>\n",
              "      <td>None</td>\n",
              "    </tr>\n",
              "    <tr>\n",
              "      <th>7</th>\n",
              "      <td>200</td>\n",
              "      <td>0.100895</td>\n",
              "      <td>0.977778</td>\n",
              "      <td>0.378910</td>\n",
              "      <td>0.876190</td>\n",
              "      <td>3</td>\n",
              "      <td>0.08</td>\n",
              "      <td>200</td>\n",
              "      <td>4</td>\n",
              "      <td>softmax</td>\n",
              "      <td>categorical_crossentropy</td>\n",
              "      <td>4.06</td>\n",
              "      <td>&lt;class 'keras.optimizers.SGD'&gt;</td>\n",
              "      <td>None</td>\n",
              "    </tr>\n",
              "    <tr>\n",
              "      <th>8</th>\n",
              "      <td>200</td>\n",
              "      <td>0.048926</td>\n",
              "      <td>0.977778</td>\n",
              "      <td>0.171069</td>\n",
              "      <td>0.923810</td>\n",
              "      <td>3</td>\n",
              "      <td>0.20</td>\n",
              "      <td>200</td>\n",
              "      <td>8</td>\n",
              "      <td>softmax</td>\n",
              "      <td>categorical_crossentropy</td>\n",
              "      <td>7.03</td>\n",
              "      <td>&lt;class 'keras.optimizers.Adam'&gt;</td>\n",
              "      <td>None</td>\n",
              "    </tr>\n",
              "    <tr>\n",
              "      <th>9</th>\n",
              "      <td>200</td>\n",
              "      <td>0.038288</td>\n",
              "      <td>0.977778</td>\n",
              "      <td>0.066376</td>\n",
              "      <td>0.990476</td>\n",
              "      <td>3</td>\n",
              "      <td>0.00</td>\n",
              "      <td>200</td>\n",
              "      <td>16</td>\n",
              "      <td>softmax</td>\n",
              "      <td>categorical_crossentropy</td>\n",
              "      <td>8.02</td>\n",
              "      <td>&lt;class 'keras.optimizers.Adam'&gt;</td>\n",
              "      <td>None</td>\n",
              "    </tr>\n",
              "    <tr>\n",
              "      <th>10</th>\n",
              "      <td>200</td>\n",
              "      <td>0.041596</td>\n",
              "      <td>0.977778</td>\n",
              "      <td>0.144545</td>\n",
              "      <td>0.952381</td>\n",
              "      <td>2</td>\n",
              "      <td>0.04</td>\n",
              "      <td>200</td>\n",
              "      <td>128</td>\n",
              "      <td>softmax</td>\n",
              "      <td>categorical_crossentropy</td>\n",
              "      <td>7.03</td>\n",
              "      <td>&lt;class 'keras.optimizers.SGD'&gt;</td>\n",
              "      <td>None</td>\n",
              "    </tr>\n",
              "    <tr>\n",
              "      <th>11</th>\n",
              "      <td>200</td>\n",
              "      <td>0.230558</td>\n",
              "      <td>0.977778</td>\n",
              "      <td>0.340749</td>\n",
              "      <td>0.895238</td>\n",
              "      <td>3</td>\n",
              "      <td>0.28</td>\n",
              "      <td>200</td>\n",
              "      <td>64</td>\n",
              "      <td>softmax</td>\n",
              "      <td>categorical_crossentropy</td>\n",
              "      <td>0.10</td>\n",
              "      <td>&lt;class 'keras.optimizers.Adam'&gt;</td>\n",
              "      <td>None</td>\n",
              "    </tr>\n",
              "    <tr>\n",
              "      <th>12</th>\n",
              "      <td>200</td>\n",
              "      <td>0.237754</td>\n",
              "      <td>0.977778</td>\n",
              "      <td>0.464321</td>\n",
              "      <td>0.904762</td>\n",
              "      <td>2</td>\n",
              "      <td>0.08</td>\n",
              "      <td>200</td>\n",
              "      <td>4</td>\n",
              "      <td>softmax</td>\n",
              "      <td>categorical_crossentropy</td>\n",
              "      <td>2.08</td>\n",
              "      <td>&lt;class 'keras.optimizers.Adam'&gt;</td>\n",
              "      <td>None</td>\n",
              "    </tr>\n",
              "    <tr>\n",
              "      <th>13</th>\n",
              "      <td>200</td>\n",
              "      <td>0.118676</td>\n",
              "      <td>0.977778</td>\n",
              "      <td>0.225757</td>\n",
              "      <td>0.923810</td>\n",
              "      <td>4</td>\n",
              "      <td>0.04</td>\n",
              "      <td>200</td>\n",
              "      <td>4</td>\n",
              "      <td>softmax</td>\n",
              "      <td>categorical_crossentropy</td>\n",
              "      <td>7.03</td>\n",
              "      <td>&lt;class 'keras.optimizers.SGD'&gt;</td>\n",
              "      <td>None</td>\n",
              "    </tr>\n",
              "    <tr>\n",
              "      <th>14</th>\n",
              "      <td>200</td>\n",
              "      <td>0.319553</td>\n",
              "      <td>0.977778</td>\n",
              "      <td>0.453923</td>\n",
              "      <td>0.819048</td>\n",
              "      <td>3</td>\n",
              "      <td>0.20</td>\n",
              "      <td>200</td>\n",
              "      <td>32</td>\n",
              "      <td>softmax</td>\n",
              "      <td>categorical_crossentropy</td>\n",
              "      <td>0.10</td>\n",
              "      <td>&lt;class 'keras.optimizers.Adam'&gt;</td>\n",
              "      <td>None</td>\n",
              "    </tr>\n",
              "    <tr>\n",
              "      <th>15</th>\n",
              "      <td>200</td>\n",
              "      <td>0.045138</td>\n",
              "      <td>0.977778</td>\n",
              "      <td>0.108725</td>\n",
              "      <td>0.961905</td>\n",
              "      <td>3</td>\n",
              "      <td>0.36</td>\n",
              "      <td>200</td>\n",
              "      <td>32</td>\n",
              "      <td>softmax</td>\n",
              "      <td>categorical_crossentropy</td>\n",
              "      <td>7.03</td>\n",
              "      <td>&lt;class 'keras.optimizers.Adam'&gt;</td>\n",
              "      <td>None</td>\n",
              "    </tr>\n",
              "    <tr>\n",
              "      <th>16</th>\n",
              "      <td>200</td>\n",
              "      <td>0.052140</td>\n",
              "      <td>0.977778</td>\n",
              "      <td>0.173978</td>\n",
              "      <td>0.942857</td>\n",
              "      <td>4</td>\n",
              "      <td>0.16</td>\n",
              "      <td>200</td>\n",
              "      <td>32</td>\n",
              "      <td>softmax</td>\n",
              "      <td>categorical_crossentropy</td>\n",
              "      <td>5.05</td>\n",
              "      <td>&lt;class 'keras.optimizers.SGD'&gt;</td>\n",
              "      <td>None</td>\n",
              "    </tr>\n",
              "    <tr>\n",
              "      <th>17</th>\n",
              "      <td>200</td>\n",
              "      <td>0.041271</td>\n",
              "      <td>0.955556</td>\n",
              "      <td>0.130906</td>\n",
              "      <td>0.942857</td>\n",
              "      <td>2</td>\n",
              "      <td>0.04</td>\n",
              "      <td>200</td>\n",
              "      <td>16</td>\n",
              "      <td>softmax</td>\n",
              "      <td>categorical_crossentropy</td>\n",
              "      <td>7.03</td>\n",
              "      <td>&lt;class 'keras.optimizers.Adam'&gt;</td>\n",
              "      <td>None</td>\n",
              "    </tr>\n",
              "    <tr>\n",
              "      <th>18</th>\n",
              "      <td>200</td>\n",
              "      <td>0.053129</td>\n",
              "      <td>0.977778</td>\n",
              "      <td>0.103012</td>\n",
              "      <td>0.971429</td>\n",
              "      <td>2</td>\n",
              "      <td>0.12</td>\n",
              "      <td>200</td>\n",
              "      <td>16</td>\n",
              "      <td>softmax</td>\n",
              "      <td>categorical_crossentropy</td>\n",
              "      <td>1.09</td>\n",
              "      <td>&lt;class 'keras.optimizers.Adam'&gt;</td>\n",
              "      <td>None</td>\n",
              "    </tr>\n",
              "    <tr>\n",
              "      <th>19</th>\n",
              "      <td>200</td>\n",
              "      <td>0.038933</td>\n",
              "      <td>0.977778</td>\n",
              "      <td>0.086456</td>\n",
              "      <td>0.961905</td>\n",
              "      <td>2</td>\n",
              "      <td>0.00</td>\n",
              "      <td>200</td>\n",
              "      <td>4</td>\n",
              "      <td>softmax</td>\n",
              "      <td>categorical_crossentropy</td>\n",
              "      <td>7.03</td>\n",
              "      <td>&lt;class 'keras.optimizers.Adam'&gt;</td>\n",
              "      <td>None</td>\n",
              "    </tr>\n",
              "    <tr>\n",
              "      <th>20</th>\n",
              "      <td>200</td>\n",
              "      <td>0.060582</td>\n",
              "      <td>0.977778</td>\n",
              "      <td>0.120225</td>\n",
              "      <td>0.961905</td>\n",
              "      <td>4</td>\n",
              "      <td>0.16</td>\n",
              "      <td>200</td>\n",
              "      <td>128</td>\n",
              "      <td>softmax</td>\n",
              "      <td>categorical_crossentropy</td>\n",
              "      <td>6.04</td>\n",
              "      <td>&lt;class 'keras.optimizers.SGD'&gt;</td>\n",
              "      <td>None</td>\n",
              "    </tr>\n",
              "    <tr>\n",
              "      <th>21</th>\n",
              "      <td>200</td>\n",
              "      <td>0.064290</td>\n",
              "      <td>0.977778</td>\n",
              "      <td>0.115904</td>\n",
              "      <td>0.971429</td>\n",
              "      <td>3</td>\n",
              "      <td>0.16</td>\n",
              "      <td>200</td>\n",
              "      <td>32</td>\n",
              "      <td>softmax</td>\n",
              "      <td>categorical_crossentropy</td>\n",
              "      <td>2.08</td>\n",
              "      <td>&lt;class 'keras.optimizers.SGD'&gt;</td>\n",
              "      <td>None</td>\n",
              "    </tr>\n",
              "    <tr>\n",
              "      <th>22</th>\n",
              "      <td>200</td>\n",
              "      <td>0.932142</td>\n",
              "      <td>0.711111</td>\n",
              "      <td>0.322983</td>\n",
              "      <td>0.866667</td>\n",
              "      <td>4</td>\n",
              "      <td>0.36</td>\n",
              "      <td>200</td>\n",
              "      <td>16</td>\n",
              "      <td>softmax</td>\n",
              "      <td>categorical_crossentropy</td>\n",
              "      <td>4.06</td>\n",
              "      <td>&lt;class 'keras.optimizers.SGD'&gt;</td>\n",
              "      <td>None</td>\n",
              "    </tr>\n",
              "    <tr>\n",
              "      <th>23</th>\n",
              "      <td>200</td>\n",
              "      <td>0.037650</td>\n",
              "      <td>0.977778</td>\n",
              "      <td>0.080820</td>\n",
              "      <td>0.952381</td>\n",
              "      <td>3</td>\n",
              "      <td>0.04</td>\n",
              "      <td>200</td>\n",
              "      <td>128</td>\n",
              "      <td>softmax</td>\n",
              "      <td>categorical_crossentropy</td>\n",
              "      <td>5.05</td>\n",
              "      <td>&lt;class 'keras.optimizers.Adam'&gt;</td>\n",
              "      <td>None</td>\n",
              "    </tr>\n",
              "    <tr>\n",
              "      <th>24</th>\n",
              "      <td>200</td>\n",
              "      <td>0.136130</td>\n",
              "      <td>0.977778</td>\n",
              "      <td>0.283094</td>\n",
              "      <td>0.876190</td>\n",
              "      <td>4</td>\n",
              "      <td>0.36</td>\n",
              "      <td>200</td>\n",
              "      <td>8</td>\n",
              "      <td>softmax</td>\n",
              "      <td>categorical_crossentropy</td>\n",
              "      <td>1.09</td>\n",
              "      <td>&lt;class 'keras.optimizers.Adam'&gt;</td>\n",
              "      <td>None</td>\n",
              "    </tr>\n",
              "    <tr>\n",
              "      <th>25</th>\n",
              "      <td>200</td>\n",
              "      <td>0.045499</td>\n",
              "      <td>0.977778</td>\n",
              "      <td>0.077929</td>\n",
              "      <td>0.980952</td>\n",
              "      <td>3</td>\n",
              "      <td>0.08</td>\n",
              "      <td>200</td>\n",
              "      <td>128</td>\n",
              "      <td>softmax</td>\n",
              "      <td>categorical_crossentropy</td>\n",
              "      <td>4.06</td>\n",
              "      <td>&lt;class 'keras.optimizers.Adam'&gt;</td>\n",
              "      <td>None</td>\n",
              "    </tr>\n",
              "    <tr>\n",
              "      <th>26</th>\n",
              "      <td>200</td>\n",
              "      <td>0.043262</td>\n",
              "      <td>0.977778</td>\n",
              "      <td>0.105846</td>\n",
              "      <td>0.952381</td>\n",
              "      <td>4</td>\n",
              "      <td>0.00</td>\n",
              "      <td>200</td>\n",
              "      <td>4</td>\n",
              "      <td>softmax</td>\n",
              "      <td>categorical_crossentropy</td>\n",
              "      <td>2.08</td>\n",
              "      <td>&lt;class 'keras.optimizers.SGD'&gt;</td>\n",
              "      <td>None</td>\n",
              "    </tr>\n",
              "    <tr>\n",
              "      <th>27</th>\n",
              "      <td>200</td>\n",
              "      <td>0.051335</td>\n",
              "      <td>0.977778</td>\n",
              "      <td>0.092403</td>\n",
              "      <td>0.971429</td>\n",
              "      <td>3</td>\n",
              "      <td>0.08</td>\n",
              "      <td>200</td>\n",
              "      <td>128</td>\n",
              "      <td>softmax</td>\n",
              "      <td>categorical_crossentropy</td>\n",
              "      <td>3.07</td>\n",
              "      <td>&lt;class 'keras.optimizers.SGD'&gt;</td>\n",
              "      <td>None</td>\n",
              "    </tr>\n",
              "    <tr>\n",
              "      <th>28</th>\n",
              "      <td>200</td>\n",
              "      <td>0.221633</td>\n",
              "      <td>0.977778</td>\n",
              "      <td>0.271302</td>\n",
              "      <td>0.971429</td>\n",
              "      <td>4</td>\n",
              "      <td>0.00</td>\n",
              "      <td>200</td>\n",
              "      <td>32</td>\n",
              "      <td>softmax</td>\n",
              "      <td>categorical_crossentropy</td>\n",
              "      <td>0.10</td>\n",
              "      <td>&lt;class 'keras.optimizers.SGD'&gt;</td>\n",
              "      <td>None</td>\n",
              "    </tr>\n",
              "    <tr>\n",
              "      <th>29</th>\n",
              "      <td>200</td>\n",
              "      <td>0.043196</td>\n",
              "      <td>0.977778</td>\n",
              "      <td>0.072795</td>\n",
              "      <td>0.980952</td>\n",
              "      <td>4</td>\n",
              "      <td>0.00</td>\n",
              "      <td>200</td>\n",
              "      <td>16</td>\n",
              "      <td>softmax</td>\n",
              "      <td>categorical_crossentropy</td>\n",
              "      <td>8.02</td>\n",
              "      <td>&lt;class 'keras.optimizers.Adam'&gt;</td>\n",
              "      <td>None</td>\n",
              "    </tr>\n",
              "    <tr>\n",
              "      <th>30</th>\n",
              "      <td>200</td>\n",
              "      <td>0.108492</td>\n",
              "      <td>0.977778</td>\n",
              "      <td>0.079001</td>\n",
              "      <td>0.980952</td>\n",
              "      <td>2</td>\n",
              "      <td>0.24</td>\n",
              "      <td>200</td>\n",
              "      <td>32</td>\n",
              "      <td>softmax</td>\n",
              "      <td>categorical_crossentropy</td>\n",
              "      <td>3.07</td>\n",
              "      <td>&lt;class 'keras.optimizers.Adam'&gt;</td>\n",
              "      <td>None</td>\n",
              "    </tr>\n",
              "    <tr>\n",
              "      <th>31</th>\n",
              "      <td>200</td>\n",
              "      <td>0.482735</td>\n",
              "      <td>0.711111</td>\n",
              "      <td>0.842643</td>\n",
              "      <td>0.523810</td>\n",
              "      <td>4</td>\n",
              "      <td>0.32</td>\n",
              "      <td>200</td>\n",
              "      <td>8</td>\n",
              "      <td>softmax</td>\n",
              "      <td>categorical_crossentropy</td>\n",
              "      <td>7.03</td>\n",
              "      <td>&lt;class 'keras.optimizers.SGD'&gt;</td>\n",
              "      <td>None</td>\n",
              "    </tr>\n",
              "    <tr>\n",
              "      <th>32</th>\n",
              "      <td>200</td>\n",
              "      <td>0.863669</td>\n",
              "      <td>0.400000</td>\n",
              "      <td>0.837116</td>\n",
              "      <td>0.476190</td>\n",
              "      <td>3</td>\n",
              "      <td>0.20</td>\n",
              "      <td>200</td>\n",
              "      <td>4</td>\n",
              "      <td>softmax</td>\n",
              "      <td>categorical_crossentropy</td>\n",
              "      <td>0.10</td>\n",
              "      <td>&lt;class 'keras.optimizers.Adam'&gt;</td>\n",
              "      <td>None</td>\n",
              "    </tr>\n",
              "    <tr>\n",
              "      <th>33</th>\n",
              "      <td>200</td>\n",
              "      <td>0.718410</td>\n",
              "      <td>0.800000</td>\n",
              "      <td>0.769601</td>\n",
              "      <td>0.666667</td>\n",
              "      <td>4</td>\n",
              "      <td>0.16</td>\n",
              "      <td>200</td>\n",
              "      <td>16</td>\n",
              "      <td>softmax</td>\n",
              "      <td>categorical_crossentropy</td>\n",
              "      <td>0.10</td>\n",
              "      <td>&lt;class 'keras.optimizers.Adam'&gt;</td>\n",
              "      <td>None</td>\n",
              "    </tr>\n",
              "    <tr>\n",
              "      <th>34</th>\n",
              "      <td>200</td>\n",
              "      <td>0.052306</td>\n",
              "      <td>0.977778</td>\n",
              "      <td>0.083890</td>\n",
              "      <td>0.952381</td>\n",
              "      <td>2</td>\n",
              "      <td>0.28</td>\n",
              "      <td>200</td>\n",
              "      <td>64</td>\n",
              "      <td>softmax</td>\n",
              "      <td>categorical_crossentropy</td>\n",
              "      <td>6.04</td>\n",
              "      <td>&lt;class 'keras.optimizers.Adam'&gt;</td>\n",
              "      <td>None</td>\n",
              "    </tr>\n",
              "    <tr>\n",
              "      <th>35</th>\n",
              "      <td>200</td>\n",
              "      <td>0.033634</td>\n",
              "      <td>1.000000</td>\n",
              "      <td>0.059942</td>\n",
              "      <td>0.980952</td>\n",
              "      <td>2</td>\n",
              "      <td>0.00</td>\n",
              "      <td>200</td>\n",
              "      <td>4</td>\n",
              "      <td>softmax</td>\n",
              "      <td>categorical_crossentropy</td>\n",
              "      <td>4.06</td>\n",
              "      <td>&lt;class 'keras.optimizers.Adam'&gt;</td>\n",
              "      <td>None</td>\n",
              "    </tr>\n",
              "  </tbody>\n",
              "</table>\n",
              "</div>"
            ],
            "text/plain": [
              "    round_epochs  val_loss  ...                        optimizer  weight_regulizer\n",
              "0            200  0.039371  ...  <class 'keras.optimizers.Adam'>              None\n",
              "1            200  0.080041  ...   <class 'keras.optimizers.SGD'>              None\n",
              "2            200  0.093586  ...   <class 'keras.optimizers.SGD'>              None\n",
              "3            200  0.039226  ...  <class 'keras.optimizers.Adam'>              None\n",
              "4            200  0.041673  ...  <class 'keras.optimizers.Adam'>              None\n",
              "5            200  0.047551  ...  <class 'keras.optimizers.Adam'>              None\n",
              "6            200  0.039422  ...  <class 'keras.optimizers.Adam'>              None\n",
              "7            200  0.100895  ...   <class 'keras.optimizers.SGD'>              None\n",
              "8            200  0.048926  ...  <class 'keras.optimizers.Adam'>              None\n",
              "9            200  0.038288  ...  <class 'keras.optimizers.Adam'>              None\n",
              "10           200  0.041596  ...   <class 'keras.optimizers.SGD'>              None\n",
              "11           200  0.230558  ...  <class 'keras.optimizers.Adam'>              None\n",
              "12           200  0.237754  ...  <class 'keras.optimizers.Adam'>              None\n",
              "13           200  0.118676  ...   <class 'keras.optimizers.SGD'>              None\n",
              "14           200  0.319553  ...  <class 'keras.optimizers.Adam'>              None\n",
              "15           200  0.045138  ...  <class 'keras.optimizers.Adam'>              None\n",
              "16           200  0.052140  ...   <class 'keras.optimizers.SGD'>              None\n",
              "17           200  0.041271  ...  <class 'keras.optimizers.Adam'>              None\n",
              "18           200  0.053129  ...  <class 'keras.optimizers.Adam'>              None\n",
              "19           200  0.038933  ...  <class 'keras.optimizers.Adam'>              None\n",
              "20           200  0.060582  ...   <class 'keras.optimizers.SGD'>              None\n",
              "21           200  0.064290  ...   <class 'keras.optimizers.SGD'>              None\n",
              "22           200  0.932142  ...   <class 'keras.optimizers.SGD'>              None\n",
              "23           200  0.037650  ...  <class 'keras.optimizers.Adam'>              None\n",
              "24           200  0.136130  ...  <class 'keras.optimizers.Adam'>              None\n",
              "25           200  0.045499  ...  <class 'keras.optimizers.Adam'>              None\n",
              "26           200  0.043262  ...   <class 'keras.optimizers.SGD'>              None\n",
              "27           200  0.051335  ...   <class 'keras.optimizers.SGD'>              None\n",
              "28           200  0.221633  ...   <class 'keras.optimizers.SGD'>              None\n",
              "29           200  0.043196  ...  <class 'keras.optimizers.Adam'>              None\n",
              "30           200  0.108492  ...  <class 'keras.optimizers.Adam'>              None\n",
              "31           200  0.482735  ...   <class 'keras.optimizers.SGD'>              None\n",
              "32           200  0.863669  ...  <class 'keras.optimizers.Adam'>              None\n",
              "33           200  0.718410  ...  <class 'keras.optimizers.Adam'>              None\n",
              "34           200  0.052306  ...  <class 'keras.optimizers.Adam'>              None\n",
              "35           200  0.033634  ...  <class 'keras.optimizers.Adam'>              None\n",
              "\n",
              "[36 rows x 14 columns]"
            ]
          },
          "metadata": {
            "tags": []
          },
          "execution_count": 34
        }
      ]
    },
    {
      "cell_type": "code",
      "metadata": {
        "id": "3U3WcUHlkSGH",
        "colab_type": "code",
        "outputId": "a5ee06f8-545e-4efe-ecf5-dbbc6251b42e",
        "colab": {
          "base_uri": "https://localhost:8080/",
          "height": 34
        }
      },
      "source": [
        "# get the number of rounds in the Scan\n",
        "analyze_object.rounds()"
      ],
      "execution_count": 0,
      "outputs": [
        {
          "output_type": "execute_result",
          "data": {
            "text/plain": [
              "36"
            ]
          },
          "metadata": {
            "tags": []
          },
          "execution_count": 35
        }
      ]
    },
    {
      "cell_type": "code",
      "metadata": {
        "id": "JsEwmuoRpKHo",
        "colab_type": "code",
        "outputId": "bed734a7-b998-4059-81fb-d8041e7e4f32",
        "colab": {
          "base_uri": "https://localhost:8080/",
          "height": 34
        }
      },
      "source": [
        "# get the highest result for any metric\n",
        "analyze_object.high('val_acc')"
      ],
      "execution_count": 0,
      "outputs": [
        {
          "output_type": "execute_result",
          "data": {
            "text/plain": [
              "1.0"
            ]
          },
          "metadata": {
            "tags": []
          },
          "execution_count": 36
        }
      ]
    },
    {
      "cell_type": "code",
      "metadata": {
        "id": "7ZlkABrqpOWr",
        "colab_type": "code",
        "outputId": "fe63be50-b15b-4e02-db22-6835d199b9c2",
        "colab": {
          "base_uri": "https://localhost:8080/",
          "height": 34
        }
      },
      "source": [
        "# get the round with the best result\n",
        "analyze_object.rounds2high('val_acc')"
      ],
      "execution_count": 0,
      "outputs": [
        {
          "output_type": "execute_result",
          "data": {
            "text/plain": [
              "35"
            ]
          },
          "metadata": {
            "tags": []
          },
          "execution_count": 37
        }
      ]
    },
    {
      "cell_type": "code",
      "metadata": {
        "id": "QdDUSL-NpReQ",
        "colab_type": "code",
        "outputId": "be10809c-0300-4563-ef04-728908b561ba",
        "colab": {
          "base_uri": "https://localhost:8080/",
          "height": 357
        }
      },
      "source": [
        "# get the best paramaters\n",
        "analyze_object.best_params('val_acc', ['acc', 'loss', 'val_loss'])"
      ],
      "execution_count": 0,
      "outputs": [
        {
          "output_type": "execute_result",
          "data": {
            "text/plain": [
              "array([[200, 200, 4, 4.0600000000000005, None, 'softmax', 0.0, 2,\n",
              "        <class 'keras.optimizers.Adam'>, 0],\n",
              "       [200, 200, 32, 5.05, None, 'softmax', 0.16, 4,\n",
              "        <class 'keras.optimizers.SGD'>, 1],\n",
              "       [200, 200, 64, 6.04, None, 'softmax', 0.28, 2,\n",
              "        <class 'keras.optimizers.Adam'>, 2],\n",
              "       [200, 200, 32, 3.0700000000000003, None, 'softmax', 0.24, 2,\n",
              "        <class 'keras.optimizers.Adam'>, 3],\n",
              "       [200, 200, 16, 8.020000000000001, None, 'softmax', 0.0, 4,\n",
              "        <class 'keras.optimizers.Adam'>, 4],\n",
              "       [200, 200, 32, 0.1, None, 'softmax', 0.0, 4,\n",
              "        <class 'keras.optimizers.SGD'>, 5],\n",
              "       [200, 200, 128, 3.0700000000000003, None, 'softmax', 0.08, 3,\n",
              "        <class 'keras.optimizers.SGD'>, 6],\n",
              "       [200, 200, 4, 2.08, None, 'softmax', 0.0, 4,\n",
              "        <class 'keras.optimizers.SGD'>, 7],\n",
              "       [200, 200, 128, 4.0600000000000005, None, 'softmax', 0.08, 3,\n",
              "        <class 'keras.optimizers.Adam'>, 8],\n",
              "       [200, 200, 8, 1.09, None, 'softmax', 0.36, 4,\n",
              "        <class 'keras.optimizers.Adam'>, 9]], dtype=object)"
            ]
          },
          "metadata": {
            "tags": []
          },
          "execution_count": 38
        }
      ]
    },
    {
      "cell_type": "markdown",
      "metadata": {
        "id": "TMMtu9hrkSGO",
        "colab_type": "text"
      },
      "source": [
        "In addition to the key obsevations, several useful plots are available for analysis of the results."
      ]
    },
    {
      "cell_type": "code",
      "metadata": {
        "id": "rHyedq0zkSGQ",
        "colab_type": "code",
        "outputId": "906d175f-7bb4-4540-ac32-bcc80338cdf9",
        "colab": {
          "base_uri": "https://localhost:8080/",
          "height": 480
        }
      },
      "source": [
        "# a regression plot for two dimensions \n",
        "analyze_object.plot_regs('val_acc', 'val_loss')"
      ],
      "execution_count": 0,
      "outputs": [
        {
          "output_type": "display_data",
          "data": {
            "image/png": "[encoded data removed]",
            "text/plain": [
              "<Figure size 720x475.2 with 1 Axes>"
            ]
          },
          "metadata": {
            "tags": []
          }
        }
      ]
    },
    {
      "cell_type": "code",
      "metadata": {
        "id": "FNWZ2-FYr6Ra",
        "colab_type": "code",
        "outputId": "e6a29545-7b5d-4296-bf6b-14854041e0e5",
        "colab": {
          "base_uri": "https://localhost:8080/",
          "height": 480
        }
      },
      "source": [
        "# line plot\n",
        "analyze_object.plot_line('val_acc')"
      ],
      "execution_count": 0,
      "outputs": [
        {
          "output_type": "display_data",
          "data": {
            "image/png": "[encoded data removed]",
            "text/plain": [
              "<Figure size 864x475.2 with 1 Axes>"
            ]
          },
          "metadata": {
            "tags": []
          }
        }
      ]
    },
    {
      "cell_type": "code",
      "metadata": {
        "id": "-eE5NIB3sCsf",
        "colab_type": "code",
        "outputId": "6a250917-2e23-43f1-fa59-e295d2243877",
        "colab": {
          "base_uri": "https://localhost:8080/",
          "height": 480
        }
      },
      "source": [
        "# a simple histogram\n",
        "analyze_object.plot_hist('val_acc', bins=50)"
      ],
      "execution_count": 0,
      "outputs": [
        {
          "output_type": "display_data",
          "data": {
            "image/png": "[encoded data removed]",
            "text/plain": [
              "<Figure size 720x475.2 with 1 Axes>"
            ]
          },
          "metadata": {
            "tags": []
          }
        }
      ]
    },
    {
      "cell_type": "code",
      "metadata": {
        "id": "WLdh8vjjsGLQ",
        "colab_type": "code",
        "outputId": "80e6aac1-45c7-4732-ff46-c3a2e75ef2ce",
        "colab": {
          "base_uri": "https://localhost:8080/",
          "height": 643
        }
      },
      "source": [
        "# heatmap correlation\n",
        "analyze_object.plot_corr('val_loss', ['acc', 'loss', 'val_loss'])"
      ],
      "execution_count": 0,
      "outputs": [
        {
          "output_type": "display_data",
          "data": {
            "image/png": "[encoded data removed]",
            "text/plain": [
              "<Figure size 684x684 with 2 Axes>"
            ]
          },
          "metadata": {
            "tags": []
          }
        }
      ]
    },
    {
      "cell_type": "markdown",
      "metadata": {
        "id": "8yyual3YkSGW",
        "colab_type": "text"
      },
      "source": [
        "### 7. Evaluating Models with <code>Evaluate()</code> <a name=\"seven\"></a> "
      ]
    },
    {
      "cell_type": "markdown",
      "metadata": {
        "id": "e37a0e6YkSGX",
        "colab_type": "text"
      },
      "source": [
        "Models can be evaluated with <code>Evaluate()</code> against a k-fold cross-validation. Ideally at least 50% of the data, or more if possible, is kept completely out of the <code>Scan</code> process and only exposed into Evaluate once one or more candidate models have been identified."
      ]
    },
    {
      "cell_type": "code",
      "metadata": {
        "id": "V9_LyYahkSGZ",
        "colab_type": "code",
        "outputId": "1113ae38-04d1-4c35-a6ff-a7727a55ab83",
        "colab": {
          "base_uri": "https://localhost:8080/",
          "height": 34
        }
      },
      "source": [
        "evaluate_object = talos.Evaluate(scan_object)\n",
        "evaluate_object.evaluate(x, y, folds=10, metric='val_acc', task='multi_label')"
      ],
      "execution_count": 0,
      "outputs": [
        {
          "output_type": "execute_result",
          "data": {
            "text/plain": [
              "[1.0, 1.0, 1.0, 0.9137254901960784, 1.0, 1.0, 1.0, 1.0, 1.0, 1.0]"
            ]
          },
          "metadata": {
            "tags": []
          },
          "execution_count": 48
        }
      ]
    },
    {
      "cell_type": "markdown",
      "metadata": {
        "id": "PDRYnti-kSGf",
        "colab_type": "text"
      },
      "source": [
        "Once a sufficiently performing model have been found, a deployment package can be easily created."
      ]
    },
    {
      "cell_type": "markdown",
      "metadata": {
        "id": "1QIdlyMLkSGh",
        "colab_type": "text"
      },
      "source": [
        "### 8. Deploying Models with <code>Deploy()</code> <a name=\"eight\"></a> "
      ]
    },
    {
      "cell_type": "markdown",
      "metadata": {
        "id": "vM9PMkjpkSGk",
        "colab_type": "text"
      },
      "source": [
        "Once the right model or models have been found, you can create a deployment package with <code>Deploy()</code> which is then easy to transfer to a production or other environment, send via email, or upload to shared remote location. Best model is automatically chosen based on a given metric ('val_acc' by default).\n",
        "\n",
        "The Deploy package is a zip file that consist of: \n",
        "\n",
        "- details of the scan\n",
        "- model weights\n",
        "- model json\n",
        "- results of the experiment\n",
        "- sample of x data\n",
        "- sample of y data\n",
        "\n",
        "The <code>Deploy</code> package can be easily restored with <code>Restore()</code> which is covered in the next section."
      ]
    },
    {
      "cell_type": "code",
      "metadata": {
        "id": "fdQysVnQkSGm",
        "colab_type": "code",
        "outputId": "7ff47c36-9497-46dc-bd87-50658fbbc1d4",
        "colab": {
          "base_uri": "https://localhost:8080/",
          "height": 34
        }
      },
      "source": [
        "talos.Deploy(scan_object=scan_object, model_name='iris_deploy', metric='val_acc');"
      ],
      "execution_count": 0,
      "outputs": [
        {
          "output_type": "stream",
          "text": [
            "Deploy package iris_deploy have been saved.\n"
          ],
          "name": "stdout"
        }
      ]
    },
    {
      "cell_type": "markdown",
      "metadata": {
        "id": "wsU8ro5AkSGw",
        "colab_type": "text"
      },
      "source": [
        "### 9. Restoring Models with <code>Restore()</code> <a name=\"nine\"></a> "
      ]
    },
    {
      "cell_type": "code",
      "metadata": {
        "id": "crr5IHjLkSG1",
        "colab_type": "code",
        "colab": {}
      },
      "source": [
        "iris = talos.Restore('iris_deploy.zip')"
      ],
      "execution_count": 0,
      "outputs": []
    },
    {
      "cell_type": "markdown",
      "metadata": {
        "id": "VHC2uAbbkSG8",
        "colab_type": "text"
      },
      "source": [
        "The <code>Restore</code> object now consists of the assets from the Scan object originally associated with the experiment, together with the model that had been picked as 'best'. The model can be immediately used for making prediction, or use in any other other way Keras model objects can be used."
      ]
    },
    {
      "cell_type": "code",
      "metadata": {
        "id": "Mab8DOAOkSG_",
        "colab_type": "code",
        "colab": {}
      },
      "source": [
        "# make predictions with the model\n",
        "model = iris.model\n",
        "model.predict(x)"
      ],
      "execution_count": 0,
      "outputs": []
    },
    {
      "cell_type": "code",
      "metadata": {
        "id": "-skVhNPBkSHP",
        "colab_type": "code",
        "outputId": "215356a5-2aad-4e85-b066-e70ca8399f5b",
        "colab": {
          "base_uri": "https://localhost:8080/",
          "height": 170
        }
      },
      "source": [
        "# get the hyperparameter space boundary\n",
        "iris.params"
      ],
      "execution_count": 0,
      "outputs": [
        {
          "output_type": "execute_result",
          "data": {
            "text/plain": [
              "{'batch_size': [2, 3, 4],\n",
              " 'dropout': (0, 0.4, 10),\n",
              " 'epochs': [200],\n",
              " 'first_neuron': [4, 8, 16, 32, 64, 128],\n",
              " 'last_activation': ['softmax'],\n",
              " 'loss': ['categorical_crossentropy'],\n",
              " 'lr': (0.1, 10, 10),\n",
              " 'optimizer': [keras.optimizers.Adam, keras.optimizers.SGD],\n",
              " 'weight_regulizer': [None]}"
            ]
          },
          "metadata": {
            "tags": []
          },
          "execution_count": 54
        }
      ]
    },
    {
      "cell_type": "code",
      "metadata": {
        "id": "-Xl9LFMckSHV",
        "colab_type": "code",
        "outputId": "088e3fab-6aaf-403f-d83a-054890741553",
        "colab": {
          "base_uri": "https://localhost:8080/",
          "height": 419
        }
      },
      "source": [
        "# sample of x and y data\n",
        "iris.x\n",
        "iris.y"
      ],
      "execution_count": 0,
      "outputs": [
        {
          "output_type": "execute_result",
          "data": {
            "text/html": [
              "<div>\n",
              "<style scoped>\n",
              "    .dataframe tbody tr th:only-of-type {\n",
              "        vertical-align: middle;\n",
              "    }\n",
              "\n",
              "    .dataframe tbody tr th {\n",
              "        vertical-align: top;\n",
              "    }\n",
              "\n",
              "    .dataframe thead th {\n",
              "        text-align: right;\n",
              "    }\n",
              "</style>\n",
              "<table border=\"1\" class=\"dataframe\">\n",
              "  <thead>\n",
              "    <tr style=\"text-align: right;\">\n",
              "      <th></th>\n",
              "      <th>0</th>\n",
              "      <th>1</th>\n",
              "      <th>2</th>\n",
              "    </tr>\n",
              "  </thead>\n",
              "  <tbody>\n",
              "    <tr>\n",
              "      <th>0</th>\n",
              "      <td>1.0</td>\n",
              "      <td>0.0</td>\n",
              "      <td>0.0</td>\n",
              "    </tr>\n",
              "    <tr>\n",
              "      <th>1</th>\n",
              "      <td>0.0</td>\n",
              "      <td>1.0</td>\n",
              "      <td>0.0</td>\n",
              "    </tr>\n",
              "    <tr>\n",
              "      <th>2</th>\n",
              "      <td>1.0</td>\n",
              "      <td>0.0</td>\n",
              "      <td>0.0</td>\n",
              "    </tr>\n",
              "    <tr>\n",
              "      <th>3</th>\n",
              "      <td>0.0</td>\n",
              "      <td>1.0</td>\n",
              "      <td>0.0</td>\n",
              "    </tr>\n",
              "    <tr>\n",
              "      <th>4</th>\n",
              "      <td>0.0</td>\n",
              "      <td>0.0</td>\n",
              "      <td>1.0</td>\n",
              "    </tr>\n",
              "    <tr>\n",
              "      <th>...</th>\n",
              "      <td>...</td>\n",
              "      <td>...</td>\n",
              "      <td>...</td>\n",
              "    </tr>\n",
              "    <tr>\n",
              "      <th>95</th>\n",
              "      <td>1.0</td>\n",
              "      <td>0.0</td>\n",
              "      <td>0.0</td>\n",
              "    </tr>\n",
              "    <tr>\n",
              "      <th>96</th>\n",
              "      <td>1.0</td>\n",
              "      <td>0.0</td>\n",
              "      <td>0.0</td>\n",
              "    </tr>\n",
              "    <tr>\n",
              "      <th>97</th>\n",
              "      <td>0.0</td>\n",
              "      <td>0.0</td>\n",
              "      <td>1.0</td>\n",
              "    </tr>\n",
              "    <tr>\n",
              "      <th>98</th>\n",
              "      <td>0.0</td>\n",
              "      <td>1.0</td>\n",
              "      <td>0.0</td>\n",
              "    </tr>\n",
              "    <tr>\n",
              "      <th>99</th>\n",
              "      <td>1.0</td>\n",
              "      <td>0.0</td>\n",
              "      <td>0.0</td>\n",
              "    </tr>\n",
              "  </tbody>\n",
              "</table>\n",
              "<p>100 rows × 3 columns</p>\n",
              "</div>"
            ],
            "text/plain": [
              "      0    1    2\n",
              "0   1.0  0.0  0.0\n",
              "1   0.0  1.0  0.0\n",
              "2   1.0  0.0  0.0\n",
              "3   0.0  1.0  0.0\n",
              "4   0.0  0.0  1.0\n",
              "..  ...  ...  ...\n",
              "95  1.0  0.0  0.0\n",
              "96  1.0  0.0  0.0\n",
              "97  0.0  0.0  1.0\n",
              "98  0.0  1.0  0.0\n",
              "99  1.0  0.0  0.0\n",
              "\n",
              "[100 rows x 3 columns]"
            ]
          },
          "metadata": {
            "tags": []
          },
          "execution_count": 55
        }
      ]
    },
    {
      "cell_type": "code",
      "metadata": {
        "id": "4qvFrmmOkSHZ",
        "colab_type": "code",
        "outputId": "39148c4c-9004-444f-a3ac-9eac41370c36",
        "colab": {
          "base_uri": "https://localhost:8080/",
          "height": 1000
        }
      },
      "source": [
        "# the results dataframe\n",
        "iris.results"
      ],
      "execution_count": 0,
      "outputs": [
        {
          "output_type": "execute_result",
          "data": {
            "text/html": [
              "<div>\n",
              "<style scoped>\n",
              "    .dataframe tbody tr th:only-of-type {\n",
              "        vertical-align: middle;\n",
              "    }\n",
              "\n",
              "    .dataframe tbody tr th {\n",
              "        vertical-align: top;\n",
              "    }\n",
              "\n",
              "    .dataframe thead th {\n",
              "        text-align: right;\n",
              "    }\n",
              "</style>\n",
              "<table border=\"1\" class=\"dataframe\">\n",
              "  <thead>\n",
              "    <tr style=\"text-align: right;\">\n",
              "      <th></th>\n",
              "      <th>round_epochs</th>\n",
              "      <th>val_loss</th>\n",
              "      <th>val_acc</th>\n",
              "      <th>loss</th>\n",
              "      <th>acc</th>\n",
              "      <th>batch_size</th>\n",
              "      <th>dropout</th>\n",
              "      <th>epochs</th>\n",
              "      <th>first_neuron</th>\n",
              "      <th>last_activation</th>\n",
              "      <th>loss.1</th>\n",
              "      <th>lr</th>\n",
              "      <th>optimizer</th>\n",
              "      <th>weight_regulizer</th>\n",
              "      <th>Unnamed: 15</th>\n",
              "    </tr>\n",
              "  </thead>\n",
              "  <tbody>\n",
              "    <tr>\n",
              "      <th>0</th>\n",
              "      <td>200</td>\n",
              "      <td>0.039371</td>\n",
              "      <td>0.955556</td>\n",
              "      <td>0.063971</td>\n",
              "      <td>0.971429</td>\n",
              "      <td>3</td>\n",
              "      <td>0.04</td>\n",
              "      <td>200</td>\n",
              "      <td>16</td>\n",
              "      <td>softmax</td>\n",
              "      <td>categorical_crossentropy</td>\n",
              "      <td>8.02</td>\n",
              "      <td>&lt;class 'keras.optimizers.Adam'&gt;</td>\n",
              "      <td>NaN</td>\n",
              "      <td>0</td>\n",
              "    </tr>\n",
              "    <tr>\n",
              "      <th>1</th>\n",
              "      <td>200</td>\n",
              "      <td>0.080041</td>\n",
              "      <td>0.977778</td>\n",
              "      <td>0.114343</td>\n",
              "      <td>0.971429</td>\n",
              "      <td>2</td>\n",
              "      <td>0.24</td>\n",
              "      <td>200</td>\n",
              "      <td>32</td>\n",
              "      <td>softmax</td>\n",
              "      <td>categorical_crossentropy</td>\n",
              "      <td>1.09</td>\n",
              "      <td>&lt;class 'keras.optimizers.SGD'&gt;</td>\n",
              "      <td>NaN</td>\n",
              "      <td>1</td>\n",
              "    </tr>\n",
              "    <tr>\n",
              "      <th>2</th>\n",
              "      <td>200</td>\n",
              "      <td>0.093586</td>\n",
              "      <td>0.977778</td>\n",
              "      <td>0.219337</td>\n",
              "      <td>0.904762</td>\n",
              "      <td>4</td>\n",
              "      <td>0.20</td>\n",
              "      <td>200</td>\n",
              "      <td>32</td>\n",
              "      <td>softmax</td>\n",
              "      <td>categorical_crossentropy</td>\n",
              "      <td>5.05</td>\n",
              "      <td>&lt;class 'keras.optimizers.SGD'&gt;</td>\n",
              "      <td>NaN</td>\n",
              "      <td>2</td>\n",
              "    </tr>\n",
              "    <tr>\n",
              "      <th>3</th>\n",
              "      <td>200</td>\n",
              "      <td>0.039226</td>\n",
              "      <td>0.977778</td>\n",
              "      <td>0.078665</td>\n",
              "      <td>0.952381</td>\n",
              "      <td>3</td>\n",
              "      <td>0.20</td>\n",
              "      <td>200</td>\n",
              "      <td>128</td>\n",
              "      <td>softmax</td>\n",
              "      <td>categorical_crossentropy</td>\n",
              "      <td>9.01</td>\n",
              "      <td>&lt;class 'keras.optimizers.Adam'&gt;</td>\n",
              "      <td>NaN</td>\n",
              "      <td>3</td>\n",
              "    </tr>\n",
              "    <tr>\n",
              "      <th>4</th>\n",
              "      <td>200</td>\n",
              "      <td>0.041673</td>\n",
              "      <td>0.977778</td>\n",
              "      <td>0.087682</td>\n",
              "      <td>0.961905</td>\n",
              "      <td>4</td>\n",
              "      <td>0.36</td>\n",
              "      <td>200</td>\n",
              "      <td>64</td>\n",
              "      <td>softmax</td>\n",
              "      <td>categorical_crossentropy</td>\n",
              "      <td>6.04</td>\n",
              "      <td>&lt;class 'keras.optimizers.Adam'&gt;</td>\n",
              "      <td>NaN</td>\n",
              "      <td>4</td>\n",
              "    </tr>\n",
              "    <tr>\n",
              "      <th>5</th>\n",
              "      <td>200</td>\n",
              "      <td>0.047551</td>\n",
              "      <td>0.977778</td>\n",
              "      <td>0.092171</td>\n",
              "      <td>0.942857</td>\n",
              "      <td>2</td>\n",
              "      <td>0.04</td>\n",
              "      <td>200</td>\n",
              "      <td>32</td>\n",
              "      <td>softmax</td>\n",
              "      <td>categorical_crossentropy</td>\n",
              "      <td>9.01</td>\n",
              "      <td>&lt;class 'keras.optimizers.Adam'&gt;</td>\n",
              "      <td>NaN</td>\n",
              "      <td>5</td>\n",
              "    </tr>\n",
              "    <tr>\n",
              "      <th>6</th>\n",
              "      <td>200</td>\n",
              "      <td>0.039422</td>\n",
              "      <td>0.955556</td>\n",
              "      <td>0.061460</td>\n",
              "      <td>0.980952</td>\n",
              "      <td>2</td>\n",
              "      <td>0.20</td>\n",
              "      <td>200</td>\n",
              "      <td>32</td>\n",
              "      <td>softmax</td>\n",
              "      <td>categorical_crossentropy</td>\n",
              "      <td>3.07</td>\n",
              "      <td>&lt;class 'keras.optimizers.Adam'&gt;</td>\n",
              "      <td>NaN</td>\n",
              "      <td>6</td>\n",
              "    </tr>\n",
              "    <tr>\n",
              "      <th>7</th>\n",
              "      <td>200</td>\n",
              "      <td>0.100895</td>\n",
              "      <td>0.977778</td>\n",
              "      <td>0.378910</td>\n",
              "      <td>0.876190</td>\n",
              "      <td>3</td>\n",
              "      <td>0.08</td>\n",
              "      <td>200</td>\n",
              "      <td>4</td>\n",
              "      <td>softmax</td>\n",
              "      <td>categorical_crossentropy</td>\n",
              "      <td>4.06</td>\n",
              "      <td>&lt;class 'keras.optimizers.SGD'&gt;</td>\n",
              "      <td>NaN</td>\n",
              "      <td>7</td>\n",
              "    </tr>\n",
              "    <tr>\n",
              "      <th>8</th>\n",
              "      <td>200</td>\n",
              "      <td>0.048926</td>\n",
              "      <td>0.977778</td>\n",
              "      <td>0.171069</td>\n",
              "      <td>0.923810</td>\n",
              "      <td>3</td>\n",
              "      <td>0.20</td>\n",
              "      <td>200</td>\n",
              "      <td>8</td>\n",
              "      <td>softmax</td>\n",
              "      <td>categorical_crossentropy</td>\n",
              "      <td>7.03</td>\n",
              "      <td>&lt;class 'keras.optimizers.Adam'&gt;</td>\n",
              "      <td>NaN</td>\n",
              "      <td>8</td>\n",
              "    </tr>\n",
              "    <tr>\n",
              "      <th>9</th>\n",
              "      <td>200</td>\n",
              "      <td>0.038288</td>\n",
              "      <td>0.977778</td>\n",
              "      <td>0.066376</td>\n",
              "      <td>0.990476</td>\n",
              "      <td>3</td>\n",
              "      <td>0.00</td>\n",
              "      <td>200</td>\n",
              "      <td>16</td>\n",
              "      <td>softmax</td>\n",
              "      <td>categorical_crossentropy</td>\n",
              "      <td>8.02</td>\n",
              "      <td>&lt;class 'keras.optimizers.Adam'&gt;</td>\n",
              "      <td>NaN</td>\n",
              "      <td>9</td>\n",
              "    </tr>\n",
              "    <tr>\n",
              "      <th>10</th>\n",
              "      <td>200</td>\n",
              "      <td>0.041596</td>\n",
              "      <td>0.977778</td>\n",
              "      <td>0.144545</td>\n",
              "      <td>0.952381</td>\n",
              "      <td>2</td>\n",
              "      <td>0.04</td>\n",
              "      <td>200</td>\n",
              "      <td>128</td>\n",
              "      <td>softmax</td>\n",
              "      <td>categorical_crossentropy</td>\n",
              "      <td>7.03</td>\n",
              "      <td>&lt;class 'keras.optimizers.SGD'&gt;</td>\n",
              "      <td>NaN</td>\n",
              "      <td>10</td>\n",
              "    </tr>\n",
              "    <tr>\n",
              "      <th>11</th>\n",
              "      <td>200</td>\n",
              "      <td>0.230558</td>\n",
              "      <td>0.977778</td>\n",
              "      <td>0.340749</td>\n",
              "      <td>0.895238</td>\n",
              "      <td>3</td>\n",
              "      <td>0.28</td>\n",
              "      <td>200</td>\n",
              "      <td>64</td>\n",
              "      <td>softmax</td>\n",
              "      <td>categorical_crossentropy</td>\n",
              "      <td>0.10</td>\n",
              "      <td>&lt;class 'keras.optimizers.Adam'&gt;</td>\n",
              "      <td>NaN</td>\n",
              "      <td>11</td>\n",
              "    </tr>\n",
              "    <tr>\n",
              "      <th>12</th>\n",
              "      <td>200</td>\n",
              "      <td>0.237754</td>\n",
              "      <td>0.977778</td>\n",
              "      <td>0.464321</td>\n",
              "      <td>0.904762</td>\n",
              "      <td>2</td>\n",
              "      <td>0.08</td>\n",
              "      <td>200</td>\n",
              "      <td>4</td>\n",
              "      <td>softmax</td>\n",
              "      <td>categorical_crossentropy</td>\n",
              "      <td>2.08</td>\n",
              "      <td>&lt;class 'keras.optimizers.Adam'&gt;</td>\n",
              "      <td>NaN</td>\n",
              "      <td>12</td>\n",
              "    </tr>\n",
              "    <tr>\n",
              "      <th>13</th>\n",
              "      <td>200</td>\n",
              "      <td>0.118676</td>\n",
              "      <td>0.977778</td>\n",
              "      <td>0.225757</td>\n",
              "      <td>0.923810</td>\n",
              "      <td>4</td>\n",
              "      <td>0.04</td>\n",
              "      <td>200</td>\n",
              "      <td>4</td>\n",
              "      <td>softmax</td>\n",
              "      <td>categorical_crossentropy</td>\n",
              "      <td>7.03</td>\n",
              "      <td>&lt;class 'keras.optimizers.SGD'&gt;</td>\n",
              "      <td>NaN</td>\n",
              "      <td>13</td>\n",
              "    </tr>\n",
              "    <tr>\n",
              "      <th>14</th>\n",
              "      <td>200</td>\n",
              "      <td>0.319553</td>\n",
              "      <td>0.977778</td>\n",
              "      <td>0.453923</td>\n",
              "      <td>0.819048</td>\n",
              "      <td>3</td>\n",
              "      <td>0.20</td>\n",
              "      <td>200</td>\n",
              "      <td>32</td>\n",
              "      <td>softmax</td>\n",
              "      <td>categorical_crossentropy</td>\n",
              "      <td>0.10</td>\n",
              "      <td>&lt;class 'keras.optimizers.Adam'&gt;</td>\n",
              "      <td>NaN</td>\n",
              "      <td>14</td>\n",
              "    </tr>\n",
              "    <tr>\n",
              "      <th>15</th>\n",
              "      <td>200</td>\n",
              "      <td>0.045138</td>\n",
              "      <td>0.977778</td>\n",
              "      <td>0.108725</td>\n",
              "      <td>0.961905</td>\n",
              "      <td>3</td>\n",
              "      <td>0.36</td>\n",
              "      <td>200</td>\n",
              "      <td>32</td>\n",
              "      <td>softmax</td>\n",
              "      <td>categorical_crossentropy</td>\n",
              "      <td>7.03</td>\n",
              "      <td>&lt;class 'keras.optimizers.Adam'&gt;</td>\n",
              "      <td>NaN</td>\n",
              "      <td>15</td>\n",
              "    </tr>\n",
              "    <tr>\n",
              "      <th>16</th>\n",
              "      <td>200</td>\n",
              "      <td>0.052140</td>\n",
              "      <td>0.977778</td>\n",
              "      <td>0.173978</td>\n",
              "      <td>0.942857</td>\n",
              "      <td>4</td>\n",
              "      <td>0.16</td>\n",
              "      <td>200</td>\n",
              "      <td>32</td>\n",
              "      <td>softmax</td>\n",
              "      <td>categorical_crossentropy</td>\n",
              "      <td>5.05</td>\n",
              "      <td>&lt;class 'keras.optimizers.SGD'&gt;</td>\n",
              "      <td>NaN</td>\n",
              "      <td>16</td>\n",
              "    </tr>\n",
              "    <tr>\n",
              "      <th>17</th>\n",
              "      <td>200</td>\n",
              "      <td>0.041271</td>\n",
              "      <td>0.955556</td>\n",
              "      <td>0.130906</td>\n",
              "      <td>0.942857</td>\n",
              "      <td>2</td>\n",
              "      <td>0.04</td>\n",
              "      <td>200</td>\n",
              "      <td>16</td>\n",
              "      <td>softmax</td>\n",
              "      <td>categorical_crossentropy</td>\n",
              "      <td>7.03</td>\n",
              "      <td>&lt;class 'keras.optimizers.Adam'&gt;</td>\n",
              "      <td>NaN</td>\n",
              "      <td>17</td>\n",
              "    </tr>\n",
              "    <tr>\n",
              "      <th>18</th>\n",
              "      <td>200</td>\n",
              "      <td>0.053129</td>\n",
              "      <td>0.977778</td>\n",
              "      <td>0.103012</td>\n",
              "      <td>0.971429</td>\n",
              "      <td>2</td>\n",
              "      <td>0.12</td>\n",
              "      <td>200</td>\n",
              "      <td>16</td>\n",
              "      <td>softmax</td>\n",
              "      <td>categorical_crossentropy</td>\n",
              "      <td>1.09</td>\n",
              "      <td>&lt;class 'keras.optimizers.Adam'&gt;</td>\n",
              "      <td>NaN</td>\n",
              "      <td>18</td>\n",
              "    </tr>\n",
              "    <tr>\n",
              "      <th>19</th>\n",
              "      <td>200</td>\n",
              "      <td>0.038933</td>\n",
              "      <td>0.977778</td>\n",
              "      <td>0.086456</td>\n",
              "      <td>0.961905</td>\n",
              "      <td>2</td>\n",
              "      <td>0.00</td>\n",
              "      <td>200</td>\n",
              "      <td>4</td>\n",
              "      <td>softmax</td>\n",
              "      <td>categorical_crossentropy</td>\n",
              "      <td>7.03</td>\n",
              "      <td>&lt;class 'keras.optimizers.Adam'&gt;</td>\n",
              "      <td>NaN</td>\n",
              "      <td>19</td>\n",
              "    </tr>\n",
              "    <tr>\n",
              "      <th>20</th>\n",
              "      <td>200</td>\n",
              "      <td>0.060582</td>\n",
              "      <td>0.977778</td>\n",
              "      <td>0.120225</td>\n",
              "      <td>0.961905</td>\n",
              "      <td>4</td>\n",
              "      <td>0.16</td>\n",
              "      <td>200</td>\n",
              "      <td>128</td>\n",
              "      <td>softmax</td>\n",
              "      <td>categorical_crossentropy</td>\n",
              "      <td>6.04</td>\n",
              "      <td>&lt;class 'keras.optimizers.SGD'&gt;</td>\n",
              "      <td>NaN</td>\n",
              "      <td>20</td>\n",
              "    </tr>\n",
              "    <tr>\n",
              "      <th>21</th>\n",
              "      <td>200</td>\n",
              "      <td>0.064290</td>\n",
              "      <td>0.977778</td>\n",
              "      <td>0.115904</td>\n",
              "      <td>0.971429</td>\n",
              "      <td>3</td>\n",
              "      <td>0.16</td>\n",
              "      <td>200</td>\n",
              "      <td>32</td>\n",
              "      <td>softmax</td>\n",
              "      <td>categorical_crossentropy</td>\n",
              "      <td>2.08</td>\n",
              "      <td>&lt;class 'keras.optimizers.SGD'&gt;</td>\n",
              "      <td>NaN</td>\n",
              "      <td>21</td>\n",
              "    </tr>\n",
              "    <tr>\n",
              "      <th>22</th>\n",
              "      <td>200</td>\n",
              "      <td>0.932142</td>\n",
              "      <td>0.711111</td>\n",
              "      <td>0.322983</td>\n",
              "      <td>0.866667</td>\n",
              "      <td>4</td>\n",
              "      <td>0.36</td>\n",
              "      <td>200</td>\n",
              "      <td>16</td>\n",
              "      <td>softmax</td>\n",
              "      <td>categorical_crossentropy</td>\n",
              "      <td>4.06</td>\n",
              "      <td>&lt;class 'keras.optimizers.SGD'&gt;</td>\n",
              "      <td>NaN</td>\n",
              "      <td>22</td>\n",
              "    </tr>\n",
              "    <tr>\n",
              "      <th>23</th>\n",
              "      <td>200</td>\n",
              "      <td>0.037650</td>\n",
              "      <td>0.977778</td>\n",
              "      <td>0.080820</td>\n",
              "      <td>0.952381</td>\n",
              "      <td>3</td>\n",
              "      <td>0.04</td>\n",
              "      <td>200</td>\n",
              "      <td>128</td>\n",
              "      <td>softmax</td>\n",
              "      <td>categorical_crossentropy</td>\n",
              "      <td>5.05</td>\n",
              "      <td>&lt;class 'keras.optimizers.Adam'&gt;</td>\n",
              "      <td>NaN</td>\n",
              "      <td>23</td>\n",
              "    </tr>\n",
              "    <tr>\n",
              "      <th>24</th>\n",
              "      <td>200</td>\n",
              "      <td>0.136130</td>\n",
              "      <td>0.977778</td>\n",
              "      <td>0.283094</td>\n",
              "      <td>0.876190</td>\n",
              "      <td>4</td>\n",
              "      <td>0.36</td>\n",
              "      <td>200</td>\n",
              "      <td>8</td>\n",
              "      <td>softmax</td>\n",
              "      <td>categorical_crossentropy</td>\n",
              "      <td>1.09</td>\n",
              "      <td>&lt;class 'keras.optimizers.Adam'&gt;</td>\n",
              "      <td>NaN</td>\n",
              "      <td>24</td>\n",
              "    </tr>\n",
              "    <tr>\n",
              "      <th>25</th>\n",
              "      <td>200</td>\n",
              "      <td>0.045499</td>\n",
              "      <td>0.977778</td>\n",
              "      <td>0.077929</td>\n",
              "      <td>0.980952</td>\n",
              "      <td>3</td>\n",
              "      <td>0.08</td>\n",
              "      <td>200</td>\n",
              "      <td>128</td>\n",
              "      <td>softmax</td>\n",
              "      <td>categorical_crossentropy</td>\n",
              "      <td>4.06</td>\n",
              "      <td>&lt;class 'keras.optimizers.Adam'&gt;</td>\n",
              "      <td>NaN</td>\n",
              "      <td>25</td>\n",
              "    </tr>\n",
              "    <tr>\n",
              "      <th>26</th>\n",
              "      <td>200</td>\n",
              "      <td>0.043262</td>\n",
              "      <td>0.977778</td>\n",
              "      <td>0.105846</td>\n",
              "      <td>0.952381</td>\n",
              "      <td>4</td>\n",
              "      <td>0.00</td>\n",
              "      <td>200</td>\n",
              "      <td>4</td>\n",
              "      <td>softmax</td>\n",
              "      <td>categorical_crossentropy</td>\n",
              "      <td>2.08</td>\n",
              "      <td>&lt;class 'keras.optimizers.SGD'&gt;</td>\n",
              "      <td>NaN</td>\n",
              "      <td>26</td>\n",
              "    </tr>\n",
              "    <tr>\n",
              "      <th>27</th>\n",
              "      <td>200</td>\n",
              "      <td>0.051335</td>\n",
              "      <td>0.977778</td>\n",
              "      <td>0.092403</td>\n",
              "      <td>0.971429</td>\n",
              "      <td>3</td>\n",
              "      <td>0.08</td>\n",
              "      <td>200</td>\n",
              "      <td>128</td>\n",
              "      <td>softmax</td>\n",
              "      <td>categorical_crossentropy</td>\n",
              "      <td>3.07</td>\n",
              "      <td>&lt;class 'keras.optimizers.SGD'&gt;</td>\n",
              "      <td>NaN</td>\n",
              "      <td>27</td>\n",
              "    </tr>\n",
              "    <tr>\n",
              "      <th>28</th>\n",
              "      <td>200</td>\n",
              "      <td>0.221633</td>\n",
              "      <td>0.977778</td>\n",
              "      <td>0.271302</td>\n",
              "      <td>0.971429</td>\n",
              "      <td>4</td>\n",
              "      <td>0.00</td>\n",
              "      <td>200</td>\n",
              "      <td>32</td>\n",
              "      <td>softmax</td>\n",
              "      <td>categorical_crossentropy</td>\n",
              "      <td>0.10</td>\n",
              "      <td>&lt;class 'keras.optimizers.SGD'&gt;</td>\n",
              "      <td>NaN</td>\n",
              "      <td>28</td>\n",
              "    </tr>\n",
              "    <tr>\n",
              "      <th>29</th>\n",
              "      <td>200</td>\n",
              "      <td>0.043196</td>\n",
              "      <td>0.977778</td>\n",
              "      <td>0.072795</td>\n",
              "      <td>0.980952</td>\n",
              "      <td>4</td>\n",
              "      <td>0.00</td>\n",
              "      <td>200</td>\n",
              "      <td>16</td>\n",
              "      <td>softmax</td>\n",
              "      <td>categorical_crossentropy</td>\n",
              "      <td>8.02</td>\n",
              "      <td>&lt;class 'keras.optimizers.Adam'&gt;</td>\n",
              "      <td>NaN</td>\n",
              "      <td>29</td>\n",
              "    </tr>\n",
              "    <tr>\n",
              "      <th>30</th>\n",
              "      <td>200</td>\n",
              "      <td>0.108492</td>\n",
              "      <td>0.977778</td>\n",
              "      <td>0.079001</td>\n",
              "      <td>0.980952</td>\n",
              "      <td>2</td>\n",
              "      <td>0.24</td>\n",
              "      <td>200</td>\n",
              "      <td>32</td>\n",
              "      <td>softmax</td>\n",
              "      <td>categorical_crossentropy</td>\n",
              "      <td>3.07</td>\n",
              "      <td>&lt;class 'keras.optimizers.Adam'&gt;</td>\n",
              "      <td>NaN</td>\n",
              "      <td>30</td>\n",
              "    </tr>\n",
              "    <tr>\n",
              "      <th>31</th>\n",
              "      <td>200</td>\n",
              "      <td>0.482735</td>\n",
              "      <td>0.711111</td>\n",
              "      <td>0.842643</td>\n",
              "      <td>0.523810</td>\n",
              "      <td>4</td>\n",
              "      <td>0.32</td>\n",
              "      <td>200</td>\n",
              "      <td>8</td>\n",
              "      <td>softmax</td>\n",
              "      <td>categorical_crossentropy</td>\n",
              "      <td>7.03</td>\n",
              "      <td>&lt;class 'keras.optimizers.SGD'&gt;</td>\n",
              "      <td>NaN</td>\n",
              "      <td>31</td>\n",
              "    </tr>\n",
              "    <tr>\n",
              "      <th>32</th>\n",
              "      <td>200</td>\n",
              "      <td>0.863669</td>\n",
              "      <td>0.400000</td>\n",
              "      <td>0.837116</td>\n",
              "      <td>0.476190</td>\n",
              "      <td>3</td>\n",
              "      <td>0.20</td>\n",
              "      <td>200</td>\n",
              "      <td>4</td>\n",
              "      <td>softmax</td>\n",
              "      <td>categorical_crossentropy</td>\n",
              "      <td>0.10</td>\n",
              "      <td>&lt;class 'keras.optimizers.Adam'&gt;</td>\n",
              "      <td>NaN</td>\n",
              "      <td>32</td>\n",
              "    </tr>\n",
              "    <tr>\n",
              "      <th>33</th>\n",
              "      <td>200</td>\n",
              "      <td>0.718410</td>\n",
              "      <td>0.800000</td>\n",
              "      <td>0.769601</td>\n",
              "      <td>0.666667</td>\n",
              "      <td>4</td>\n",
              "      <td>0.16</td>\n",
              "      <td>200</td>\n",
              "      <td>16</td>\n",
              "      <td>softmax</td>\n",
              "      <td>categorical_crossentropy</td>\n",
              "      <td>0.10</td>\n",
              "      <td>&lt;class 'keras.optimizers.Adam'&gt;</td>\n",
              "      <td>NaN</td>\n",
              "      <td>33</td>\n",
              "    </tr>\n",
              "    <tr>\n",
              "      <th>34</th>\n",
              "      <td>200</td>\n",
              "      <td>0.052306</td>\n",
              "      <td>0.977778</td>\n",
              "      <td>0.083890</td>\n",
              "      <td>0.952381</td>\n",
              "      <td>2</td>\n",
              "      <td>0.28</td>\n",
              "      <td>200</td>\n",
              "      <td>64</td>\n",
              "      <td>softmax</td>\n",
              "      <td>categorical_crossentropy</td>\n",
              "      <td>6.04</td>\n",
              "      <td>&lt;class 'keras.optimizers.Adam'&gt;</td>\n",
              "      <td>NaN</td>\n",
              "      <td>34</td>\n",
              "    </tr>\n",
              "    <tr>\n",
              "      <th>35</th>\n",
              "      <td>200</td>\n",
              "      <td>0.033634</td>\n",
              "      <td>1.000000</td>\n",
              "      <td>0.059942</td>\n",
              "      <td>0.980952</td>\n",
              "      <td>2</td>\n",
              "      <td>0.00</td>\n",
              "      <td>200</td>\n",
              "      <td>4</td>\n",
              "      <td>softmax</td>\n",
              "      <td>categorical_crossentropy</td>\n",
              "      <td>4.06</td>\n",
              "      <td>&lt;class 'keras.optimizers.Adam'&gt;</td>\n",
              "      <td>NaN</td>\n",
              "      <td>35</td>\n",
              "    </tr>\n",
              "  </tbody>\n",
              "</table>\n",
              "</div>"
            ],
            "text/plain": [
              "    round_epochs  val_loss  ...  weight_regulizer  Unnamed: 15\n",
              "0            200  0.039371  ...               NaN            0\n",
              "1            200  0.080041  ...               NaN            1\n",
              "2            200  0.093586  ...               NaN            2\n",
              "3            200  0.039226  ...               NaN            3\n",
              "4            200  0.041673  ...               NaN            4\n",
              "5            200  0.047551  ...               NaN            5\n",
              "6            200  0.039422  ...               NaN            6\n",
              "7            200  0.100895  ...               NaN            7\n",
              "8            200  0.048926  ...               NaN            8\n",
              "9            200  0.038288  ...               NaN            9\n",
              "10           200  0.041596  ...               NaN           10\n",
              "11           200  0.230558  ...               NaN           11\n",
              "12           200  0.237754  ...               NaN           12\n",
              "13           200  0.118676  ...               NaN           13\n",
              "14           200  0.319553  ...               NaN           14\n",
              "15           200  0.045138  ...               NaN           15\n",
              "16           200  0.052140  ...               NaN           16\n",
              "17           200  0.041271  ...               NaN           17\n",
              "18           200  0.053129  ...               NaN           18\n",
              "19           200  0.038933  ...               NaN           19\n",
              "20           200  0.060582  ...               NaN           20\n",
              "21           200  0.064290  ...               NaN           21\n",
              "22           200  0.932142  ...               NaN           22\n",
              "23           200  0.037650  ...               NaN           23\n",
              "24           200  0.136130  ...               NaN           24\n",
              "25           200  0.045499  ...               NaN           25\n",
              "26           200  0.043262  ...               NaN           26\n",
              "27           200  0.051335  ...               NaN           27\n",
              "28           200  0.221633  ...               NaN           28\n",
              "29           200  0.043196  ...               NaN           29\n",
              "30           200  0.108492  ...               NaN           30\n",
              "31           200  0.482735  ...               NaN           31\n",
              "32           200  0.863669  ...               NaN           32\n",
              "33           200  0.718410  ...               NaN           33\n",
              "34           200  0.052306  ...               NaN           34\n",
              "35           200  0.033634  ...               NaN           35\n",
              "\n",
              "[36 rows x 15 columns]"
            ]
          },
          "metadata": {
            "tags": []
          },
          "execution_count": 56
        }
      ]
    },
    {
      "cell_type": "code",
      "metadata": {
        "id": "XyPUnjzFuUsP",
        "colab_type": "code",
        "colab": {}
      },
      "source": [
        ""
      ],
      "execution_count": 0,
      "outputs": []
    },
    {
      "cell_type": "markdown",
      "metadata": {
        "id": "BwLm5iLkqpb4",
        "colab_type": "text"
      },
      "source": [
        "# Exercise"
      ]
    },
    {
      "cell_type": "markdown",
      "metadata": {
        "id": "0zEEOePvqsv4",
        "colab_type": "text"
      },
      "source": [
        "Use talos hyperparameter optimization to search for the best model parameters to use for California housing dataset. \n"
      ]
    },
    {
      "cell_type": "code",
      "metadata": {
        "id": "jMSwgewpWfIe",
        "colab_type": "code",
        "outputId": "50ca00c2-6f10-4518-977a-290a8daa1033",
        "colab": {
          "base_uri": "https://localhost:8080/",
          "height": 1000
        }
      },
      "source": [
        "!pip install talos"
      ],
      "execution_count": 0,
      "outputs": [
        {
          "output_type": "stream",
          "text": [
            "Collecting talos\n",
            "\u001b[?25l  Downloading https://files.pythonhosted.org/packages/73/64/65bee9b585f6a196ff3119a60a7170fe0b2a18225a2e1e67115510b46a65/talos-0.6.6-py3-none-any.whl (53kB)\n",
            "\r\u001b[K     |██████▏                         | 10kB 30.2MB/s eta 0:00:01\r\u001b[K     |████████████▎                   | 20kB 4.8MB/s eta 0:00:01\r\u001b[K     |██████████████████▍             | 30kB 6.7MB/s eta 0:00:01\r\u001b[K     |████████████████████████▌       | 40kB 5.3MB/s eta 0:00:01\r\u001b[K     |██████████████████████████████▋ | 51kB 6.4MB/s eta 0:00:01\r\u001b[K     |████████████████████████████████| 61kB 4.3MB/s \n",
            "\u001b[?25hCollecting chances\n",
            "  Downloading https://files.pythonhosted.org/packages/fa/d8/d61112d7476dc3074b855f1edd8556cde9b49b7106853f0b060109dd4c82/chances-0.1.9.tar.gz\n",
            "Requirement already satisfied: numpy in /usr/local/lib/python3.6/dist-packages (from talos) (1.17.5)\n",
            "Requirement already satisfied: tqdm in /usr/local/lib/python3.6/dist-packages (from talos) (4.28.1)\n",
            "Requirement already satisfied: sklearn in /usr/local/lib/python3.6/dist-packages (from talos) (0.0)\n",
            "Collecting statsmodels>=0.11.0\n",
            "\u001b[?25l  Downloading https://files.pythonhosted.org/packages/cb/83/540fd83238a18abe6c2d280fa8e489ac5fcefa1f370f0ca1acd16ae1b860/statsmodels-0.11.1-cp36-cp36m-manylinux1_x86_64.whl (8.7MB)\n",
            "\u001b[K     |████████████████████████████████| 8.7MB 24.0MB/s \n",
            "\u001b[?25hRequirement already satisfied: pandas in /usr/local/lib/python3.6/dist-packages (from talos) (0.25.3)\n",
            "Collecting keras==2.3.0\n",
            "\u001b[?25l  Downloading https://files.pythonhosted.org/packages/1b/18/2e1ef121e5560ac24c7ac9e363aa5fa7006c40563c989e7211aba95b793a/Keras-2.3.0-py2.py3-none-any.whl (377kB)\n",
            "\u001b[K     |████████████████████████████████| 378kB 67.7MB/s \n",
            "\u001b[?25hRequirement already satisfied: requests in /usr/local/lib/python3.6/dist-packages (from talos) (2.21.0)\n",
            "Collecting wrangle\n",
            "  Downloading https://files.pythonhosted.org/packages/85/35/bc729e377417613f2d062a890faea5d649ef1a554df21499e9c3a4a5501a/wrangle-0.6.7.tar.gz\n",
            "Collecting tensorflow==1.14.0\n",
            "\u001b[?25l  Downloading https://files.pythonhosted.org/packages/de/f0/96fb2e0412ae9692dbf400e5b04432885f677ad6241c088ccc5fe7724d69/tensorflow-1.14.0-cp36-cp36m-manylinux1_x86_64.whl (109.2MB)\n",
            "\u001b[K     |████████████████████████████████| 109.2MB 46.6MB/s \n",
            "\u001b[?25hCollecting kerasplotlib\n",
            "  Downloading https://files.pythonhosted.org/packages/7b/b7/31663d3b5ea9afd8c2c6ffa06d3c4e118ef363e12dc75b7c49fb6a2d22aa/kerasplotlib-0.1.6.tar.gz\n",
            "Collecting astetik\n",
            "  Downloading https://files.pythonhosted.org/packages/3c/ba/f8622951da73d9b47b45bb847112c388651f9c6e413e712954f260301d9f/astetik-1.9.9.tar.gz\n",
            "Requirement already satisfied: scipy in /usr/local/lib/python3.6/dist-packages (from chances->talos) (1.4.1)\n",
            "Requirement already satisfied: scikit-learn in /usr/local/lib/python3.6/dist-packages (from sklearn->talos) (0.22.1)\n",
            "Requirement already satisfied: patsy>=0.5 in /usr/local/lib/python3.6/dist-packages (from statsmodels>=0.11.0->talos) (0.5.1)\n",
            "Requirement already satisfied: python-dateutil>=2.6.1 in /usr/local/lib/python3.6/dist-packages (from pandas->talos) (2.6.1)\n",
            "Requirement already satisfied: pytz>=2017.2 in /usr/local/lib/python3.6/dist-packages (from pandas->talos) (2018.9)\n",
            "Requirement already satisfied: h5py in /usr/local/lib/python3.6/dist-packages (from keras==2.3.0->talos) (2.8.0)\n",
            "Requirement already satisfied: keras-applications>=1.0.6 in /usr/local/lib/python3.6/dist-packages (from keras==2.3.0->talos) (1.0.8)\n",
            "Requirement already satisfied: pyyaml in /usr/local/lib/python3.6/dist-packages (from keras==2.3.0->talos) (3.13)\n",
            "Requirement already satisfied: six>=1.9.0 in /usr/local/lib/python3.6/dist-packages (from keras==2.3.0->talos) (1.12.0)\n",
            "Requirement already satisfied: keras-preprocessing>=1.0.5 in /usr/local/lib/python3.6/dist-packages (from keras==2.3.0->talos) (1.1.0)\n",
            "Requirement already satisfied: chardet<3.1.0,>=3.0.2 in /usr/local/lib/python3.6/dist-packages (from requests->talos) (3.0.4)\n",
            "Requirement already satisfied: urllib3<1.25,>=1.21.1 in /usr/local/lib/python3.6/dist-packages (from requests->talos) (1.24.3)\n",
            "Requirement already satisfied: certifi>=2017.4.17 in /usr/local/lib/python3.6/dist-packages (from requests->talos) (2019.11.28)\n",
            "Requirement already satisfied: idna<2.9,>=2.5 in /usr/local/lib/python3.6/dist-packages (from requests->talos) (2.8)\n",
            "Requirement already satisfied: termcolor>=1.1.0 in /usr/local/lib/python3.6/dist-packages (from tensorflow==1.14.0->talos) (1.1.0)\n",
            "Collecting tensorboard<1.15.0,>=1.14.0\n",
            "\u001b[?25l  Downloading https://files.pythonhosted.org/packages/91/2d/2ed263449a078cd9c8a9ba50ebd50123adf1f8cfbea1492f9084169b89d9/tensorboard-1.14.0-py3-none-any.whl (3.1MB)\n",
            "\u001b[K     |████████████████████████████████| 3.2MB 51.2MB/s \n",
            "\u001b[?25hCollecting tensorflow-estimator<1.15.0rc0,>=1.14.0rc0\n",
            "\u001b[?25l  Downloading https://files.pythonhosted.org/packages/3c/d5/21860a5b11caf0678fbc8319341b0ae21a07156911132e0e71bffed0510d/tensorflow_estimator-1.14.0-py2.py3-none-any.whl (488kB)\n",
            "\u001b[K     |████████████████████████████████| 491kB 51.8MB/s \n",
            "\u001b[?25hRequirement already satisfied: protobuf>=3.6.1 in /usr/local/lib/python3.6/dist-packages (from tensorflow==1.14.0->talos) (3.10.0)\n",
            "Requirement already satisfied: wheel>=0.26 in /usr/local/lib/python3.6/dist-packages (from tensorflow==1.14.0->talos) (0.34.2)\n",
            "Requirement already satisfied: gast>=0.2.0 in /usr/local/lib/python3.6/dist-packages (from tensorflow==1.14.0->talos) (0.2.2)\n",
            "Requirement already satisfied: absl-py>=0.7.0 in /usr/local/lib/python3.6/dist-packages (from tensorflow==1.14.0->talos) (0.9.0)\n",
            "Requirement already satisfied: wrapt>=1.11.1 in /usr/local/lib/python3.6/dist-packages (from tensorflow==1.14.0->talos) (1.11.2)\n",
            "Requirement already satisfied: google-pasta>=0.1.6 in /usr/local/lib/python3.6/dist-packages (from tensorflow==1.14.0->talos) (0.1.8)\n",
            "Requirement already satisfied: astor>=0.6.0 in /usr/local/lib/python3.6/dist-packages (from tensorflow==1.14.0->talos) (0.8.1)\n",
            "Requirement already satisfied: grpcio>=1.8.6 in /usr/local/lib/python3.6/dist-packages (from tensorflow==1.14.0->talos) (1.27.1)\n",
            "Requirement already satisfied: ipython in /usr/local/lib/python3.6/dist-packages (from kerasplotlib->talos) (5.5.0)\n",
            "Collecting geonamescache\n",
            "\u001b[?25l  Downloading https://files.pythonhosted.org/packages/32/c1/efb823270c8526b2f4f3eb8c804c5a0a55277267ad2312f5eb47bd9cc370/geonamescache-1.1.0-py3-none-any.whl (830kB)\n",
            "\u001b[K     |████████████████████████████████| 839kB 56.8MB/s \n",
            "\u001b[?25hRequirement already satisfied: joblib>=0.11 in /usr/local/lib/python3.6/dist-packages (from scikit-learn->sklearn->talos) (0.14.1)\n",
            "Requirement already satisfied: markdown>=2.6.8 in /usr/local/lib/python3.6/dist-packages (from tensorboard<1.15.0,>=1.14.0->tensorflow==1.14.0->talos) (3.2.1)\n",
            "Requirement already satisfied: werkzeug>=0.11.15 in /usr/local/lib/python3.6/dist-packages (from tensorboard<1.15.0,>=1.14.0->tensorflow==1.14.0->talos) (1.0.0)\n",
            "Requirement already satisfied: setuptools>=41.0.0 in /usr/local/lib/python3.6/dist-packages (from tensorboard<1.15.0,>=1.14.0->tensorflow==1.14.0->talos) (45.2.0)\n",
            "Requirement already satisfied: simplegeneric>0.8 in /usr/local/lib/python3.6/dist-packages (from ipython->kerasplotlib->talos) (0.8.1)\n",
            "Requirement already satisfied: pygments in /usr/local/lib/python3.6/dist-packages (from ipython->kerasplotlib->talos) (2.1.3)\n",
            "Requirement already satisfied: traitlets>=4.2 in /usr/local/lib/python3.6/dist-packages (from ipython->kerasplotlib->talos) (4.3.3)\n",
            "Requirement already satisfied: decorator in /usr/local/lib/python3.6/dist-packages (from ipython->kerasplotlib->talos) (4.4.1)\n",
            "Requirement already satisfied: pickleshare in /usr/local/lib/python3.6/dist-packages (from ipython->kerasplotlib->talos) (0.7.5)\n",
            "Requirement already satisfied: prompt-toolkit<2.0.0,>=1.0.4 in /usr/local/lib/python3.6/dist-packages (from ipython->kerasplotlib->talos) (1.0.18)\n",
            "Requirement already satisfied: pexpect; sys_platform != \"win32\" in /usr/local/lib/python3.6/dist-packages (from ipython->kerasplotlib->talos) (4.8.0)\n",
            "Requirement already satisfied: ipython-genutils in /usr/local/lib/python3.6/dist-packages (from traitlets>=4.2->ipython->kerasplotlib->talos) (0.2.0)\n",
            "Requirement already satisfied: wcwidth in /usr/local/lib/python3.6/dist-packages (from prompt-toolkit<2.0.0,>=1.0.4->ipython->kerasplotlib->talos) (0.1.8)\n",
            "Requirement already satisfied: ptyprocess>=0.5 in /usr/local/lib/python3.6/dist-packages (from pexpect; sys_platform != \"win32\"->ipython->kerasplotlib->talos) (0.6.0)\n",
            "Building wheels for collected packages: chances, wrangle, kerasplotlib, astetik\n",
            "  Building wheel for chances (setup.py) ... \u001b[?25l\u001b[?25hdone\n",
            "  Created wheel for chances: filename=chances-0.1.9-cp36-none-any.whl size=41609 sha256=14ddc94123700baab43fb410be193835598cebbd30edee0f3d2cd1e1cf67fff4\n",
            "  Stored in directory: /root/.cache/pip/wheels/75/33/46/c871b94249bd57d17797d049b3dff8e3a09c315afb67eb14c6\n",
            "  Building wheel for wrangle (setup.py) ... \u001b[?25l\u001b[?25hdone\n",
            "  Created wheel for wrangle: filename=wrangle-0.6.7-cp36-none-any.whl size=49894 sha256=ec6d373216db681af63ddd06302f54434dc71fd270fc50f5a9367fc428e84ef5\n",
            "  Stored in directory: /root/.cache/pip/wheels/bf/1b/50/d0403ce6ef269e364894da7b50db68db14c4ac62c577561e2d\n",
            "  Building wheel for kerasplotlib (setup.py) ... \u001b[?25l\u001b[?25hdone\n",
            "  Created wheel for kerasplotlib: filename=kerasplotlib-0.1.6-cp36-none-any.whl size=3601 sha256=995641b2df24e7ca86356afce0dee40c2b9e6690b96a8b1611d06fb76112e742\n",
            "  Stored in directory: /root/.cache/pip/wheels/9d/d3/8c/9503a22b0a38e8b21c70ad834e4606d209193443e5c709305d\n",
            "  Building wheel for astetik (setup.py) ... \u001b[?25l\u001b[?25hdone\n",
            "  Created wheel for astetik: filename=astetik-1.9.9-cp36-none-any.whl size=56960 sha256=4645234a34204a7668750a75297573ec5e86f2fdc1f895bfe361ce8ab4071fc7\n",
            "  Stored in directory: /root/.cache/pip/wheels/ae/70/21/c475cd079ec401dd6e1b9b1d42b4c38554ce12679bfb214aad\n",
            "Successfully built chances wrangle kerasplotlib astetik\n",
            "\u001b[31mERROR: wrangle 0.6.7 has requirement scipy==1.2, but you'll have scipy 1.4.1 which is incompatible.\u001b[0m\n",
            "Installing collected packages: chances, statsmodels, keras, wrangle, tensorboard, tensorflow-estimator, tensorflow, kerasplotlib, geonamescache, astetik, talos\n",
            "  Found existing installation: statsmodels 0.10.2\n",
            "    Uninstalling statsmodels-0.10.2:\n",
            "      Successfully uninstalled statsmodels-0.10.2\n",
            "  Found existing installation: Keras 2.2.5\n",
            "    Uninstalling Keras-2.2.5:\n",
            "      Successfully uninstalled Keras-2.2.5\n",
            "  Found existing installation: tensorboard 1.15.0\n",
            "    Uninstalling tensorboard-1.15.0:\n",
            "      Successfully uninstalled tensorboard-1.15.0\n",
            "  Found existing installation: tensorflow-estimator 1.15.1\n",
            "    Uninstalling tensorflow-estimator-1.15.1:\n",
            "      Successfully uninstalled tensorflow-estimator-1.15.1\n",
            "  Found existing installation: tensorflow 1.15.0\n",
            "    Uninstalling tensorflow-1.15.0:\n",
            "      Successfully uninstalled tensorflow-1.15.0\n",
            "Successfully installed astetik-1.9.9 chances-0.1.9 geonamescache-1.1.0 keras-2.3.0 kerasplotlib-0.1.6 statsmodels-0.11.1 talos-0.6.6 tensorboard-1.14.0 tensorflow-1.14.0 tensorflow-estimator-1.14.0 wrangle-0.6.7\n"
          ],
          "name": "stdout"
        },
        {
          "output_type": "display_data",
          "data": {
            "application/vnd.colab-display-data+json": {
              "pip_warning": {
                "packages": [
                  "tensorboard",
                  "tensorflow",
                  "tensorflow_estimator"
                ]
              }
            }
          },
          "metadata": {
            "tags": []
          }
        }
      ]
    },
    {
      "cell_type": "code",
      "metadata": {
        "id": "Jw9t-3a_qr_Y",
        "colab_type": "code",
        "colab": {}
      },
      "source": [
        "import numpy as np\n",
        "import pandas as pd\n",
        "import tensorflow as tf\n",
        "from tensorflow import keras\n",
        "from tensorflow.keras import layers\n",
        "\n",
        "import matplotlib.pyplot as plt\n",
        "import talos\n",
        "from talos.utils import lr_normalizer"
      ],
      "execution_count": 0,
      "outputs": []
    },
    {
      "cell_type": "code",
      "metadata": {
        "id": "j6nFjPfewZGN",
        "colab_type": "code",
        "colab": {}
      },
      "source": [
        "import sklearn\n",
        "from sklearn.datasets import fetch_california_housing\n",
        "from sklearn.model_selection import train_test_split "
      ],
      "execution_count": 0,
      "outputs": []
    },
    {
      "cell_type": "code",
      "metadata": {
        "id": "Q7x-ZHdlwb1y",
        "colab_type": "code",
        "outputId": "d34c017a-f1c7-421e-e45e-4481c544faab",
        "colab": {
          "base_uri": "https://localhost:8080/",
          "height": 34
        }
      },
      "source": [
        "dataset = fetch_california_housing() "
      ],
      "execution_count": 7,
      "outputs": [
        {
          "output_type": "stream",
          "text": [
            "Downloading Cal. housing from https://ndownloader.figshare.com/files/5976036 to /root/scikit_learn_data\n"
          ],
          "name": "stderr"
        }
      ]
    },
    {
      "cell_type": "code",
      "metadata": {
        "id": "f0SGIKadXtyr",
        "colab_type": "code",
        "outputId": "e2eda88a-e806-47fb-ffc0-cffb5515afe2",
        "colab": {
          "base_uri": "https://localhost:8080/",
          "height": 34
        }
      },
      "source": [
        "x=dataset.data\n",
        "x.shape"
      ],
      "execution_count": 8,
      "outputs": [
        {
          "output_type": "execute_result",
          "data": {
            "text/plain": [
              "(20640, 8)"
            ]
          },
          "metadata": {
            "tags": []
          },
          "execution_count": 8
        }
      ]
    },
    {
      "cell_type": "code",
      "metadata": {
        "id": "DuweT32qXykM",
        "colab_type": "code",
        "colab": {}
      },
      "source": [
        "y=dataset.target"
      ],
      "execution_count": 0,
      "outputs": []
    },
    {
      "cell_type": "code",
      "metadata": {
        "id": "d_gOVwadX40-",
        "colab_type": "code",
        "outputId": "1dd16d2a-d79f-48fb-c18b-98139652fbf8",
        "colab": {
          "base_uri": "https://localhost:8080/",
          "height": 34
        }
      },
      "source": [
        "y.shape"
      ],
      "execution_count": 10,
      "outputs": [
        {
          "output_type": "execute_result",
          "data": {
            "text/plain": [
              "(20640,)"
            ]
          },
          "metadata": {
            "tags": []
          },
          "execution_count": 10
        }
      ]
    },
    {
      "cell_type": "code",
      "metadata": {
        "id": "FsRNecOJweCh",
        "colab_type": "code",
        "outputId": "24e3c5e2-debb-4de1-b94e-72c398be4209",
        "colab": {
          "base_uri": "https://localhost:8080/",
          "height": 85
        }
      },
      "source": [
        "xtrain, xval, ytrain, yval = train_test_split(dataset.data, dataset.target, test_size = 0.2, random_state = 1)\n",
        "print(xtrain.shape)\n",
        "print(xval.shape)\n",
        "print(ytrain.shape)\n",
        "print(yval.shape)"
      ],
      "execution_count": 11,
      "outputs": [
        {
          "output_type": "stream",
          "text": [
            "(16512, 8)\n",
            "(4128, 8)\n",
            "(16512,)\n",
            "(4128,)\n"
          ],
          "name": "stdout"
        }
      ]
    },
    {
      "cell_type": "code",
      "metadata": {
        "id": "0OiLZd0feurY",
        "colab_type": "code",
        "outputId": "56642c4e-4111-4e30-c568-a9e77b2ce25f",
        "colab": {
          "base_uri": "https://localhost:8080/",
          "height": 34
        }
      },
      "source": [
        "ytrain = ytrain.reshape(-1,1)\n",
        "ytrain.shape"
      ],
      "execution_count": 12,
      "outputs": [
        {
          "output_type": "execute_result",
          "data": {
            "text/plain": [
              "(16512, 1)"
            ]
          },
          "metadata": {
            "tags": []
          },
          "execution_count": 12
        }
      ]
    },
    {
      "cell_type": "code",
      "metadata": {
        "id": "DU4Q6Z41RwXl",
        "colab_type": "code",
        "outputId": "1978c62f-d788-459d-cf08-d95c9124cda9",
        "colab": {
          "base_uri": "https://localhost:8080/",
          "height": 51
        }
      },
      "source": [
        "xtrain[0]"
      ],
      "execution_count": 13,
      "outputs": [
        {
          "output_type": "execute_result",
          "data": {
            "text/plain": [
              "array([   3.1908    ,   52.        ,    5.        ,    1.0141844 ,\n",
              "        879.        ,    3.11702128,   37.71      , -122.43      ])"
            ]
          },
          "metadata": {
            "tags": []
          },
          "execution_count": 13
        }
      ]
    },
    {
      "cell_type": "markdown",
      "metadata": {
        "id": "Koq0fs1-wleY",
        "colab_type": "text"
      },
      "source": [
        "'### To be Done ###'\n",
        "\n",
        "Define your model here and search for the best hyperparameters to use using talos. \n",
        "\n",
        "Report the parameters of the best model and its validation accuracy"
      ]
    },
    {
      "cell_type": "code",
      "metadata": {
        "id": "2rehCMl2x9nL",
        "colab_type": "code",
        "colab": {}
      },
      "source": [
        "from keras.models import Sequential\n",
        "from keras.layers import Dropout, Dense\n",
        "def california_model(x_train, y_train, x_val, y_val, params):\n",
        "  model = Sequential() \n",
        "  model.add(Dense(params['first_neuron'],\n",
        "                    input_dim=x_train.shape[1],\n",
        "                    activation='relu'))\n",
        "    \n",
        "  model.add(Dropout(params['dropout']))\n",
        "  model.add(Dense(ytrain.shape[1],activation='linear'))\n",
        "  opt=SGD(lr=0.01,momentum=0.9)\n",
        "          \n",
        "   \n",
        "  model.compile(optimizer=params['optimizer'](lr=lr_normalizer(params['lr'], params['optimizer'])),\n",
        "                  loss=params['loss'],\n",
        "                  metrics=['acc'])\n",
        "  out = model.fit(x_train, y_train,\n",
        "                    batch_size=params['batch_size'],\n",
        "                    epochs=params['epochs'],\n",
        "                    verbose=0,\n",
        "                    validation_data=[x_val, y_val])\n",
        "    \n",
        "  return out, model\n"
      ],
      "execution_count": 0,
      "outputs": []
    },
    {
      "cell_type": "code",
      "metadata": {
        "id": "KPLURN2fTaHP",
        "colab_type": "code",
        "colab": {}
      },
      "source": [
        "from keras.optimizers import Adam, SGD\n",
        "from keras.activations import softmax\n",
        "from keras.losses import categorical_crossentropy, logcosh\n",
        "from keras.losses import  mean_squared_error\n",
        "\n",
        "p = {'lr': (0.1, 1, 5),\n",
        "     'first_neuron':[4, 8,128, 300],\n",
        "     'batch_size': [64, 128, 512],\n",
        "     'epochs': [200],\n",
        "     'dropout': (0, 0.40, 10),\n",
        "     'optimizer': [Adam, SGD],\n",
        "     'loss': ['mean_squared_error'],\n",
        "     \n",
        "     'weight_regulizer': [None]}"
      ],
      "execution_count": 0,
      "outputs": []
    },
    {
      "cell_type": "code",
      "metadata": {
        "id": "ad9IXEb7V6m0",
        "colab_type": "code",
        "colab": {}
      },
      "source": [
        ""
      ],
      "execution_count": 0,
      "outputs": []
    },
    {
      "cell_type": "code",
      "metadata": {
        "id": "OndnTthjx9kS",
        "colab_type": "code",
        "outputId": "13a3cca9-4ab7-4e3b-affb-47c180111d15",
        "colab": {
          "base_uri": "https://localhost:8080/",
          "height": 570
        }
      },
      "source": [
        "scan_object = talos.Scan(x,\n",
        "                         y, \n",
        "                         params=p,\n",
        "                         model=california_model,\n",
        "                         experiment_name='california',\n",
        "                         fraction_limit=.01)"
      ],
      "execution_count": 0,
      "outputs": [
        {
          "output_type": "stream",
          "text": [
            "\n",
            "\n",
            "  0%|          | 0/12 [00:00<?, ?it/s]\u001b[A\u001b[A"
          ],
          "name": "stderr"
        },
        {
          "output_type": "stream",
          "text": [
            "WARNING:tensorflow:From /usr/local/lib/python3.6/dist-packages/keras/backend/tensorflow_backend.py:422: The name tf.global_variables is deprecated. Please use tf.compat.v1.global_variables instead.\n",
            "\n"
          ],
          "name": "stdout"
        },
        {
          "output_type": "stream",
          "text": [
            "\n",
            "\n",
            "  8%|▊         | 1/12 [00:20<03:49, 20.87s/it]\u001b[A\u001b[A\n",
            "\n",
            " 17%|█▋        | 2/12 [01:20<05:25, 32.57s/it]\u001b[A\u001b[A\n",
            "\n",
            " 25%|██▌       | 3/12 [02:32<06:37, 44.18s/it]\u001b[A\u001b[A\n",
            "\n",
            " 33%|███▎      | 4/12 [04:48<09:35, 71.94s/it]\u001b[A\u001b[A\n",
            "\n",
            " 42%|████▏     | 5/12 [07:06<10:42, 91.73s/it]\u001b[A\u001b[A\n",
            "\n",
            " 50%|█████     | 6/12 [09:00<09:49, 98.28s/it]\u001b[A\u001b[A\n",
            "\n",
            " 58%|█████▊    | 7/12 [10:11<07:30, 90.06s/it]\u001b[A\u001b[A\n",
            "\n",
            " 67%|██████▋   | 8/12 [11:19<05:34, 83.68s/it]\u001b[A\u001b[A\n",
            "\n",
            " 75%|███████▌  | 9/12 [11:40<03:13, 64.66s/it]\u001b[A\u001b[A\n",
            "\n",
            " 83%|████████▎ | 10/12 [13:34<02:38, 79.44s/it]\u001b[A\u001b[A\n",
            "\n",
            " 92%|█████████▏| 11/12 [13:51<01:00, 60.79s/it]\u001b[A\u001b[A\n",
            "\n",
            "100%|██████████| 12/12 [14:12<00:00, 48.76s/it]\u001b[A\u001b[A\n",
            "\n",
            "\u001b[A\u001b[A"
          ],
          "name": "stderr"
        }
      ]
    },
    {
      "cell_type": "code",
      "metadata": {
        "id": "6CAD4q2yV5uE",
        "colab_type": "code",
        "outputId": "ac8efc2b-51f2-4080-b565-86e279f9fe38",
        "colab": {
          "base_uri": "https://localhost:8080/",
          "height": 407
        }
      },
      "source": [
        "scan_object.data"
      ],
      "execution_count": 0,
      "outputs": [
        {
          "output_type": "execute_result",
          "data": {
            "text/html": [
              "<div>\n",
              "<style scoped>\n",
              "    .dataframe tbody tr th:only-of-type {\n",
              "        vertical-align: middle;\n",
              "    }\n",
              "\n",
              "    .dataframe tbody tr th {\n",
              "        vertical-align: top;\n",
              "    }\n",
              "\n",
              "    .dataframe thead th {\n",
              "        text-align: right;\n",
              "    }\n",
              "</style>\n",
              "<table border=\"1\" class=\"dataframe\">\n",
              "  <thead>\n",
              "    <tr style=\"text-align: right;\">\n",
              "      <th></th>\n",
              "      <th>round_epochs</th>\n",
              "      <th>val_loss</th>\n",
              "      <th>val_acc</th>\n",
              "      <th>loss</th>\n",
              "      <th>acc</th>\n",
              "      <th>batch_size</th>\n",
              "      <th>dropout</th>\n",
              "      <th>epochs</th>\n",
              "      <th>first_neuron</th>\n",
              "      <th>loss</th>\n",
              "      <th>lr</th>\n",
              "      <th>optimizer</th>\n",
              "      <th>weight_regulizer</th>\n",
              "    </tr>\n",
              "  </thead>\n",
              "  <tbody>\n",
              "    <tr>\n",
              "      <th>0</th>\n",
              "      <td>200</td>\n",
              "      <td>NaN</td>\n",
              "      <td>0.000000</td>\n",
              "      <td>NaN</td>\n",
              "      <td>0.000000</td>\n",
              "      <td>512</td>\n",
              "      <td>0.32</td>\n",
              "      <td>200</td>\n",
              "      <td>128</td>\n",
              "      <td>mean_squared_error</td>\n",
              "      <td>0.64</td>\n",
              "      <td>&lt;class 'keras.optimizers.SGD'&gt;</td>\n",
              "      <td>None</td>\n",
              "    </tr>\n",
              "    <tr>\n",
              "      <th>1</th>\n",
              "      <td>200</td>\n",
              "      <td>1.298564</td>\n",
              "      <td>0.002261</td>\n",
              "      <td>1.345778</td>\n",
              "      <td>0.002215</td>\n",
              "      <td>128</td>\n",
              "      <td>0.16</td>\n",
              "      <td>200</td>\n",
              "      <td>8</td>\n",
              "      <td>mean_squared_error</td>\n",
              "      <td>0.82</td>\n",
              "      <td>&lt;class 'keras.optimizers.SGD'&gt;</td>\n",
              "      <td>None</td>\n",
              "    </tr>\n",
              "    <tr>\n",
              "      <th>2</th>\n",
              "      <td>200</td>\n",
              "      <td>0.764652</td>\n",
              "      <td>0.003552</td>\n",
              "      <td>1.026882</td>\n",
              "      <td>0.003876</td>\n",
              "      <td>128</td>\n",
              "      <td>0.32</td>\n",
              "      <td>200</td>\n",
              "      <td>8</td>\n",
              "      <td>mean_squared_error</td>\n",
              "      <td>0.10</td>\n",
              "      <td>&lt;class 'keras.optimizers.Adam'&gt;</td>\n",
              "      <td>None</td>\n",
              "    </tr>\n",
              "    <tr>\n",
              "      <th>3</th>\n",
              "      <td>200</td>\n",
              "      <td>0.522189</td>\n",
              "      <td>0.004037</td>\n",
              "      <td>0.534029</td>\n",
              "      <td>0.004499</td>\n",
              "      <td>64</td>\n",
              "      <td>0.08</td>\n",
              "      <td>200</td>\n",
              "      <td>128</td>\n",
              "      <td>mean_squared_error</td>\n",
              "      <td>0.10</td>\n",
              "      <td>&lt;class 'keras.optimizers.Adam'&gt;</td>\n",
              "      <td>None</td>\n",
              "    </tr>\n",
              "    <tr>\n",
              "      <th>4</th>\n",
              "      <td>200</td>\n",
              "      <td>0.479186</td>\n",
              "      <td>0.004037</td>\n",
              "      <td>0.523654</td>\n",
              "      <td>0.004638</td>\n",
              "      <td>64</td>\n",
              "      <td>0.12</td>\n",
              "      <td>200</td>\n",
              "      <td>128</td>\n",
              "      <td>mean_squared_error</td>\n",
              "      <td>0.64</td>\n",
              "      <td>&lt;class 'keras.optimizers.Adam'&gt;</td>\n",
              "      <td>None</td>\n",
              "    </tr>\n",
              "    <tr>\n",
              "      <th>5</th>\n",
              "      <td>200</td>\n",
              "      <td>NaN</td>\n",
              "      <td>0.000000</td>\n",
              "      <td>NaN</td>\n",
              "      <td>0.000000</td>\n",
              "      <td>64</td>\n",
              "      <td>0.08</td>\n",
              "      <td>200</td>\n",
              "      <td>300</td>\n",
              "      <td>mean_squared_error</td>\n",
              "      <td>0.46</td>\n",
              "      <td>&lt;class 'keras.optimizers.SGD'&gt;</td>\n",
              "      <td>None</td>\n",
              "    </tr>\n",
              "    <tr>\n",
              "      <th>6</th>\n",
              "      <td>200</td>\n",
              "      <td>1.299154</td>\n",
              "      <td>0.002261</td>\n",
              "      <td>1.353023</td>\n",
              "      <td>0.002215</td>\n",
              "      <td>128</td>\n",
              "      <td>0.28</td>\n",
              "      <td>200</td>\n",
              "      <td>8</td>\n",
              "      <td>mean_squared_error</td>\n",
              "      <td>0.28</td>\n",
              "      <td>&lt;class 'keras.optimizers.Adam'&gt;</td>\n",
              "      <td>None</td>\n",
              "    </tr>\n",
              "    <tr>\n",
              "      <th>7</th>\n",
              "      <td>200</td>\n",
              "      <td>2.126380</td>\n",
              "      <td>0.002584</td>\n",
              "      <td>0.787201</td>\n",
              "      <td>0.002492</td>\n",
              "      <td>128</td>\n",
              "      <td>0.20</td>\n",
              "      <td>200</td>\n",
              "      <td>4</td>\n",
              "      <td>mean_squared_error</td>\n",
              "      <td>0.64</td>\n",
              "      <td>&lt;class 'keras.optimizers.Adam'&gt;</td>\n",
              "      <td>None</td>\n",
              "    </tr>\n",
              "    <tr>\n",
              "      <th>8</th>\n",
              "      <td>200</td>\n",
              "      <td>2.473787</td>\n",
              "      <td>0.002261</td>\n",
              "      <td>7.495024</td>\n",
              "      <td>0.001730</td>\n",
              "      <td>512</td>\n",
              "      <td>0.08</td>\n",
              "      <td>200</td>\n",
              "      <td>4</td>\n",
              "      <td>mean_squared_error</td>\n",
              "      <td>0.64</td>\n",
              "      <td>&lt;class 'keras.optimizers.Adam'&gt;</td>\n",
              "      <td>None</td>\n",
              "    </tr>\n",
              "    <tr>\n",
              "      <th>9</th>\n",
              "      <td>200</td>\n",
              "      <td>1.298719</td>\n",
              "      <td>0.002261</td>\n",
              "      <td>1.345782</td>\n",
              "      <td>0.002215</td>\n",
              "      <td>64</td>\n",
              "      <td>0.04</td>\n",
              "      <td>200</td>\n",
              "      <td>8</td>\n",
              "      <td>mean_squared_error</td>\n",
              "      <td>0.28</td>\n",
              "      <td>&lt;class 'keras.optimizers.SGD'&gt;</td>\n",
              "      <td>None</td>\n",
              "    </tr>\n",
              "    <tr>\n",
              "      <th>10</th>\n",
              "      <td>200</td>\n",
              "      <td>1.298744</td>\n",
              "      <td>0.002261</td>\n",
              "      <td>1.345685</td>\n",
              "      <td>0.002215</td>\n",
              "      <td>512</td>\n",
              "      <td>0.20</td>\n",
              "      <td>200</td>\n",
              "      <td>4</td>\n",
              "      <td>mean_squared_error</td>\n",
              "      <td>0.46</td>\n",
              "      <td>&lt;class 'keras.optimizers.SGD'&gt;</td>\n",
              "      <td>None</td>\n",
              "    </tr>\n",
              "    <tr>\n",
              "      <th>11</th>\n",
              "      <td>200</td>\n",
              "      <td>0.638924</td>\n",
              "      <td>0.003552</td>\n",
              "      <td>1.224816</td>\n",
              "      <td>0.003253</td>\n",
              "      <td>512</td>\n",
              "      <td>0.24</td>\n",
              "      <td>200</td>\n",
              "      <td>128</td>\n",
              "      <td>mean_squared_error</td>\n",
              "      <td>0.28</td>\n",
              "      <td>&lt;class 'keras.optimizers.Adam'&gt;</td>\n",
              "      <td>None</td>\n",
              "    </tr>\n",
              "  </tbody>\n",
              "</table>\n",
              "</div>"
            ],
            "text/plain": [
              "    round_epochs  val_loss  ...                        optimizer  weight_regulizer\n",
              "0            200       NaN  ...   <class 'keras.optimizers.SGD'>              None\n",
              "1            200  1.298564  ...   <class 'keras.optimizers.SGD'>              None\n",
              "2            200  0.764652  ...  <class 'keras.optimizers.Adam'>              None\n",
              "3            200  0.522189  ...  <class 'keras.optimizers.Adam'>              None\n",
              "4            200  0.479186  ...  <class 'keras.optimizers.Adam'>              None\n",
              "5            200       NaN  ...   <class 'keras.optimizers.SGD'>              None\n",
              "6            200  1.299154  ...  <class 'keras.optimizers.Adam'>              None\n",
              "7            200  2.126380  ...  <class 'keras.optimizers.Adam'>              None\n",
              "8            200  2.473787  ...  <class 'keras.optimizers.Adam'>              None\n",
              "9            200  1.298719  ...   <class 'keras.optimizers.SGD'>              None\n",
              "10           200  1.298744  ...   <class 'keras.optimizers.SGD'>              None\n",
              "11           200  0.638924  ...  <class 'keras.optimizers.Adam'>              None\n",
              "\n",
              "[12 rows x 13 columns]"
            ]
          },
          "metadata": {
            "tags": []
          },
          "execution_count": 26
        }
      ]
    },
    {
      "cell_type": "markdown",
      "metadata": {
        "id": "SzAaei8x7ymV",
        "colab_type": "text"
      },
      "source": [
        "## After seeing the results , I decided to modify the scanned parameters. "
      ]
    },
    {
      "cell_type": "code",
      "metadata": {
        "id": "Wr1_2FRTdnhv",
        "colab_type": "code",
        "colab": {}
      },
      "source": [
        "p = {'lr': (0.1,0.7, 5) ,\n",
        "     'first_neuron':[128,256, 512],\n",
        "     'batch_size': [128, 512,1024],\n",
        "     'epochs': [200],\n",
        "     'dropout': (0, 0.30, 5),\n",
        "     'optimizer': [Adam],\n",
        "     'loss': ['mean_squared_error'],\n",
        "     \n",
        "     'weight_regulizer': [None]}"
      ],
      "execution_count": 0,
      "outputs": []
    },
    {
      "cell_type": "code",
      "metadata": {
        "id": "3-y03gf8-ouU",
        "colab_type": "code",
        "colab": {
          "base_uri": "https://localhost:8080/",
          "height": 34
        },
        "outputId": "4bf2a938-1ffd-4876-8023-3613161c1356"
      },
      "source": [
        "scan_object = talos.Scan(x,\n",
        "                         y, \n",
        "                         params=p,\n",
        "                         model=california_model,\n",
        "                         experiment_name='california',\n",
        "                         fraction_limit=.1)"
      ],
      "execution_count": 21,
      "outputs": [
        {
          "output_type": "stream",
          "text": [
            "100%|██████████| 22/22 [10:42<00:00, 35.47s/it]\n"
          ],
          "name": "stderr"
        }
      ]
    },
    {
      "cell_type": "code",
      "metadata": {
        "id": "y3QGBNu0BEt2",
        "colab_type": "code",
        "colab": {
          "base_uri": "https://localhost:8080/",
          "height": 1000
        },
        "outputId": "e1a19245-1cdc-498c-9328-443cf62e850d"
      },
      "source": [
        "scan_object.data"
      ],
      "execution_count": 22,
      "outputs": [
        {
          "output_type": "execute_result",
          "data": {
            "text/html": [
              "<div>\n",
              "<style scoped>\n",
              "    .dataframe tbody tr th:only-of-type {\n",
              "        vertical-align: middle;\n",
              "    }\n",
              "\n",
              "    .dataframe tbody tr th {\n",
              "        vertical-align: top;\n",
              "    }\n",
              "\n",
              "    .dataframe thead th {\n",
              "        text-align: right;\n",
              "    }\n",
              "</style>\n",
              "<table border=\"1\" class=\"dataframe\">\n",
              "  <thead>\n",
              "    <tr style=\"text-align: right;\">\n",
              "      <th></th>\n",
              "      <th>round_epochs</th>\n",
              "      <th>val_loss</th>\n",
              "      <th>val_acc</th>\n",
              "      <th>loss</th>\n",
              "      <th>acc</th>\n",
              "      <th>batch_size</th>\n",
              "      <th>dropout</th>\n",
              "      <th>epochs</th>\n",
              "      <th>first_neuron</th>\n",
              "      <th>loss</th>\n",
              "      <th>lr</th>\n",
              "      <th>optimizer</th>\n",
              "      <th>weight_regulizer</th>\n",
              "    </tr>\n",
              "  </thead>\n",
              "  <tbody>\n",
              "    <tr>\n",
              "      <th>0</th>\n",
              "      <td>200</td>\n",
              "      <td>0.627942</td>\n",
              "      <td>0.003068</td>\n",
              "      <td>0.630347</td>\n",
              "      <td>0.004222</td>\n",
              "      <td>1024</td>\n",
              "      <td>0.00</td>\n",
              "      <td>200</td>\n",
              "      <td>256</td>\n",
              "      <td>mean_squared_error</td>\n",
              "      <td>0.46</td>\n",
              "      <td>&lt;class 'keras.optimizers.Adam'&gt;</td>\n",
              "      <td>None</td>\n",
              "    </tr>\n",
              "    <tr>\n",
              "      <th>1</th>\n",
              "      <td>200</td>\n",
              "      <td>0.533720</td>\n",
              "      <td>0.003875</td>\n",
              "      <td>0.514140</td>\n",
              "      <td>0.003945</td>\n",
              "      <td>512</td>\n",
              "      <td>0.00</td>\n",
              "      <td>200</td>\n",
              "      <td>512</td>\n",
              "      <td>mean_squared_error</td>\n",
              "      <td>0.10</td>\n",
              "      <td>&lt;class 'keras.optimizers.Adam'&gt;</td>\n",
              "      <td>None</td>\n",
              "    </tr>\n",
              "    <tr>\n",
              "      <th>2</th>\n",
              "      <td>200</td>\n",
              "      <td>2.181199</td>\n",
              "      <td>0.002099</td>\n",
              "      <td>580.227590</td>\n",
              "      <td>0.000623</td>\n",
              "      <td>1024</td>\n",
              "      <td>0.06</td>\n",
              "      <td>200</td>\n",
              "      <td>128</td>\n",
              "      <td>mean_squared_error</td>\n",
              "      <td>0.10</td>\n",
              "      <td>&lt;class 'keras.optimizers.Adam'&gt;</td>\n",
              "      <td>None</td>\n",
              "    </tr>\n",
              "    <tr>\n",
              "      <th>3</th>\n",
              "      <td>200</td>\n",
              "      <td>0.576541</td>\n",
              "      <td>0.003552</td>\n",
              "      <td>0.757265</td>\n",
              "      <td>0.003392</td>\n",
              "      <td>512</td>\n",
              "      <td>0.24</td>\n",
              "      <td>200</td>\n",
              "      <td>256</td>\n",
              "      <td>mean_squared_error</td>\n",
              "      <td>0.46</td>\n",
              "      <td>&lt;class 'keras.optimizers.Adam'&gt;</td>\n",
              "      <td>None</td>\n",
              "    </tr>\n",
              "    <tr>\n",
              "      <th>4</th>\n",
              "      <td>200</td>\n",
              "      <td>5.235356</td>\n",
              "      <td>0.001776</td>\n",
              "      <td>592.400666</td>\n",
              "      <td>0.000277</td>\n",
              "      <td>512</td>\n",
              "      <td>0.06</td>\n",
              "      <td>200</td>\n",
              "      <td>128</td>\n",
              "      <td>mean_squared_error</td>\n",
              "      <td>0.10</td>\n",
              "      <td>&lt;class 'keras.optimizers.Adam'&gt;</td>\n",
              "      <td>None</td>\n",
              "    </tr>\n",
              "    <tr>\n",
              "      <th>5</th>\n",
              "      <td>200</td>\n",
              "      <td>1.011881</td>\n",
              "      <td>0.003229</td>\n",
              "      <td>37.006132</td>\n",
              "      <td>0.001384</td>\n",
              "      <td>512</td>\n",
              "      <td>0.12</td>\n",
              "      <td>200</td>\n",
              "      <td>128</td>\n",
              "      <td>mean_squared_error</td>\n",
              "      <td>0.10</td>\n",
              "      <td>&lt;class 'keras.optimizers.Adam'&gt;</td>\n",
              "      <td>None</td>\n",
              "    </tr>\n",
              "    <tr>\n",
              "      <th>6</th>\n",
              "      <td>200</td>\n",
              "      <td>0.689052</td>\n",
              "      <td>0.003229</td>\n",
              "      <td>8.957606</td>\n",
              "      <td>0.002700</td>\n",
              "      <td>512</td>\n",
              "      <td>0.06</td>\n",
              "      <td>200</td>\n",
              "      <td>512</td>\n",
              "      <td>mean_squared_error</td>\n",
              "      <td>0.22</td>\n",
              "      <td>&lt;class 'keras.optimizers.Adam'&gt;</td>\n",
              "      <td>None</td>\n",
              "    </tr>\n",
              "    <tr>\n",
              "      <th>7</th>\n",
              "      <td>200</td>\n",
              "      <td>1.345689</td>\n",
              "      <td>0.002584</td>\n",
              "      <td>1.568919</td>\n",
              "      <td>0.002700</td>\n",
              "      <td>512</td>\n",
              "      <td>0.00</td>\n",
              "      <td>200</td>\n",
              "      <td>256</td>\n",
              "      <td>mean_squared_error</td>\n",
              "      <td>0.46</td>\n",
              "      <td>&lt;class 'keras.optimizers.Adam'&gt;</td>\n",
              "      <td>None</td>\n",
              "    </tr>\n",
              "    <tr>\n",
              "      <th>8</th>\n",
              "      <td>200</td>\n",
              "      <td>0.591509</td>\n",
              "      <td>0.003391</td>\n",
              "      <td>0.777561</td>\n",
              "      <td>0.004015</td>\n",
              "      <td>512</td>\n",
              "      <td>0.06</td>\n",
              "      <td>200</td>\n",
              "      <td>512</td>\n",
              "      <td>mean_squared_error</td>\n",
              "      <td>0.46</td>\n",
              "      <td>&lt;class 'keras.optimizers.Adam'&gt;</td>\n",
              "      <td>None</td>\n",
              "    </tr>\n",
              "    <tr>\n",
              "      <th>9</th>\n",
              "      <td>200</td>\n",
              "      <td>0.578754</td>\n",
              "      <td>0.003875</td>\n",
              "      <td>0.563578</td>\n",
              "      <td>0.003876</td>\n",
              "      <td>1024</td>\n",
              "      <td>0.00</td>\n",
              "      <td>200</td>\n",
              "      <td>256</td>\n",
              "      <td>mean_squared_error</td>\n",
              "      <td>0.22</td>\n",
              "      <td>&lt;class 'keras.optimizers.Adam'&gt;</td>\n",
              "      <td>None</td>\n",
              "    </tr>\n",
              "    <tr>\n",
              "      <th>10</th>\n",
              "      <td>200</td>\n",
              "      <td>0.586965</td>\n",
              "      <td>0.003714</td>\n",
              "      <td>0.579580</td>\n",
              "      <td>0.003738</td>\n",
              "      <td>1024</td>\n",
              "      <td>0.00</td>\n",
              "      <td>200</td>\n",
              "      <td>128</td>\n",
              "      <td>mean_squared_error</td>\n",
              "      <td>0.46</td>\n",
              "      <td>&lt;class 'keras.optimizers.Adam'&gt;</td>\n",
              "      <td>None</td>\n",
              "    </tr>\n",
              "    <tr>\n",
              "      <th>11</th>\n",
              "      <td>200</td>\n",
              "      <td>0.765298</td>\n",
              "      <td>0.003068</td>\n",
              "      <td>2.646452</td>\n",
              "      <td>0.003046</td>\n",
              "      <td>512</td>\n",
              "      <td>0.06</td>\n",
              "      <td>200</td>\n",
              "      <td>128</td>\n",
              "      <td>mean_squared_error</td>\n",
              "      <td>0.46</td>\n",
              "      <td>&lt;class 'keras.optimizers.Adam'&gt;</td>\n",
              "      <td>None</td>\n",
              "    </tr>\n",
              "    <tr>\n",
              "      <th>12</th>\n",
              "      <td>200</td>\n",
              "      <td>0.925974</td>\n",
              "      <td>0.003229</td>\n",
              "      <td>1.368790</td>\n",
              "      <td>0.002769</td>\n",
              "      <td>512</td>\n",
              "      <td>0.12</td>\n",
              "      <td>200</td>\n",
              "      <td>256</td>\n",
              "      <td>mean_squared_error</td>\n",
              "      <td>0.46</td>\n",
              "      <td>&lt;class 'keras.optimizers.Adam'&gt;</td>\n",
              "      <td>None</td>\n",
              "    </tr>\n",
              "    <tr>\n",
              "      <th>13</th>\n",
              "      <td>200</td>\n",
              "      <td>0.552918</td>\n",
              "      <td>0.003714</td>\n",
              "      <td>0.619030</td>\n",
              "      <td>0.003738</td>\n",
              "      <td>128</td>\n",
              "      <td>0.18</td>\n",
              "      <td>200</td>\n",
              "      <td>256</td>\n",
              "      <td>mean_squared_error</td>\n",
              "      <td>0.10</td>\n",
              "      <td>&lt;class 'keras.optimizers.Adam'&gt;</td>\n",
              "      <td>None</td>\n",
              "    </tr>\n",
              "    <tr>\n",
              "      <th>14</th>\n",
              "      <td>200</td>\n",
              "      <td>1.228382</td>\n",
              "      <td>0.002099</td>\n",
              "      <td>342.121204</td>\n",
              "      <td>0.000692</td>\n",
              "      <td>1024</td>\n",
              "      <td>0.24</td>\n",
              "      <td>200</td>\n",
              "      <td>512</td>\n",
              "      <td>mean_squared_error</td>\n",
              "      <td>0.10</td>\n",
              "      <td>&lt;class 'keras.optimizers.Adam'&gt;</td>\n",
              "      <td>None</td>\n",
              "    </tr>\n",
              "    <tr>\n",
              "      <th>15</th>\n",
              "      <td>200</td>\n",
              "      <td>0.873557</td>\n",
              "      <td>0.003068</td>\n",
              "      <td>5.154623</td>\n",
              "      <td>0.002700</td>\n",
              "      <td>512</td>\n",
              "      <td>0.12</td>\n",
              "      <td>200</td>\n",
              "      <td>256</td>\n",
              "      <td>mean_squared_error</td>\n",
              "      <td>0.22</td>\n",
              "      <td>&lt;class 'keras.optimizers.Adam'&gt;</td>\n",
              "      <td>None</td>\n",
              "    </tr>\n",
              "    <tr>\n",
              "      <th>16</th>\n",
              "      <td>200</td>\n",
              "      <td>0.517422</td>\n",
              "      <td>0.004844</td>\n",
              "      <td>0.547522</td>\n",
              "      <td>0.004568</td>\n",
              "      <td>512</td>\n",
              "      <td>0.00</td>\n",
              "      <td>200</td>\n",
              "      <td>256</td>\n",
              "      <td>mean_squared_error</td>\n",
              "      <td>0.58</td>\n",
              "      <td>&lt;class 'keras.optimizers.Adam'&gt;</td>\n",
              "      <td>None</td>\n",
              "    </tr>\n",
              "    <tr>\n",
              "      <th>17</th>\n",
              "      <td>200</td>\n",
              "      <td>0.937496</td>\n",
              "      <td>0.002422</td>\n",
              "      <td>32.431702</td>\n",
              "      <td>0.001384</td>\n",
              "      <td>512</td>\n",
              "      <td>0.12</td>\n",
              "      <td>200</td>\n",
              "      <td>512</td>\n",
              "      <td>mean_squared_error</td>\n",
              "      <td>0.10</td>\n",
              "      <td>&lt;class 'keras.optimizers.Adam'&gt;</td>\n",
              "      <td>None</td>\n",
              "    </tr>\n",
              "    <tr>\n",
              "      <th>18</th>\n",
              "      <td>200</td>\n",
              "      <td>0.458007</td>\n",
              "      <td>0.004844</td>\n",
              "      <td>0.514162</td>\n",
              "      <td>0.003738</td>\n",
              "      <td>128</td>\n",
              "      <td>0.18</td>\n",
              "      <td>200</td>\n",
              "      <td>512</td>\n",
              "      <td>mean_squared_error</td>\n",
              "      <td>0.58</td>\n",
              "      <td>&lt;class 'keras.optimizers.Adam'&gt;</td>\n",
              "      <td>None</td>\n",
              "    </tr>\n",
              "    <tr>\n",
              "      <th>19</th>\n",
              "      <td>200</td>\n",
              "      <td>0.592344</td>\n",
              "      <td>0.003391</td>\n",
              "      <td>1.015934</td>\n",
              "      <td>0.003322</td>\n",
              "      <td>512</td>\n",
              "      <td>0.24</td>\n",
              "      <td>200</td>\n",
              "      <td>256</td>\n",
              "      <td>mean_squared_error</td>\n",
              "      <td>0.34</td>\n",
              "      <td>&lt;class 'keras.optimizers.Adam'&gt;</td>\n",
              "      <td>None</td>\n",
              "    </tr>\n",
              "    <tr>\n",
              "      <th>20</th>\n",
              "      <td>200</td>\n",
              "      <td>0.453371</td>\n",
              "      <td>0.005006</td>\n",
              "      <td>0.503797</td>\n",
              "      <td>0.004430</td>\n",
              "      <td>128</td>\n",
              "      <td>0.12</td>\n",
              "      <td>200</td>\n",
              "      <td>256</td>\n",
              "      <td>mean_squared_error</td>\n",
              "      <td>0.34</td>\n",
              "      <td>&lt;class 'keras.optimizers.Adam'&gt;</td>\n",
              "      <td>None</td>\n",
              "    </tr>\n",
              "    <tr>\n",
              "      <th>21</th>\n",
              "      <td>200</td>\n",
              "      <td>1.173375</td>\n",
              "      <td>0.002099</td>\n",
              "      <td>111.072551</td>\n",
              "      <td>0.000969</td>\n",
              "      <td>1024</td>\n",
              "      <td>0.18</td>\n",
              "      <td>200</td>\n",
              "      <td>128</td>\n",
              "      <td>mean_squared_error</td>\n",
              "      <td>0.22</td>\n",
              "      <td>&lt;class 'keras.optimizers.Adam'&gt;</td>\n",
              "      <td>None</td>\n",
              "    </tr>\n",
              "  </tbody>\n",
              "</table>\n",
              "</div>"
            ],
            "text/plain": [
              "    round_epochs  val_loss  ...                        optimizer  weight_regulizer\n",
              "0            200  0.627942  ...  <class 'keras.optimizers.Adam'>              None\n",
              "1            200  0.533720  ...  <class 'keras.optimizers.Adam'>              None\n",
              "2            200  2.181199  ...  <class 'keras.optimizers.Adam'>              None\n",
              "3            200  0.576541  ...  <class 'keras.optimizers.Adam'>              None\n",
              "4            200  5.235356  ...  <class 'keras.optimizers.Adam'>              None\n",
              "5            200  1.011881  ...  <class 'keras.optimizers.Adam'>              None\n",
              "6            200  0.689052  ...  <class 'keras.optimizers.Adam'>              None\n",
              "7            200  1.345689  ...  <class 'keras.optimizers.Adam'>              None\n",
              "8            200  0.591509  ...  <class 'keras.optimizers.Adam'>              None\n",
              "9            200  0.578754  ...  <class 'keras.optimizers.Adam'>              None\n",
              "10           200  0.586965  ...  <class 'keras.optimizers.Adam'>              None\n",
              "11           200  0.765298  ...  <class 'keras.optimizers.Adam'>              None\n",
              "12           200  0.925974  ...  <class 'keras.optimizers.Adam'>              None\n",
              "13           200  0.552918  ...  <class 'keras.optimizers.Adam'>              None\n",
              "14           200  1.228382  ...  <class 'keras.optimizers.Adam'>              None\n",
              "15           200  0.873557  ...  <class 'keras.optimizers.Adam'>              None\n",
              "16           200  0.517422  ...  <class 'keras.optimizers.Adam'>              None\n",
              "17           200  0.937496  ...  <class 'keras.optimizers.Adam'>              None\n",
              "18           200  0.458007  ...  <class 'keras.optimizers.Adam'>              None\n",
              "19           200  0.592344  ...  <class 'keras.optimizers.Adam'>              None\n",
              "20           200  0.453371  ...  <class 'keras.optimizers.Adam'>              None\n",
              "21           200  1.173375  ...  <class 'keras.optimizers.Adam'>              None\n",
              "\n",
              "[22 rows x 13 columns]"
            ]
          },
          "metadata": {
            "tags": []
          },
          "execution_count": 22
        }
      ]
    },
    {
      "cell_type": "code",
      "metadata": {
        "id": "Rnm93IuiBU5n",
        "colab_type": "code",
        "colab": {
          "base_uri": "https://localhost:8080/",
          "height": 34
        },
        "outputId": "2204ebfa-b648-4ff7-8078-dd9922c8ee33"
      },
      "source": [
        "analyze_object = talos.Analyze(scan_object)\n",
        "analyze_object.low('val_loss')"
      ],
      "execution_count": 26,
      "outputs": [
        {
          "output_type": "execute_result",
          "data": {
            "text/plain": [
              "0.453370826758881"
            ]
          },
          "metadata": {
            "tags": []
          },
          "execution_count": 26
        }
      ]
    },
    {
      "cell_type": "code",
      "metadata": {
        "id": "aL0BARe7IVKk",
        "colab_type": "code",
        "colab": {}
      },
      "source": [
        ""
      ],
      "execution_count": 0,
      "outputs": []
    },
    {
      "cell_type": "markdown",
      "metadata": {
        "id": "ZgWGJsboJpu6",
        "colab_type": "text"
      },
      "source": [
        "## Best Parameters out of tried ones  for val_accuracy =0.453 and training_acc=0.503  are 128 batch_size , 0.18 for dropout ,512 neurons, 0.58 for learning rate , Adam for optimizer .\n"
      ]
    },
    {
      "cell_type": "code",
      "metadata": {
        "id": "IGWFYXqjL3XA",
        "colab_type": "code",
        "colab": {}
      },
      "source": [
        ""
      ],
      "execution_count": 0,
      "outputs": []
    }
  ]
}